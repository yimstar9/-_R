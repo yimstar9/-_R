{
  "nbformat": 4,
  "nbformat_minor": 0,
  "metadata": {
    "colab": {
      "provenance": [],
      "authorship_tag": "ABX9TyOHsCLwMHQFrCRC1SQ2S1I7",
      "include_colab_link": true
    },
    "kernelspec": {
      "name": "ir",
      "display_name": "R"
    },
    "language_info": {
      "name": "R"
    }
  },
  "cells": [
    {
      "cell_type": "markdown",
      "metadata": {
        "id": "view-in-github",
        "colab_type": "text"
      },
      "source": [
        "<a href=\"https://colab.research.google.com/github/yimstar9/Engineer-Big-Data-Analysis_R/blob/main/%5BR%5D_T1_24_Time_Series5_%EC%8B%9C%EC%B0%A8_%EB%8D%B0%EC%9D%B4%ED%84%B0_%EC%83%9D%EC%84%B1.ipynb\" target=\"_parent\"><img src=\"https://colab.research.google.com/assets/colab-badge.svg\" alt=\"Open In Colab\"/></a>"
      ]
    },
    {
      "cell_type": "code",
      "execution_count": 4,
      "metadata": {
        "colab": {
          "base_uri": "https://localhost:8080/",
          "height": 164
        },
        "id": "auWM8UJ4LenM",
        "outputId": "ee84518b-12db-4d84-f163-a4da252a1e2c"
      },
      "outputs": [
        {
          "output_type": "display_data",
          "data": {
            "text/html": [
              "<table class=\"dataframe\">\n",
              "<caption>A data.frame: 1 × 1</caption>\n",
              "<thead>\n",
              "\t<tr><th scope=col>value</th></tr>\n",
              "\t<tr><th scope=col>&lt;int&gt;</th></tr>\n",
              "</thead>\n",
              "<tbody>\n",
              "\t<tr><td>1894876</td></tr>\n",
              "</tbody>\n",
              "</table>\n"
            ],
            "text/markdown": "\nA data.frame: 1 × 1\n\n| value &lt;int&gt; |\n|---|\n| 1894876 |\n\n",
            "text/latex": "A data.frame: 1 × 1\n\\begin{tabular}{l}\n value\\\\\n <int>\\\\\n\\hline\n\t 1894876\\\\\n\\end{tabular}\n",
            "text/plain": [
              "  value  \n",
              "1 1894876"
            ]
          },
          "metadata": {}
        }
      ],
      "source": [
        "### 주어진 데이터(basic2.csv)에서 새로운 컬럼(1일 이전 시차 컬럼)을 만들고, Events가 1이면서 Sales가 1000000이하인 조건에 맞는 새로운 컬럼 합을 구하시오\n",
        "### 데이터셋 : basic2.csv\n",
        "### 오른쪽 상단 copy&edit 클릭 -> 예상문제 풀이 시작\n",
        "df<-read.csv('basic2.csv')\n",
        "library(dplyr)\n",
        "library(data.table)\n",
        "df %>% mutate(la=shift(PV,1))%>% filter(Events==1 & Sales<=1000000) %>% summarise(value=sum(la))"
      ]
    }
  ]
}