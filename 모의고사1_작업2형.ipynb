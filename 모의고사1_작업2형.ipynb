{
  "nbformat": 4,
  "nbformat_minor": 0,
  "metadata": {
    "colab": {
      "provenance": [],
      "authorship_tag": "ABX9TyNPjh8KnuGTJEqaBPzYU7O7",
      "include_colab_link": true
    },
    "kernelspec": {
      "name": "ir",
      "display_name": "R"
    },
    "language_info": {
      "name": "R"
    }
  },
  "cells": [
    {
      "cell_type": "markdown",
      "metadata": {
        "id": "view-in-github",
        "colab_type": "text"
      },
      "source": [
        "<a href=\"https://colab.research.google.com/github/yimstar9/Engineer-Big-Data-Analysis_R/blob/main/%EB%AA%A8%EC%9D%98%EA%B3%A0%EC%82%AC1_%EC%9E%91%EC%97%852%ED%98%95.ipynb\" target=\"_parent\"><img src=\"https://colab.research.google.com/assets/colab-badge.svg\" alt=\"Open In Colab\"/></a>"
      ]
    },
    {
      "cell_type": "code",
      "execution_count": null,
      "metadata": {
        "id": "gzedIxmPlHSs"
      },
      "outputs": [],
      "source": [
        "#https://www.kaggle.com/code/agileteam/mock-exam-t2-baseline-tutorial\n",
        "\n",
        "\n",
        "################## 시험 안내 문구 및 코드 ##################\n",
        "# 출력을 원하실 경우 print() 함수 활용\n",
        "# 예시) print(df.head())\n",
        "\n",
        "# getcwd(), chdir() 등 작업 폴더 설정 불필요\n",
        "# 파일 경로 상 내부 드라이브 경로(C: 등) 접근 불가\n",
        "\n",
        "# 데이터 파일 읽기 예제\n",
        "library(dplyr)\n",
        "library(randomForest)\n",
        "library(caret)\n",
        "library(ModelMetrics)\n",
        "\n",
        "o_X_test <-read.csv(\"../input/hr-data/X_test.csv\")\n",
        "X_train <- read.csv(\"../input/hr-data/X_train.csv\")\n",
        "y_train <- read.csv(\"../input/hr-data/y_train.csv\")\n",
        "\n",
        "# 사용자 코딩\n",
        "\n",
        "\n",
        "##\n",
        "X_train<-merge(X_train,y_train,by='enrollee_id')\n",
        "#head(X_train)\n",
        "#str(y_train)\n",
        "\n",
        "X_train<-X_train[,-c(1,2)]\n",
        "X_test<-o_X_test[,-c(1,2)]\n",
        "\n",
        "\n",
        "#레벨 불일치 통일\n",
        "X_test<-X_test%>%mutate(company_size=ifelse(company_size==\"10000\",\"10000+\",company_size))\n",
        "\n",
        "X_train<-X_train%>%mutate_if(is.character,as.factor)\n",
        "X_test<-X_test%>%mutate_if(is.character,as.factor)\n",
        "X_train$target<-as.factor(X_train$target)\n",
        "#str(x_train)\n",
        "#levels(x_train$company_size)\n",
        "#levels(x_test$company_size)\n",
        "\n",
        "\n",
        "idx<-sample(1:nrow(X_train),0.7*nrow(X_train))\n",
        "x_train<-X_train[idx,]\n",
        "x_test<-X_train[-idx,]\n",
        "#head(x_test)\n",
        "\n",
        "# m_rf<- randomForest(target~.,x_train,ntree=200)\n",
        "# importance(m_rf)\n",
        "# p_rf<-predict(m_rf,x_test)\n",
        "# auc(p_rf,x_test$target)\n",
        "\n",
        "m_rf<- randomForest(target~.,X_train,ntree=250)\n",
        "p_rf<-predict(m_rf,X_test)\n",
        "result<-cbind(as.character(o_X_test$enrollee_id),as.character(p_rf))\n",
        "colnames(result)<-c(\"enrollee_id\",\"target\")\n",
        "write.csv(result,\"009.csv\",row.names=F)\n",
        "zz<-read.csv(\"009.csv\")\n",
        "head(zz,10)\n"
      ]
    }
  ]
}