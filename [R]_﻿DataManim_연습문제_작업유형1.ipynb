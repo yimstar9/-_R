{
  "nbformat": 4,
  "nbformat_minor": 0,
  "metadata": {
    "colab": {
      "provenance": [],
      "collapsed_sections": [],
      "authorship_tag": "ABX9TyNVuC6IDtxYdcrb0sxO6uO7",
      "include_colab_link": true
    },
    "kernelspec": {
      "name": "ir",
      "display_name": "R"
    },
    "language_info": {
      "name": "R"
    }
  },
  "cells": [
    {
      "cell_type": "markdown",
      "metadata": {
        "id": "view-in-github",
        "colab_type": "text"
      },
      "source": [
        "<a href=\"https://colab.research.google.com/github/yimstar9/Engineer-Big-Data-Analysis_R/blob/main/%5BR%5D_%EF%BB%BFDataManim_%EC%97%B0%EC%8A%B5%EB%AC%B8%EC%A0%9C_%EC%9E%91%EC%97%85%EC%9C%A0%ED%98%951.ipynb\" target=\"_parent\"><img src=\"https://colab.research.google.com/assets/colab-badge.svg\" alt=\"Open In Colab\"/></a>"
      ]
    },
    {
      "cell_type": "code",
      "execution_count": 20,
      "metadata": {
        "colab": {
          "base_uri": "https://localhost:8080/",
          "height": 34
        },
        "id": "_psMfk6f3hTn",
        "outputId": "5d9a3a9d-b40d-49dc-8984-31ca77c2ec0b"
      },
      "outputs": [
        {
          "output_type": "display_data",
          "data": {
            "text/html": [
              "30"
            ],
            "text/markdown": "30",
            "text/latex": "30",
            "text/plain": [
              "[1] 30"
            ]
          },
          "metadata": {}
        }
      ],
      "source": [
        "#Question1\n",
        "#마케팅 응답 고객들의 나이를 10살 단위로 변환 했을 때, 가장 많은 인원을 가진 나이대는? (0~9 : 0 , 10~19 : 10)\n",
        "library(dplyr)\n",
        "df<-read.csv('https://raw.githubusercontent.com/Datamanim/datarepo/main/bank/train.csv')\n",
        "df1<-df%>%mutate(pre_age=(age%/%10)*10)%>%count(pre_age)\n",
        "df1[which.max(df1$n),1]\n"
      ]
    },
    {
      "cell_type": "code",
      "source": [
        "#Question2\n",
        "#마케팅 응답 고객들의 나이를 10살 단위로 변환 했을 때, 가장 많은 나이대 구간의 인원은 몇명인가?\n",
        "library(dplyr)\n",
        "df<-read.csv('https://raw.githubusercontent.com/Datamanim/datarepo/main/bank/train.csv')\n",
        "df1<-df%>%mutate(pre_age=(age%/%10)*10)%>%count(pre_age)\n",
        "max(df1$n)"
      ],
      "metadata": {
        "colab": {
          "base_uri": "https://localhost:8080/",
          "height": 34
        },
        "id": "58nnXBvW7_vU",
        "outputId": "f22df6c2-cfcd-4464-9bf9-7ce7b64a18d8"
      },
      "execution_count": 21,
      "outputs": [
        {
          "output_type": "display_data",
          "data": {
            "text/html": [
              "5056"
            ],
            "text/markdown": "5056",
            "text/latex": "5056",
            "text/plain": [
              "[1] 5056"
            ]
          },
          "metadata": {}
        }
      ]
    },
    {
      "cell_type": "code",
      "source": [
        "#Question3\n",
        "#나이가 25살 이상 29살 미만인 응답 고객들중 housing컬럼의 값이 yes인 고객의 수는?\n",
        "library(dplyr)\n",
        "df<-read.csv('https://raw.githubusercontent.com/Datamanim/datarepo/main/bank/train.csv')\n",
        "df1<-df%>%filter(age>=25&age<29)%>%filter(housing=='yes')\n",
        "nrow(df1)"
      ],
      "metadata": {
        "colab": {
          "base_uri": "https://localhost:8080/",
          "height": 34
        },
        "id": "clVXj9Ia8Zy1",
        "outputId": "35b9f909-b624-4c4d-cea1-a15023f734b7"
      },
      "execution_count": 26,
      "outputs": [
        {
          "output_type": "display_data",
          "data": {
            "text/html": [
              "504"
            ],
            "text/markdown": "504",
            "text/latex": "504",
            "text/plain": [
              "[1] 504"
            ]
          },
          "metadata": {}
        }
      ]
    },
    {
      "cell_type": "code",
      "source": [
        "#Question4\n",
        "#numeric한 값을 가지지 않은 컬럼들중 unique한 값을 가장 많이 가지는 컬럼은?\n",
        "library(dplyr)\n",
        "df<-read.csv('https://raw.githubusercontent.com/Datamanim/datarepo/main/bank/train.csv')\n",
        "df1<-df[!(sapply(df,is.numeric))]\n",
        "maxn<-df1%>%apply(2,n_distinct)\n",
        "names(which.max(maxn))"
      ],
      "metadata": {
        "colab": {
          "base_uri": "https://localhost:8080/",
          "height": 34
        },
        "id": "JGmU645Z8_O4",
        "outputId": "c6e735ef-075a-4b8f-ba16-ee4e4055af95"
      },
      "execution_count": 115,
      "outputs": [
        {
          "output_type": "display_data",
          "data": {
            "text/html": [
              "'job'"
            ],
            "text/markdown": "'job'",
            "text/latex": "'job'",
            "text/plain": [
              "[1] \"job\""
            ]
          },
          "metadata": {}
        }
      ]
    },
    {
      "cell_type": "code",
      "source": [
        "#Question5\n",
        "#balance 컬럼값들의 평균값 이상을 가지는 데이터를 ID값을 기준으로 내림차순 정렬했을때 상위 100개 데이터의 balance값의 평균은?\n",
        "library(dplyr)\n",
        "df<-read.csv('https://raw.githubusercontent.com/Datamanim/datarepo/main/bank/train.csv')\n",
        "a<-df%>%filter(balance>=mean(balance,na.rm=T))%>%arrange(-ID)%>%slice(1:100)%>%dplyr::select(balance)\n",
        "mean(a$balance,na.rm=T)\n"
      ],
      "metadata": {
        "colab": {
          "base_uri": "https://localhost:8080/",
          "height": 34
        },
        "id": "atJ-HH-WM2ei",
        "outputId": "10c44fcb-beb4-4514-8846-b2e758c22ca9"
      },
      "execution_count": 136,
      "outputs": [
        {
          "output_type": "display_data",
          "data": {
            "text/html": [
              "3473.73"
            ],
            "text/markdown": "3473.73",
            "text/latex": "3473.73",
            "text/plain": [
              "[1] 3473.73"
            ]
          },
          "metadata": {}
        }
      ]
    },
    {
      "cell_type": "code",
      "source": [
        "#Question6\n",
        "#가장 많은 광고를 집행했던 날짜는 언제인가? (데이터 그대로 일(숫자),달(영문)으로 표기)\n",
        "library(dplyr)\n",
        "df<-read.csv('https://raw.githubusercontent.com/Datamanim/datarepo/main/bank/train.csv')\n",
        "df1<-df%>%group_by(day,month)%>%summarise(n=n())\n",
        "result<-df1[(which.max(df1$n)),]\n",
        "cat(result$day,result$month)"
      ],
      "metadata": {
        "colab": {
          "base_uri": "https://localhost:8080/"
        },
        "id": "3cCsg-W7fFsV",
        "outputId": "e742f60b-ad9e-4d74-ba80-07413133e093"
      },
      "execution_count": 221,
      "outputs": [
        {
          "output_type": "stream",
          "name": "stderr",
          "text": [
            "\u001b[1m\u001b[22m`summarise()` has grouped output by 'day'. You can override using the `.groups`\n",
            "argument.\n"
          ]
        },
        {
          "output_type": "stream",
          "name": "stdout",
          "text": [
            "15 may"
          ]
        }
      ]
    },
    {
      "cell_type": "code",
      "source": [
        "#Question7\n",
        "#데이터의 job이 unknown 상태인 고객들의 age 컬럼 값의 정규성을 검정하고자 한다. 샤피로 검정의 p-value값을 구하여라\n",
        "library(dplyr)\n",
        "df<-read.csv('https://raw.githubusercontent.com/Datamanim/datarepo/main/bank/train.csv')\n",
        "df1<-df%>%filter(job=='unknown')\n",
        "shapiro.test(df1$age)$p.value"
      ],
      "metadata": {
        "colab": {
          "base_uri": "https://localhost:8080/",
          "height": 34
        },
        "id": "gPdDB45optHO",
        "outputId": "b7a1163b-8e0b-40c2-f81c-159e7bfb97f9"
      },
      "execution_count": 247,
      "outputs": [
        {
          "output_type": "display_data",
          "data": {
            "text/html": [
              "0.196122361062088"
            ],
            "text/markdown": "0.196122361062088",
            "text/latex": "0.196122361062088",
            "text/plain": [
              "[1] 0.1961224"
            ]
          },
          "metadata": {}
        }
      ]
    },
    {
      "cell_type": "code",
      "source": [
        "#Question8\n",
        "#age와 balance의 상관계수를 구하여라\n",
        "library(dplyr)\n",
        "df<-read.csv('https://raw.githubusercontent.com/Datamanim/datarepo/main/bank/train.csv')\n",
        "cor(df$age,df$balance)"
      ],
      "metadata": {
        "colab": {
          "base_uri": "https://localhost:8080/",
          "height": 34
        },
        "id": "1qNISj1ArqSU",
        "outputId": "ed6ceae6-d67d-4dac-aec2-d37c72997f23"
      },
      "execution_count": 251,
      "outputs": [
        {
          "output_type": "display_data",
          "data": {
            "text/html": [
              "0.101987347639815"
            ],
            "text/markdown": "0.101987347639815",
            "text/latex": "0.101987347639815",
            "text/plain": [
              "[1] 0.1019873"
            ]
          },
          "metadata": {}
        }
      ]
    },
    {
      "cell_type": "code",
      "source": [
        "#Question9\n",
        "#y 변수와 education 변수는 독립인지 카이제곱검정을 통해 확인하려한다. p-value값을 출력하라\n",
        "library(dplyr)\n",
        "df<-read.csv('https://raw.githubusercontent.com/Datamanim/datarepo/main/bank/train.csv')\n",
        "chisq.test(df$y,df$education)$p.value"
      ],
      "metadata": {
        "colab": {
          "base_uri": "https://localhost:8080/",
          "height": 34
        },
        "id": "W3GSArIjsQxk",
        "outputId": "70c7fa9a-1b21-4dd7-b08c-8a2547da62f9"
      },
      "execution_count": 252,
      "outputs": [
        {
          "output_type": "display_data",
          "data": {
            "text/html": [
              "7.90120127747357e-29"
            ],
            "text/markdown": "7.90120127747357e-29",
            "text/latex": "7.90120127747357e-29",
            "text/plain": [
              "[1] 7.901201e-29"
            ]
          },
          "metadata": {}
        }
      ]
    },
    {
      "cell_type": "code",
      "source": [
        "#Question10\n",
        "#각 job에 따라 divorced/married 인원의 비율을 확인 했을 때 그 값이 가장 높은 값은?\n",
        "library(dplyr)\n",
        "library(reshape2)\n",
        "df<-read.csv('https://raw.githubusercontent.com/Datamanim/datarepo/main/bank/train.csv')\n",
        "ans<-df%>%group_by(job,marital)%>%summarise(n=table(marital))%>%dcast(job~marital)%>%mutate(rat=divorced/married,na.rm=T)\n",
        "max(ans$rat,na.rm=T)"
      ],
      "metadata": {
        "colab": {
          "base_uri": "https://localhost:8080/",
          "height": 108
        },
        "id": "BpBMe4fMswyq",
        "outputId": "0548071a-5878-41f1-8098-1b69055b81af"
      },
      "execution_count": 279,
      "outputs": [
        {
          "output_type": "stream",
          "name": "stderr",
          "text": [
            "\u001b[1m\u001b[22m`summarise()` has grouped output by 'job'. You can override using the `.groups`\n",
            "argument.\n",
            "Using n as value column: use value.var to override.\n",
            "\n"
          ]
        },
        {
          "output_type": "display_data",
          "data": {
            "text/html": [
              "0.28310502283105"
            ],
            "text/markdown": "0.28310502283105",
            "text/latex": "0.28310502283105",
            "text/plain": [
              "[1] 0.283105"
            ]
          },
          "metadata": {}
        }
      ]
    }
  ]
}