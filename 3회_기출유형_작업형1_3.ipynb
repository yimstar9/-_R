{
  "nbformat": 4,
  "nbformat_minor": 0,
  "metadata": {
    "colab": {
      "provenance": [],
      "authorship_tag": "ABX9TyMG53zhHZySL+3a7TkQbx3z",
      "include_colab_link": true
    },
    "kernelspec": {
      "name": "ir",
      "display_name": "R"
    },
    "language_info": {
      "name": "R"
    }
  },
  "cells": [
    {
      "cell_type": "markdown",
      "metadata": {
        "id": "view-in-github",
        "colab_type": "text"
      },
      "source": [
        "<a href=\"https://colab.research.google.com/github/yimstar9/Engineer-Big-Data-Analysis_R/blob/main/3%ED%9A%8C_%EA%B8%B0%EC%B6%9C%EC%9C%A0%ED%98%95_%EC%9E%91%EC%97%85%ED%98%951_3.ipynb\" target=\"_parent\"><img src=\"https://colab.research.google.com/assets/colab-badge.svg\" alt=\"Open In Colab\"/></a>"
      ]
    },
    {
      "cell_type": "code",
      "execution_count": 27,
      "metadata": {
        "colab": {
          "base_uri": "https://localhost:8080/",
          "height": 34
        },
        "id": "GHxJemINHyzA",
        "outputId": "bb29445f-765c-4f95-f977-9412b57b273f"
      },
      "outputs": [
        {
          "output_type": "display_data",
          "data": {
            "text/html": [
              "'f1'"
            ],
            "text/markdown": "'f1'",
            "text/latex": "'f1'",
            "text/plain": [
              "[1] \"f1\""
            ]
          },
          "metadata": {}
        }
      ],
      "source": [
        "#https://www.kaggle.com/code/ptr8190/3rd-type1-3-3-1-3\n",
        "df<-read.csv('t1-data1.csv')\n",
        "ans<-is.na(df[,])\n",
        "sum<-colSums(ans)\n",
        "names(which.max(sum))"
      ]
    }
  ]
}