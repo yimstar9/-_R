{
  "nbformat": 4,
  "nbformat_minor": 0,
  "metadata": {
    "colab": {
      "provenance": [],
      "authorship_tag": "ABX9TyOjqc8UUKSGjMyVfeLo8yHW",
      "include_colab_link": true
    },
    "kernelspec": {
      "name": "ir",
      "display_name": "R"
    },
    "language_info": {
      "name": "R"
    }
  },
  "cells": [
    {
      "cell_type": "markdown",
      "metadata": {
        "id": "view-in-github",
        "colab_type": "text"
      },
      "source": [
        "<a href=\"https://colab.research.google.com/github/yimstar9/Engineer-Big-Data-Analysis_R/blob/main/%5B%EC%88%98%EC%A0%9C%EB%B9%84_%EA%B8%B0%EC%B6%9C%5D_%EC%9E%91%EC%97%85%ED%98%95_1%EC%9C%A0%ED%98%95_Q1.ipynb\" target=\"_parent\"><img src=\"https://colab.research.google.com/assets/colab-badge.svg\" alt=\"Open In Colab\"/></a>"
      ]
    },
    {
      "cell_type": "code",
      "execution_count": 28,
      "metadata": {
        "colab": {
          "base_uri": "https://localhost:8080/",
          "height": 164
        },
        "id": "AGye10x8hiUM",
        "outputId": "c8156c7c-0ffe-4d49-a92f-52eeeea6497d"
      },
      "outputs": [
        {
          "output_type": "display_data",
          "data": {
            "text/html": [
              "<table class=\"dataframe\">\n",
              "<caption>A data.frame: 1 × 1</caption>\n",
              "<thead>\n",
              "\t<tr><th scope=col>me</th></tr>\n",
              "\t<tr><th scope=col>&lt;dbl&gt;</th></tr>\n",
              "</thead>\n",
              "<tbody>\n",
              "\t<tr><td>5.759387</td></tr>\n",
              "</tbody>\n",
              "</table>\n"
            ],
            "text/markdown": "\nA data.frame: 1 × 1\n\n| me &lt;dbl&gt; |\n|---|\n| 5.759387 |\n\n",
            "text/latex": "A data.frame: 1 × 1\n\\begin{tabular}{l}\n me\\\\\n <dbl>\\\\\n\\hline\n\t 5.759387\\\\\n\\end{tabular}\n",
            "text/plain": [
              "  me      \n",
              "1 5.759387"
            ]
          },
          "metadata": {}
        }
      ],
      "source": [
        "#다음은 BostonHousing 데이터 세트이다. crim항목의 상위에서 10번째 값(즉, 상위 10개의 값 중에서 가장 적은값)으로 상위 10개의 값을 변환하고, age가 80 이상인 값에 대하여\n",
        "#crim의 평균을 구하시오(BosonHousing 데이터 세트는 mlbench 라이브러리에 있음)\n",
        "#install.packages(\"mlbench\")\n",
        "library(mlbench)\n",
        "library(dplyr)\n",
        "data(BostonHousing)\n",
        "\n",
        "BostonHousing%>%arrange(-crim)%>%mutate(pre_crim=ifelse(crim>=crim[10],crim[10],crim))%>%filter(age>=80)%>%summarise(me=mean(pre_crim))\n"
      ]
    }
  ]
}