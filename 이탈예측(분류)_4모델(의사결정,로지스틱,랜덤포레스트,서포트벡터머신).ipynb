{
  "nbformat": 4,
  "nbformat_minor": 0,
  "metadata": {
    "colab": {
      "provenance": [],
      "collapsed_sections": [],
      "authorship_tag": "ABX9TyNjLUrJ1qcRFmtaqH7xARMS",
      "include_colab_link": true
    },
    "kernelspec": {
      "name": "ir",
      "display_name": "R"
    },
    "language_info": {
      "name": "R"
    }
  },
  "cells": [
    {
      "cell_type": "markdown",
      "metadata": {
        "id": "view-in-github",
        "colab_type": "text"
      },
      "source": [
        "<a href=\"https://colab.research.google.com/github/yimstar9/Engineer-Big-Data-Analysis_R/blob/main/%EC%9D%B4%ED%83%88%EC%98%88%EC%B8%A1(%EB%B6%84%EB%A5%98)_4%EB%AA%A8%EB%8D%B8(%EC%9D%98%EC%82%AC%EA%B2%B0%EC%A0%95%2C%EB%A1%9C%EC%A7%80%EC%8A%A4%ED%8B%B1%2C%EB%9E%9C%EB%8D%A4%ED%8F%AC%EB%A0%88%EC%8A%A4%ED%8A%B8%2C%EC%84%9C%ED%8F%AC%ED%8A%B8%EB%B2%A1%ED%84%B0%EB%A8%B8%EC%8B%A0).ipynb\" target=\"_parent\"><img src=\"https://colab.research.google.com/assets/colab-badge.svg\" alt=\"Open In Colab\"/></a>"
      ]
    },
    {
      "cell_type": "code",
      "execution_count": null,
      "metadata": {
        "id": "OnwtSBEYxXTA"
      },
      "outputs": [],
      "source": [
        "#https://www.datamanim.com/dataset/03_dataq/typetwo.html\n",
        "#분류\n",
        "#서비스 이탈예측 데이터\n",
        "#데이터 설명 : 고객의 신상정보 데이터를 통한 회사 서비스 이탈 예측 (종속변수 : Exited)\n",
        "x_train <-read.csv(\"https://raw.githubusercontent.com/Datamanim/datarepo/main/churnk/X_train.csv\",header=T, stringsAsFactors=T)\n",
        "y_train <-read.csv(\"https://raw.githubusercontent.com/Datamanim/datarepo/main/churnk/y_train.csv\",header=T, stringsAsFactors=T)\n",
        "x_test <-read.csv(\"https://raw.githubusercontent.com/Datamanim/datarepo/main/churnk/X_test.csv\",header=T, stringsAsFactors=T)\n",
        "x_label <-read.csv(\"https://raw.githubusercontent.com/Datamanim/datarepo/main/churnk/y_test.csv\",header=T, stringsAsFactors=T)\n",
        "#install.packages(\"caret\")\n",
        "#install.packages(\"ModelMetrics\")\n",
        "#install.packages(\"randomForest\")\n",
        "#install.packages(\"rpart\")\n",
        "#install.packages(\"car\")\n",
        "#install.packages(\"lmtest\")\n",
        "#install.packages(\"ROCR\")\n",
        "library(dplyr)\n",
        "library(caret)\n",
        "library(car)\n",
        "library(lmtest)\n",
        "library(ROCR)\n",
        "library(ModelMetrics)\n",
        "library(randomForest)\n",
        "library(rpart)\n",
        "library(e1071)\n",
        "# 결측치 확인\n",
        "#apply(is.na(x_train),2,sum)\n",
        "#apply(is.na(x_test),2,sum)\n",
        "#apply(is.na(y_train),2,sum)\n",
        "\n",
        "x_train<-merge(x_train,y_train,by='CustomerId')\n",
        "x_test<-merge(x_test,x_label,by='CustomerId')\n",
        "\n",
        "\n",
        "x_test<-x_test[,c(3,6,7,8,9,10,11,12,13)]\n",
        "x_train<-x_train[,c(3,6,7,8,9,10,11,12,13)]\n",
        "\n",
        "m_test<-x_test\n",
        "m_test$Exited<-as.factor(m_test$Exited)\n",
        "m_train<-x_train\n",
        "m_train$Exited<-as.factor(m_train$Exited)\n",
        "\n",
        "\n",
        "\n",
        "str(m_test)\n",
        "m_test$Exited\n",
        "\n",
        "m1 <- rpart(Exited~., data=x_train) #의사결정나무\n",
        "m2 <- glm(Exited~., data=x_train, family=\"binomial\") #로지스틱 회귀분석\n",
        "m3 <- randomForest(Exited~., data=m_train, ntree=100) #랜덤포레스트\n",
        "m4 <- svm(Exited~., data=x_train)#서포트벡터머신\n",
        "\n",
        "pd1<-predict(m1,newdata=x_test)\n",
        "pd2<-predict(m2,newdata=x_test)\n",
        "pd3<-predict(m3,newdata=m_test, type = \"response\")\n",
        "pd4<-predict(m4,newdata=x_test)\n",
        "\n",
        "prd1 <- prediction(pd1, x_test$Exited)\n",
        "prd2 <- prediction(pd2, x_test$Exited)\n",
        "prd3 <- prediction(pd3, m_test$Exited)\n",
        "prd4 <- prediction(pd4, x_test$Exited)\n",
        "pf1<-performance(prd1, measure = \"auc\")\n",
        "pf2<-performance(prd2, measure = \"auc\")\n",
        "pf3<-performance(prd3, measure = \"auc\")\n",
        "pf4<-performance(prd4, measure = \"auc\")\n",
        "cat(\"ctree auc:\",pf1@y.values[[1]],'\\n')\n",
        "cat(\"glm auc:\",pf2@y.values[[1]],'\\n')\n",
        "cat(\"randomForest auc:\",pf3@y.values[[1]],'\\n')\n",
        "cat(\"svm auc:\",pf4@y.values[[1]],'\\n')"
      ]
    },
    {
      "cell_type": "code",
      "source": [
        "#https://www.datamanim.com/dataset/03_dataq/typetwo.html\n",
        "#분류\n",
        "#서비스 이탈예측 데이터\n",
        "#데이터 설명 : 고객의 신상정보 데이터를 통한 회사 서비스 이탈 예측 (종속변수 : Exited)\n",
        "\n",
        "\n",
        "# install.packages(\"caret\")\n",
        "# install.packages(\"ModelMetrics\")\n",
        "# install.packages(\"randomForest\")\n",
        "# install.packages(\"rpart\")\n",
        "# install.packages(\"car\")\n",
        "# install.packages(\"lmtest\")\n",
        "# install.packages(\"ROCR\")\n",
        "# install.packages(\"dplyr\")\n",
        "library(dplyr)\n",
        "library(caret)\n",
        "library(car)\n",
        "library(lmtest)\n",
        "library(ROCR)\n",
        "library(ModelMetrics)\n",
        "library(randomForest)\n",
        "library(rpart)\n",
        "library(e1071)\n",
        "\n",
        "dfx_train <-read.csv(\"https://raw.githubusercontent.com/Datamanim/datarepo/main/churnk/X_train.csv\",header=T, stringsAsFactors=T)\n",
        "dfy_train <-read.csv(\"https://raw.githubusercontent.com/Datamanim/datarepo/main/churnk/y_train.csv\",header=T, stringsAsFactors=T)\n",
        "dfx_test <-read.csv(\"https://raw.githubusercontent.com/Datamanim/datarepo/main/churnk/X_test.csv\",header=T, stringsAsFactors=T)\n",
        "dfy_test <-read.csv(\"https://raw.githubusercontent.com/Datamanim/datarepo/main/churnk/y_test.csv\",header=T, stringsAsFactors=T)\n",
        "\n",
        "# 결측치 확인\n",
        "#apply(is.na(x_train),2,sum)\n",
        "#apply(is.na(x_test),2,sum)\n",
        "#apply(is.na(y_train),2,sum)\n",
        "\n",
        "df<-merge(dfx_train,dfy_train,by='CustomerId')\n",
        "df<-df[,c(3,6,7,8,9,10,11,12,13)]\n",
        "dfx_test<-dfx_test[,c(3,6,7,8,9,10,11,12)]\n",
        "dfy_test<-dfy_test[,2]\n",
        "# dfy_test<-as.factor(dfy_test)\n",
        "\n",
        "\n",
        "idx<-sample(1:nrow(df), 0.7*nrow(df))\n",
        "#idx <- createDataPartition(df$Exited, p=0.7, list=F)\n",
        "df_train<-df[idx,]\n",
        "df_test<-df[-idx,]\n",
        "\n",
        "df_train$Exited<-as.factor(df_train$Exited)\n",
        "df_test$Exited<-as.factor(df_test$Exited)\n",
        "\n",
        "m1 <- rpart(Exited~., data=df_train) #의사결정나무\n",
        "m2 <- glm(Exited~., data=df_train, family=\"binomial\") #로지스틱 회귀분석\n",
        "m3 <- randomForest(Exited~., data=df_train, ntree=100) #랜덤포레스트\n",
        "m4 <- svm(Exited~., data=df_train)#서포트벡터머신\n",
        "\n",
        "pd1<-predict(m1,newdata=df_test)\n",
        "pd2<-predict(m2,newdata=df_test, type = \"response\")\n",
        "pd3<-predict(m3,newdata=df_test)\n",
        "pd4<-predict(m4,newdata=df_test)\n",
        "\n",
        "p11<-as.factor(round(pd1[,2]))\n",
        "p22<-as.factor(round(pd2))\n",
        "p33<-pd3\n",
        "p44<-pd4\n",
        "\n",
        "#F1score\n",
        "# caret::confusionMatrix(df_test$Exited, p11)$byClass[7]\n",
        "# caret::confusionMatrix(df_test$Exited, p22)$byClass[7]\n",
        "# caret::confusionMatrix(df_test$Exited, p33)$byClass[7]\n",
        "# caret::confusionMatrix(df_test$Exited, p44)$byClass[7]\n",
        "\n",
        "#Accuracy\n",
        "# caret::confusionMatrix(df_test$Exited, p11)$overall[1]\n",
        "# caret::confusionMatrix(df_test$Exited, p22)$overall[1]\n",
        "# caret::confusionMatrix(df_test$Exited, p33)$overall[1]\n",
        "# caret::confusionMatrix(df_test$Exited, p44)$overall[1]\n",
        "\n",
        "print(\"모델별 auc\")\n",
        "auc(df_test$Exited, p11) #의사결정나무\n",
        "auc(df_test$Exited, p22) #로지스틱 회귀분석\n",
        "auc(df_test$Exited, p33) #랜덤포레스트\n",
        "auc(df_test$Exited, p44) #서포트벡터머신\n",
        "\n",
        "\n",
        "#최종모델링 예측결과 확인하기\n",
        "#test 예측하기\n",
        "df$Exited <- as.factor(df$Exited)\n",
        "m <- randomForest(Exited~., data=df, ntree=100)\n",
        "p <- predict(m, newdata=dfx_test)\n",
        "# head(p)\n",
        "# length(p)\n",
        "result<-as.data.frame(as.character(p))\n",
        "# head(result)\n",
        "write.csv(result, \"1234.csv\", row.names=F)\n",
        "abc<-read.csv(\"1234.csv\")\n",
        "\n",
        "tmp_f<-caret::confusionMatrix(as.factor(dfy_test), as.factor(p))\n",
        "auc<- auc(dfy_test, as.numeric(p))\n",
        "print(\"====최종 모델링 예측결과====\")\n",
        "cat(\"auc=\",auc)\n",
        "tmp_f$byClass[7]\n",
        "tmp_f$overall[1]\n",
        "# 답안 제출 참고\n",
        "# 아래 코드 변수명과 수험번호를 개인별로 변경하여 활용\n",
        "# write.csv(변수명,'003000000.csv',row.names=F) \n"
      ],
      "metadata": {
        "colab": {
          "base_uri": "https://localhost:8080/",
          "height": 176
        },
        "id": "cHeq-SDQpfLO",
        "outputId": "cc9970cb-827c-48f7-8bf2-34c3b2610e5a"
      },
      "execution_count": 5,
      "outputs": [
        {
          "output_type": "stream",
          "name": "stdout",
          "text": [
            "[1] \"모델별 auc\"\n"
          ]
        },
        {
          "output_type": "display_data",
          "data": {
            "text/html": [
              "0.686171411459192"
            ],
            "text/markdown": "0.686171411459192",
            "text/latex": "0.686171411459192",
            "text/plain": [
              "[1] 0.6861714"
            ]
          },
          "metadata": {}
        },
        {
          "output_type": "display_data",
          "data": {
            "text/html": [
              "0.556042142771798"
            ],
            "text/markdown": "0.556042142771798",
            "text/latex": "0.556042142771798",
            "text/plain": [
              "[1] 0.5560421"
            ]
          },
          "metadata": {}
        },
        {
          "output_type": "display_data",
          "data": {
            "text/html": [
              "0.687010062297616"
            ],
            "text/markdown": "0.687010062297616",
            "text/latex": "0.687010062297616",
            "text/plain": [
              "[1] 0.6870101"
            ]
          },
          "metadata": {}
        },
        {
          "output_type": "display_data",
          "data": {
            "text/html": [
              "0.668245155260057"
            ],
            "text/markdown": "0.668245155260057",
            "text/latex": "0.668245155260057",
            "text/plain": [
              "[1] 0.6682452"
            ]
          },
          "metadata": {}
        },
        {
          "output_type": "stream",
          "name": "stdout",
          "text": [
            "[1] \"====최종 모델링 예측결과====\"\n",
            "auc= 0.6802772"
          ]
        },
        {
          "output_type": "display_data",
          "data": {
            "text/html": [
              "<strong>F1:</strong> 0.913958578885334"
            ],
            "text/markdown": "**F1:** 0.913958578885334",
            "text/latex": "\\textbf{F1:} 0.913958578885334",
            "text/plain": [
              "       F1 \n",
              "0.9139586 "
            ]
          },
          "metadata": {}
        },
        {
          "output_type": "display_data",
          "data": {
            "text/html": [
              "<strong>Accuracy:</strong> 0.854041702370751"
            ],
            "text/markdown": "**Accuracy:** 0.854041702370751",
            "text/latex": "\\textbf{Accuracy:} 0.854041702370751",
            "text/plain": [
              " Accuracy \n",
              "0.8540417 "
            ]
          },
          "metadata": {}
        }
      ]
    }
  ]
}