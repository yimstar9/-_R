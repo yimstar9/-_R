{
  "nbformat": 4,
  "nbformat_minor": 0,
  "metadata": {
    "colab": {
      "provenance": [],
      "collapsed_sections": [],
      "authorship_tag": "ABX9TyPEToYHaHs7t3OjjqUeYMRH",
      "include_colab_link": true
    },
    "kernelspec": {
      "name": "ir",
      "display_name": "R"
    },
    "language_info": {
      "name": "R"
    }
  },
  "cells": [
    {
      "cell_type": "markdown",
      "metadata": {
        "id": "view-in-github",
        "colab_type": "text"
      },
      "source": [
        "<a href=\"https://colab.research.google.com/github/yimstar9/Engineer-Big-Data-Analysis_R/blob/main/%EC%9D%B4%ED%83%88%EC%98%88%EC%B8%A1(%EB%B6%84%EB%A5%98)_4%EB%AA%A8%EB%8D%B8(%EC%9D%98%EC%82%AC%EA%B2%B0%EC%A0%95%2C%EB%A1%9C%EC%A7%80%EC%8A%A4%ED%8B%B1%2C%EB%9E%9C%EB%8D%A4%ED%8F%AC%EB%A0%88%EC%8A%A4%ED%8A%B8%2C%EC%84%9C%ED%8F%AC%ED%8A%B8%EB%B2%A1%ED%84%B0%EB%A8%B8%EC%8B%A0).ipynb\" target=\"_parent\"><img src=\"https://colab.research.google.com/assets/colab-badge.svg\" alt=\"Open In Colab\"/></a>"
      ]
    },
    {
      "cell_type": "code",
      "execution_count": null,
      "metadata": {
        "colab": {
          "base_uri": "https://localhost:8080/",
          "height": 156
        },
        "id": "OnwtSBEYxXTA",
        "outputId": "fb139d87-c5bf-4493-ff02-231a0ca51fa9"
      },
      "outputs": [
        {
          "output_type": "error",
          "ename": "ERROR",
          "evalue": "ignored",
          "traceback": [
            "Error in prediction(pd1, x_test$Exited): Number of cross-validation runs must be equal for predictions and labels.\nTraceback:\n",
            "1. prediction(pd1, x_test$Exited)",
            "2. stop(paste(\"Number of cross-validation runs must be equal\", \"for predictions and labels.\"))"
          ]
        }
      ],
      "source": [
        "#https://www.datamanim.com/dataset/03_dataq/typetwo.html\n",
        "#분류\n",
        "#서비스 이탈예측 데이터\n",
        "#데이터 설명 : 고객의 신상정보 데이터를 통한 회사 서비스 이탈 예측 (종속변수 : Exited)\n",
        "x_train <-read.csv(\"https://raw.githubusercontent.com/Datamanim/datarepo/main/churnk/X_train.csv\", stringsAsFactors = T)\n",
        "y_train <-read.csv(\"https://raw.githubusercontent.com/Datamanim/datarepo/main/churnk/y_train.csv\", stringsAsFactors = T)\n",
        "x_test <-read.csv(\"https://raw.githubusercontent.com/Datamanim/datarepo/main/churnk/X_test.csv\", stringsAsFactors = T)\n",
        "x_label <-read.csv(\"https://raw.githubusercontent.com/Datamanim/datarepo/main/churnk/y_test.csv\", stringsAsFactors = T)\n",
        "library(dplyr)\n",
        "library(caret)\n",
        "library(car)\n",
        "library(lmtest)\n",
        "library(ROCR)\n",
        "#install.packages(\"ModelMetrics\")\n",
        "#install.packages(\"randomForest\")\n",
        "#install.packages(\"rpart\")\n",
        "library(ModelMetrics)\n",
        "library(randomForest)\n",
        "library(rpart)\n",
        "library(e1071)\n",
        "# 결측치 확인\n",
        "#apply(is.na(x_train),2,sum)\n",
        "#apply(is.na(x_test),2,sum)\n",
        "#apply(is.na(y_train),2,sum)\n",
        "\n",
        "x_train<-merge(x_train,y_train,by='CustomerId')\n",
        "x_test<-merge(x_test,x_label,by='CustomerId')\n",
        "x_test<-x_test[,c(3,6,7,8,9,10,11,12,13)]\n",
        "x_train<-x_train[,c(3,6,7,8,9,10,11,12,13)]\n",
        "\n",
        "\n",
        "#x_test$Exited<-as.factor(x_test$Exited)\n",
        "#x_train$Exited<-as.factor(x_train$Exited)\n",
        "\n",
        "m1 <- rpart(Exited~., data=x_train) #의사결정나무\n",
        "m2 <- glm(Exited~., data=x_train, family=\"binomial\") #로지스틱 회귀분석\n",
        "m3 <- randomForest(Exited~., data=x_train, ntree=100) #랜덤포레스트\n",
        "m4 <- svm(Exited~., data=x_train)#서포트벡터머신\n",
        "\n",
        "pd1<-predict(m1,newdata=x_test)\n",
        "pd2<-predict(m2,newdata=x_test)\n",
        "pd3<-predict(m3,newdata=x_test, type = \"response\")\n",
        "pd4<-predict(m4,newdata=x_test)\n",
        "\n",
        "prd1 <- prediction(pd1, x_test$Exited)\n",
        "prd2 <- prediction(pd2, x_test$Exited)\n",
        "prd3 <- prediction(pd3, x_test$Exited)\n",
        "prd4 <- prediction(pd4, x_test$Exited)\n",
        "pf1<-performance(prd1, measure = \"auc\")\n",
        "pf2<-performance(prd2, measure = \"auc\")\n",
        "pf3<-performance(prd3, measure = \"auc\")\n",
        "pf4<-performance(prd4, measure = \"auc\")\n",
        "cat(\"ctree auc:\",pf1@y.values[[1]],'\\n')\n",
        "cat(\"glm auc:\",pf2@y.values[[1]],'\\n')\n",
        "cat(\"randomForest auc:\",pf3@y.values[[1]],'\\n')\n",
        "cat(\"svm auc:\",pf4@y.values[[1]],'\\n')"
      ]
    }
  ]
}