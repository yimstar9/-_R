{
  "nbformat": 4,
  "nbformat_minor": 0,
  "metadata": {
    "colab": {
      "provenance": [],
      "collapsed_sections": [],
      "authorship_tag": "ABX9TyNScFOBSW9Gk9MwhF1TG/Pr",
      "include_colab_link": true
    },
    "kernelspec": {
      "name": "ir",
      "display_name": "R"
    },
    "language_info": {
      "name": "R"
    }
  },
  "cells": [
    {
      "cell_type": "markdown",
      "metadata": {
        "id": "view-in-github",
        "colab_type": "text"
      },
      "source": [
        "<a href=\"https://colab.research.google.com/github/yimstar9/Engineer-Big-Data-Analysis_R/blob/main/%EC%9D%B4%ED%83%88%EC%98%88%EC%B8%A1(%EB%B6%84%EB%A5%98)_4%EB%AA%A8%EB%8D%B8(%EC%9D%98%EC%82%AC%EA%B2%B0%EC%A0%95%2C%EB%A1%9C%EC%A7%80%EC%8A%A4%ED%8B%B1%2C%EB%9E%9C%EB%8D%A4%ED%8F%AC%EB%A0%88%EC%8A%A4%ED%8A%B8%2C%EC%84%9C%ED%8F%AC%ED%8A%B8%EB%B2%A1%ED%84%B0%EB%A8%B8%EC%8B%A0).ipynb\" target=\"_parent\"><img src=\"https://colab.research.google.com/assets/colab-badge.svg\" alt=\"Open In Colab\"/></a>"
      ]
    },
    {
      "cell_type": "code",
      "execution_count": 22,
      "metadata": {
        "colab": {
          "base_uri": "https://localhost:8080/",
          "height": 426
        },
        "id": "OnwtSBEYxXTA",
        "outputId": "1d8553f3-7c47-4f61-f451-1c13a219e58a"
      },
      "outputs": [
        {
          "output_type": "stream",
          "name": "stdout",
          "text": [
            "'data.frame':\t3501 obs. of  9 variables:\n",
            " $ CreditScore    : int  601 745 845 618 787 586 683 724 573 777 ...\n",
            " $ Age            : int  47 48 28 37 25 33 32 33 44 30 ...\n",
            " $ Tenure         : int  1 10 9 5 5 10 0 4 9 4 ...\n",
            " $ Balance        : num  64430 96049 0 96653 0 ...\n",
            " $ NumOfProducts  : int  2 1 2 1 2 2 2 1 2 1 ...\n",
            " $ HasCrCard      : int  0 1 1 1 1 1 1 0 1 1 ...\n",
            " $ IsActiveMember : int  1 0 1 0 0 1 1 1 0 0 ...\n",
            " $ EstimatedSalary: num  96518 74511 56186 98686 47308 ...\n",
            " $ Exited         : Factor w/ 2 levels \"0\",\"1\": 1 1 1 2 1 1 1 2 1 2 ...\n"
          ]
        },
        {
          "output_type": "display_data",
          "data": {
            "text/html": [
              "<style>\n",
              ".list-inline {list-style: none; margin:0; padding: 0}\n",
              ".list-inline>li {display: inline-block}\n",
              ".list-inline>li:not(:last-child)::after {content: \"\\00b7\"; padding: 0 .5ex}\n",
              "</style>\n",
              "<ol class=list-inline><li>0</li><li>0</li><li>0</li><li>1</li><li>0</li><li>0</li><li>0</li><li>1</li><li>0</li><li>1</li><li>0</li><li>1</li><li>0</li><li>0</li><li>0</li><li>0</li><li>0</li><li>0</li><li>1</li><li>0</li><li>0</li><li>0</li><li>0</li><li>0</li><li>1</li><li>0</li><li>0</li><li>0</li><li>0</li><li>0</li><li>1</li><li>0</li><li>1</li><li>1</li><li>0</li><li>0</li><li>1</li><li>0</li><li>0</li><li>0</li><li>1</li><li>0</li><li>0</li><li>0</li><li>1</li><li>0</li><li>0</li><li>0</li><li>1</li><li>0</li><li>0</li><li>0</li><li>1</li><li>0</li><li>1</li><li>1</li><li>0</li><li>0</li><li>0</li><li>0</li><li>0</li><li>0</li><li>1</li><li>1</li><li>0</li><li>0</li><li>0</li><li>0</li><li>0</li><li>0</li><li>1</li><li>0</li><li>0</li><li>0</li><li>0</li><li>1</li><li>0</li><li>1</li><li>0</li><li>0</li><li>0</li><li>0</li><li>0</li><li>1</li><li>1</li><li>0</li><li>0</li><li>1</li><li>1</li><li>0</li><li>0</li><li>0</li><li>0</li><li>0</li><li>0</li><li>0</li><li>0</li><li>0</li><li>0</li><li>0</li><li>0</li><li>0</li><li>0</li><li>0</li><li>1</li><li>0</li><li>0</li><li>1</li><li>0</li><li>0</li><li>1</li><li>0</li><li>1</li><li>0</li><li>1</li><li>0</li><li>0</li><li>0</li><li>0</li><li>0</li><li>1</li><li>0</li><li>0</li><li>0</li><li>0</li><li>0</li><li>1</li><li>0</li><li>1</li><li>0</li><li>0</li><li>0</li><li>0</li><li>0</li><li>0</li><li>0</li><li>0</li><li>0</li><li>0</li><li>0</li><li>0</li><li>1</li><li>0</li><li>0</li><li>0</li><li>0</li><li>0</li><li>0</li><li>0</li><li>0</li><li>0</li><li>0</li><li>0</li><li>1</li><li>0</li><li>1</li><li>0</li><li>1</li><li>1</li><li>0</li><li>1</li><li>0</li><li>1</li><li>0</li><li>0</li><li>0</li><li>0</li><li>0</li><li>0</li><li>0</li><li>0</li><li>0</li><li>1</li><li>0</li><li>0</li><li>0</li><li>0</li><li>0</li><li>1</li><li>0</li><li>1</li><li>0</li><li>0</li><li>0</li><li>0</li><li>0</li><li>1</li><li>0</li><li>0</li><li>1</li><li>0</li><li>0</li><li>0</li><li>0</li><li>0</li><li>0</li><li>0</li><li>0</li><li>0</li><li>0</li><li>⋯</li><li>0</li><li>1</li><li>0</li><li>0</li><li>0</li><li>0</li><li>0</li><li>1</li><li>0</li><li>0</li><li>0</li><li>0</li><li>0</li><li>0</li><li>0</li><li>0</li><li>0</li><li>0</li><li>0</li><li>0</li><li>1</li><li>0</li><li>0</li><li>0</li><li>0</li><li>0</li><li>0</li><li>0</li><li>0</li><li>1</li><li>0</li><li>1</li><li>0</li><li>0</li><li>0</li><li>0</li><li>0</li><li>0</li><li>0</li><li>0</li><li>0</li><li>1</li><li>0</li><li>1</li><li>0</li><li>0</li><li>0</li><li>0</li><li>0</li><li>0</li><li>0</li><li>0</li><li>0</li><li>0</li><li>0</li><li>0</li><li>1</li><li>1</li><li>0</li><li>0</li><li>0</li><li>1</li><li>0</li><li>1</li><li>0</li><li>0</li><li>0</li><li>1</li><li>1</li><li>0</li><li>0</li><li>0</li><li>0</li><li>0</li><li>0</li><li>0</li><li>1</li><li>1</li><li>0</li><li>0</li><li>0</li><li>1</li><li>0</li><li>0</li><li>0</li><li>0</li><li>1</li><li>0</li><li>1</li><li>0</li><li>0</li><li>1</li><li>0</li><li>0</li><li>1</li><li>1</li><li>0</li><li>1</li><li>0</li><li>0</li><li>0</li><li>0</li><li>0</li><li>1</li><li>0</li><li>1</li><li>0</li><li>0</li><li>0</li><li>1</li><li>0</li><li>1</li><li>0</li><li>1</li><li>0</li><li>1</li><li>0</li><li>0</li><li>0</li><li>0</li><li>1</li><li>0</li><li>1</li><li>0</li><li>0</li><li>0</li><li>0</li><li>0</li><li>0</li><li>0</li><li>0</li><li>0</li><li>1</li><li>1</li><li>0</li><li>0</li><li>0</li><li>0</li><li>0</li><li>0</li><li>0</li><li>0</li><li>0</li><li>0</li><li>0</li><li>0</li><li>0</li><li>0</li><li>0</li><li>0</li><li>0</li><li>0</li><li>1</li><li>0</li><li>0</li><li>0</li><li>1</li><li>0</li><li>0</li><li>0</li><li>0</li><li>0</li><li>0</li><li>0</li><li>0</li><li>1</li><li>0</li><li>0</li><li>1</li><li>0</li><li>1</li><li>0</li><li>0</li><li>0</li><li>0</li><li>0</li><li>0</li><li>0</li><li>1</li><li>0</li><li>1</li><li>0</li><li>0</li><li>1</li><li>1</li><li>0</li><li>0</li><li>0</li><li>0</li><li>0</li><li>0</li><li>0</li><li>1</li><li>0</li><li>1</li><li>0</li><li>0</li><li>0</li><li>0</li><li>0</li></ol>\n",
              "\n",
              "<details>\n",
              "\t<summary style=display:list-item;cursor:pointer>\n",
              "\t\t<strong>Levels</strong>:\n",
              "\t</summary>\n",
              "\t<style>\n",
              "\t.list-inline {list-style: none; margin:0; padding: 0}\n",
              "\t.list-inline>li {display: inline-block}\n",
              "\t.list-inline>li:not(:last-child)::after {content: \"\\00b7\"; padding: 0 .5ex}\n",
              "\t</style>\n",
              "\t<ol class=list-inline><li>'0'</li><li>'1'</li></ol>\n",
              "</details>"
            ],
            "text/markdown": "1. 0\n2. 0\n3. 0\n4. 1\n5. 0\n6. 0\n7. 0\n8. 1\n9. 0\n10. 1\n11. 0\n12. 1\n13. 0\n14. 0\n15. 0\n16. 0\n17. 0\n18. 0\n19. 1\n20. 0\n21. 0\n22. 0\n23. 0\n24. 0\n25. 1\n26. 0\n27. 0\n28. 0\n29. 0\n30. 0\n31. 1\n32. 0\n33. 1\n34. 1\n35. 0\n36. 0\n37. 1\n38. 0\n39. 0\n40. 0\n41. 1\n42. 0\n43. 0\n44. 0\n45. 1\n46. 0\n47. 0\n48. 0\n49. 1\n50. 0\n51. 0\n52. 0\n53. 1\n54. 0\n55. 1\n56. 1\n57. 0\n58. 0\n59. 0\n60. 0\n61. 0\n62. 0\n63. 1\n64. 1\n65. 0\n66. 0\n67. 0\n68. 0\n69. 0\n70. 0\n71. 1\n72. 0\n73. 0\n74. 0\n75. 0\n76. 1\n77. 0\n78. 1\n79. 0\n80. 0\n81. 0\n82. 0\n83. 0\n84. 1\n85. 1\n86. 0\n87. 0\n88. 1\n89. 1\n90. 0\n91. 0\n92. 0\n93. 0\n94. 0\n95. 0\n96. 0\n97. 0\n98. 0\n99. 0\n100. 0\n101. 0\n102. 0\n103. 0\n104. 0\n105. 1\n106. 0\n107. 0\n108. 1\n109. 0\n110. 0\n111. 1\n112. 0\n113. 1\n114. 0\n115. 1\n116. 0\n117. 0\n118. 0\n119. 0\n120. 0\n121. 1\n122. 0\n123. 0\n124. 0\n125. 0\n126. 0\n127. 1\n128. 0\n129. 1\n130. 0\n131. 0\n132. 0\n133. 0\n134. 0\n135. 0\n136. 0\n137. 0\n138. 0\n139. 0\n140. 0\n141. 0\n142. 1\n143. 0\n144. 0\n145. 0\n146. 0\n147. 0\n148. 0\n149. 0\n150. 0\n151. 0\n152. 0\n153. 0\n154. 1\n155. 0\n156. 1\n157. 0\n158. 1\n159. 1\n160. 0\n161. 1\n162. 0\n163. 1\n164. 0\n165. 0\n166. 0\n167. 0\n168. 0\n169. 0\n170. 0\n171. 0\n172. 0\n173. 1\n174. 0\n175. 0\n176. 0\n177. 0\n178. 0\n179. 1\n180. 0\n181. 1\n182. 0\n183. 0\n184. 0\n185. 0\n186. 0\n187. 1\n188. 0\n189. 0\n190. 1\n191. 0\n192. 0\n193. 0\n194. 0\n195. 0\n196. 0\n197. 0\n198. 0\n199. 0\n200. 0\n201. ⋯\n202. 0\n203. 1\n204. 0\n205. 0\n206. 0\n207. 0\n208. 0\n209. 1\n210. 0\n211. 0\n212. 0\n213. 0\n214. 0\n215. 0\n216. 0\n217. 0\n218. 0\n219. 0\n220. 0\n221. 0\n222. 1\n223. 0\n224. 0\n225. 0\n226. 0\n227. 0\n228. 0\n229. 0\n230. 0\n231. 1\n232. 0\n233. 1\n234. 0\n235. 0\n236. 0\n237. 0\n238. 0\n239. 0\n240. 0\n241. 0\n242. 0\n243. 1\n244. 0\n245. 1\n246. 0\n247. 0\n248. 0\n249. 0\n250. 0\n251. 0\n252. 0\n253. 0\n254. 0\n255. 0\n256. 0\n257. 0\n258. 1\n259. 1\n260. 0\n261. 0\n262. 0\n263. 1\n264. 0\n265. 1\n266. 0\n267. 0\n268. 0\n269. 1\n270. 1\n271. 0\n272. 0\n273. 0\n274. 0\n275. 0\n276. 0\n277. 0\n278. 1\n279. 1\n280. 0\n281. 0\n282. 0\n283. 1\n284. 0\n285. 0\n286. 0\n287. 0\n288. 1\n289. 0\n290. 1\n291. 0\n292. 0\n293. 1\n294. 0\n295. 0\n296. 1\n297. 1\n298. 0\n299. 1\n300. 0\n301. 0\n302. 0\n303. 0\n304. 0\n305. 1\n306. 0\n307. 1\n308. 0\n309. 0\n310. 0\n311. 1\n312. 0\n313. 1\n314. 0\n315. 1\n316. 0\n317. 1\n318. 0\n319. 0\n320. 0\n321. 0\n322. 1\n323. 0\n324. 1\n325. 0\n326. 0\n327. 0\n328. 0\n329. 0\n330. 0\n331. 0\n332. 0\n333. 0\n334. 1\n335. 1\n336. 0\n337. 0\n338. 0\n339. 0\n340. 0\n341. 0\n342. 0\n343. 0\n344. 0\n345. 0\n346. 0\n347. 0\n348. 0\n349. 0\n350. 0\n351. 0\n352. 0\n353. 0\n354. 1\n355. 0\n356. 0\n357. 0\n358. 1\n359. 0\n360. 0\n361. 0\n362. 0\n363. 0\n364. 0\n365. 0\n366. 0\n367. 1\n368. 0\n369. 0\n370. 1\n371. 0\n372. 1\n373. 0\n374. 0\n375. 0\n376. 0\n377. 0\n378. 0\n379. 0\n380. 1\n381. 0\n382. 1\n383. 0\n384. 0\n385. 1\n386. 1\n387. 0\n388. 0\n389. 0\n390. 0\n391. 0\n392. 0\n393. 0\n394. 1\n395. 0\n396. 1\n397. 0\n398. 0\n399. 0\n400. 0\n401. 0\n\n\n\n**Levels**: 1. '0'\n2. '1'\n\n\n",
            "text/latex": "\\begin{enumerate*}\n\\item 0\n\\item 0\n\\item 0\n\\item 1\n\\item 0\n\\item 0\n\\item 0\n\\item 1\n\\item 0\n\\item 1\n\\item 0\n\\item 1\n\\item 0\n\\item 0\n\\item 0\n\\item 0\n\\item 0\n\\item 0\n\\item 1\n\\item 0\n\\item 0\n\\item 0\n\\item 0\n\\item 0\n\\item 1\n\\item 0\n\\item 0\n\\item 0\n\\item 0\n\\item 0\n\\item 1\n\\item 0\n\\item 1\n\\item 1\n\\item 0\n\\item 0\n\\item 1\n\\item 0\n\\item 0\n\\item 0\n\\item 1\n\\item 0\n\\item 0\n\\item 0\n\\item 1\n\\item 0\n\\item 0\n\\item 0\n\\item 1\n\\item 0\n\\item 0\n\\item 0\n\\item 1\n\\item 0\n\\item 1\n\\item 1\n\\item 0\n\\item 0\n\\item 0\n\\item 0\n\\item 0\n\\item 0\n\\item 1\n\\item 1\n\\item 0\n\\item 0\n\\item 0\n\\item 0\n\\item 0\n\\item 0\n\\item 1\n\\item 0\n\\item 0\n\\item 0\n\\item 0\n\\item 1\n\\item 0\n\\item 1\n\\item 0\n\\item 0\n\\item 0\n\\item 0\n\\item 0\n\\item 1\n\\item 1\n\\item 0\n\\item 0\n\\item 1\n\\item 1\n\\item 0\n\\item 0\n\\item 0\n\\item 0\n\\item 0\n\\item 0\n\\item 0\n\\item 0\n\\item 0\n\\item 0\n\\item 0\n\\item 0\n\\item 0\n\\item 0\n\\item 0\n\\item 1\n\\item 0\n\\item 0\n\\item 1\n\\item 0\n\\item 0\n\\item 1\n\\item 0\n\\item 1\n\\item 0\n\\item 1\n\\item 0\n\\item 0\n\\item 0\n\\item 0\n\\item 0\n\\item 1\n\\item 0\n\\item 0\n\\item 0\n\\item 0\n\\item 0\n\\item 1\n\\item 0\n\\item 1\n\\item 0\n\\item 0\n\\item 0\n\\item 0\n\\item 0\n\\item 0\n\\item 0\n\\item 0\n\\item 0\n\\item 0\n\\item 0\n\\item 0\n\\item 1\n\\item 0\n\\item 0\n\\item 0\n\\item 0\n\\item 0\n\\item 0\n\\item 0\n\\item 0\n\\item 0\n\\item 0\n\\item 0\n\\item 1\n\\item 0\n\\item 1\n\\item 0\n\\item 1\n\\item 1\n\\item 0\n\\item 1\n\\item 0\n\\item 1\n\\item 0\n\\item 0\n\\item 0\n\\item 0\n\\item 0\n\\item 0\n\\item 0\n\\item 0\n\\item 0\n\\item 1\n\\item 0\n\\item 0\n\\item 0\n\\item 0\n\\item 0\n\\item 1\n\\item 0\n\\item 1\n\\item 0\n\\item 0\n\\item 0\n\\item 0\n\\item 0\n\\item 1\n\\item 0\n\\item 0\n\\item 1\n\\item 0\n\\item 0\n\\item 0\n\\item 0\n\\item 0\n\\item 0\n\\item 0\n\\item 0\n\\item 0\n\\item 0\n\\item ⋯\n\\item 0\n\\item 1\n\\item 0\n\\item 0\n\\item 0\n\\item 0\n\\item 0\n\\item 1\n\\item 0\n\\item 0\n\\item 0\n\\item 0\n\\item 0\n\\item 0\n\\item 0\n\\item 0\n\\item 0\n\\item 0\n\\item 0\n\\item 0\n\\item 1\n\\item 0\n\\item 0\n\\item 0\n\\item 0\n\\item 0\n\\item 0\n\\item 0\n\\item 0\n\\item 1\n\\item 0\n\\item 1\n\\item 0\n\\item 0\n\\item 0\n\\item 0\n\\item 0\n\\item 0\n\\item 0\n\\item 0\n\\item 0\n\\item 1\n\\item 0\n\\item 1\n\\item 0\n\\item 0\n\\item 0\n\\item 0\n\\item 0\n\\item 0\n\\item 0\n\\item 0\n\\item 0\n\\item 0\n\\item 0\n\\item 0\n\\item 1\n\\item 1\n\\item 0\n\\item 0\n\\item 0\n\\item 1\n\\item 0\n\\item 1\n\\item 0\n\\item 0\n\\item 0\n\\item 1\n\\item 1\n\\item 0\n\\item 0\n\\item 0\n\\item 0\n\\item 0\n\\item 0\n\\item 0\n\\item 1\n\\item 1\n\\item 0\n\\item 0\n\\item 0\n\\item 1\n\\item 0\n\\item 0\n\\item 0\n\\item 0\n\\item 1\n\\item 0\n\\item 1\n\\item 0\n\\item 0\n\\item 1\n\\item 0\n\\item 0\n\\item 1\n\\item 1\n\\item 0\n\\item 1\n\\item 0\n\\item 0\n\\item 0\n\\item 0\n\\item 0\n\\item 1\n\\item 0\n\\item 1\n\\item 0\n\\item 0\n\\item 0\n\\item 1\n\\item 0\n\\item 1\n\\item 0\n\\item 1\n\\item 0\n\\item 1\n\\item 0\n\\item 0\n\\item 0\n\\item 0\n\\item 1\n\\item 0\n\\item 1\n\\item 0\n\\item 0\n\\item 0\n\\item 0\n\\item 0\n\\item 0\n\\item 0\n\\item 0\n\\item 0\n\\item 1\n\\item 1\n\\item 0\n\\item 0\n\\item 0\n\\item 0\n\\item 0\n\\item 0\n\\item 0\n\\item 0\n\\item 0\n\\item 0\n\\item 0\n\\item 0\n\\item 0\n\\item 0\n\\item 0\n\\item 0\n\\item 0\n\\item 0\n\\item 1\n\\item 0\n\\item 0\n\\item 0\n\\item 1\n\\item 0\n\\item 0\n\\item 0\n\\item 0\n\\item 0\n\\item 0\n\\item 0\n\\item 0\n\\item 1\n\\item 0\n\\item 0\n\\item 1\n\\item 0\n\\item 1\n\\item 0\n\\item 0\n\\item 0\n\\item 0\n\\item 0\n\\item 0\n\\item 0\n\\item 1\n\\item 0\n\\item 1\n\\item 0\n\\item 0\n\\item 1\n\\item 1\n\\item 0\n\\item 0\n\\item 0\n\\item 0\n\\item 0\n\\item 0\n\\item 0\n\\item 1\n\\item 0\n\\item 1\n\\item 0\n\\item 0\n\\item 0\n\\item 0\n\\item 0\n\\end{enumerate*}\n\n\\emph{Levels}: \\begin{enumerate*}\n\\item '0'\n\\item '1'\n\\end{enumerate*}\n",
            "text/plain": [
              "   [1] 0 0 0 1 0 0 0 1 0 1 0 1 0 0 0 0 0 0 1 0 0 0 0 0 1 0 0 0 0 0 1 0 1 1 0 0 1\n",
              "  [38] 0 0 0 1 0 0 0 1 0 0 0 1 0 0 0 1 0 1 1 0 0 0 0 0 0 1 1 0 0 0 0 0 0 1 0 0 0\n",
              "  [75] 0 1 0 1 0 0 0 0 0 1 1 0 0 1 1 0 0 0 0 0 0 0 0 0 0 0 0 0 0 0 1 0 0 1 0 0 1\n",
              " [112] 0 1 0 1 0 0 0 0 0 1 0 0 0 0 0 1 0 1 0 0 0 0 0 0 0 0 0 0 0 0 1 0 0 0 0 0 0\n",
              " [149] 0 0 0 0 0 1 0 1 0 1 1 0 1 0 1 0 0 0 0 0 0 0 0 0 1 0 0 0 0 0 1 0 1 0 0 0 0\n",
              " [186] 0 1 0 0 1 0 0 0 0 0 0 0 0 0 0 0 0 0 1 0 0 0 0 0 1 1 0 1 0 0 0 0 0 0 0 0 0\n",
              " [223] 0 0 1 0 0 1 0 0 0 0 0 0 0 0 0 0 1 0 0 0 0 1 0 1 0 0 0 0 0 0 0 1 0 0 0 0 0\n",
              " [260] 0 1 0 0 0 0 1 0 1 0 1 0 1 0 0 0 0 0 0 1 0 0 0 1 0 0 0 1 0 1 0 0 0 0 0 0 0\n",
              " [297] 0 0 0 0 0 0 0 0 0 0 1 1 0 0 0 0 0 1 0 0 0 0 0 0 0 0 1 0 0 0 1 1 0 0 0 0 0\n",
              " [334] 0 0 0 0 0 0 0 0 0 0 0 0 0 1 0 0 0 1 0 0 0 0 0 1 0 0 1 1 0 0 1 0 0 0 0 0 0\n",
              " [371] 0 0 0 1 0 1 0 0 1 0 0 0 0 0 0 1 0 0 1 1 0 0 1 1 0 0 0 1 1 0 0 0 0 0 0 0 0\n",
              " [408] 0 1 0 1 1 1 0 1 0 0 1 0 1 0 0 1 0 0 1 0 0 0 0 1 0 0 1 0 0 0 0 1 0 0 0 0 0\n",
              " [445] 0 1 0 1 0 0 0 0 0 0 1 0 0 1 0 0 0 0 0 0 0 0 0 0 1 0 0 0 0 1 1 0 0 0 1 0 1\n",
              " [482] 1 0 0 0 0 0 0 0 0 1 0 0 0 0 0 1 1 0 0 0 0 0 1 0 1 1 1 0 0 0 1 0 0 0 0 1 0\n",
              " [519] 0 0 1 0 1 1 0 0 0 0 0 1 1 1 0 1 1 0 1 0 1 1 0 0 0 0 0 0 0 0 1 0 0 1 1 1 0\n",
              " [556] 0 0 1 0 0 0 0 0 0 0 0 1 1 1 0 0 0 0 1 1 0 0 1 0 1 0 1 0 1 0 0 0 0 0 0 0 0\n",
              " [593] 0 0 0 1 1 1 0 1 1 0 0 0 0 0 0 0 0 0 0 0 0 1 0 0 0 1 0 0 1 0 0 0 1 0 0 1 0\n",
              " [630] 0 1 0 0 0 0 0 1 0 0 0 0 0 0 1 0 0 0 0 0 0 0 1 0 0 1 0 0 0 0 0 0 1 1 0 0 1\n",
              " [667] 0 0 0 0 0 0 0 0 0 1 0 0 1 1 0 0 0 0 0 0 0 0 0 0 0 0 0 0 1 0 0 1 0 0 0 0 0\n",
              " [704] 0 0 0 0 1 0 0 0 0 0 0 0 1 0 1 0 0 0 0 0 0 0 0 0 0 0 0 1 0 0 0 0 0 0 0 0 0\n",
              " [741] 0 0 0 0 0 0 0 1 0 0 0 0 0 0 1 0 1 1 0 1 0 0 0 0 0 0 0 1 1 0 0 0 0 0 0 0 0\n",
              " [778] 0 1 0 0 0 1 0 0 0 0 1 0 0 0 0 0 0 0 0 0 0 0 0 0 0 0 0 1 0 1 0 0 0 0 1 0 0\n",
              " [815] 0 0 0 0 1 0 0 0 0 0 0 0 0 0 0 1 0 0 0 0 0 0 0 0 0 0 0 0 0 0 1 0 1 0 0 1 0\n",
              " [852] 0 1 0 0 0 0 0 0 0 0 0 0 0 1 0 0 0 1 0 0 0 0 0 0 0 0 0 0 0 0 1 0 0 0 0 0 0\n",
              " [889] 0 1 1 0 0 0 0 0 0 0 0 0 0 1 0 0 0 1 0 1 0 1 0 0 1 0 0 0 0 0 1 0 0 0 0 0 0\n",
              " [926] 0 0 0 0 0 0 0 0 0 0 0 0 0 0 0 0 0 0 0 0 0 0 0 0 1 0 0 1 0 0 0 1 0 0 0 1 0\n",
              " [963] 0 0 0 0 0 1 1 0 0 0 0 0 1 0 0 0 0 0 0 0 0 0 0 0 0 0 1 0 0 0 0 1 1 0 0 0 0\n",
              "[1000] 0 0 0 1 0 0 0 0 0 0 0 0 1 0 0 0 0 0 0 0 0 1 0 0 0 0 0 0 0 0 0 0 1 0 0 0 0\n",
              "[1037] 0 0 0 0 0 0 1 0 1 0 0 1 0 0 0 0 0 0 0 0 0 0 1 0 0 1 0 0 1 0 0 0 0 0 1 0 1\n",
              "[1074] 0 0 1 0 1 0 0 0 1 0 1 0 0 1 0 0 0 0 0 0 0 0 0 0 0 0 0 0 0 0 0 0 0 0 1 1 0\n",
              "[1111] 0 1 0 0 0 1 0 0 0 1 0 0 0 0 0 0 1 1 0 0 0 1 0 0 0 0 0 1 1 0 0 0 0 1 0 0 0\n",
              "[1148] 0 0 0 0 0 0 0 0 0 1 0 0 0 0 0 0 0 1 0 0 0 0 0 0 0 0 0 1 0 0 0 0 0 0 0 0 0\n",
              "[1185] 0 0 0 1 0 0 1 0 0 0 0 0 0 0 1 1 0 0 0 0 0 0 0 1 0 1 1 0 1 0 0 0 0 0 0 0 0\n",
              "[1222] 0 0 1 0 1 0 0 1 0 0 0 1 0 1 0 0 0 0 0 0 0 0 0 0 1 1 1 0 0 1 1 0 1 1 0 0 0\n",
              "[1259] 1 0 0 0 0 1 0 0 0 0 0 0 0 0 0 0 0 0 0 0 0 0 0 0 0 0 0 0 0 0 0 1 1 0 1 0 0\n",
              "[1296] 1 1 0 0 1 0 0 0 1 1 1 0 0 0 0 0 0 0 0 1 0 0 0 1 0 1 0 1 0 0 0 0 0 0 0 0 0\n",
              "[1333] 0 1 0 0 0 0 0 0 0 0 1 0 1 0 0 1 0 1 0 1 0 1 0 0 0 0 0 0 0 1 0 0 0 1 0 1 1\n",
              "[1370] 0 0 1 0 0 0 0 1 0 1 1 0 0 0 0 1 0 1 1 0 1 0 1 1 0 0 0 0 1 0 0 0 1 0 1 0 0\n",
              "[1407] 0 0 0 1 1 1 0 0 1 0 0 0 0 0 0 0 0 0 0 0 0 1 0 0 0 1 0 0 0 1 1 1 0 0 0 1 0\n",
              "[1444] 0 0 0 0 0 0 0 0 0 0 0 0 0 0 0 0 0 0 0 0 0 0 0 0 0 0 0 0 1 1 0 1 0 0 0 1 0\n",
              "[1481] 0 0 0 1 0 0 0 0 1 1 0 1 0 0 0 0 0 0 0 1 0 0 0 1 0 0 0 0 0 0 0 0 0 0 1 0 0\n",
              "[1518] 1 0 0 0 0 0 0 0 0 1 0 1 0 0 0 0 1 0 1 0 0 0 0 0 0 1 0 0 1 1 0 0 1 0 0 1 0\n",
              "[1555] 0 0 0 1 0 0 0 0 0 0 0 0 1 0 0 0 0 1 0 1 0 1 0 1 1 0 0 1 0 0 0 0 0 1 0 0 0\n",
              "[1592] 0 0 1 0 0 0 0 0 0 0 1 0 1 0 0 0 1 0 0 0 0 0 1 0 0 0 0 0 0 1 0 0 0 1 0 0 0\n",
              "[1629] 0 0 1 0 1 0 0 0 0 1 0 0 0 0 1 0 0 0 1 0 1 0 0 0 0 0 0 1 0 0 0 0 0 0 0 0 0\n",
              "[1666] 0 0 0 0 0 1 0 0 0 0 0 0 0 0 0 0 0 1 0 1 0 0 0 1 0 0 0 0 0 0 0 0 0 0 0 0 0\n",
              "[1703] 0 0 1 0 0 0 0 0 0 0 0 0 1 0 0 0 1 0 0 0 0 0 0 0 1 1 0 0 0 0 0 0 0 0 0 0 0\n",
              "[1740] 0 0 1 0 1 0 1 1 0 0 0 0 0 1 0 0 0 1 0 1 1 0 0 0 0 0 0 0 0 0 0 1 0 0 0 0 0\n",
              "[1777] 1 1 0 0 0 0 0 0 1 0 0 0 0 1 0 1 0 1 0 1 1 0 0 1 0 0 0 0 0 0 0 0 0 0 1 0 0\n",
              "[1814] 1 0 0 0 0 0 0 1 0 1 0 1 0 0 0 1 0 0 0 0 0 0 0 0 0 0 0 0 0 0 1 1 0 0 0 1 0\n",
              "[1851] 0 0 0 0 0 0 0 0 0 0 1 1 0 0 0 0 1 0 0 0 0 0 0 0 0 0 1 1 0 0 0 1 0 0 1 1 0\n",
              "[1888] 0 0 0 0 0 0 0 0 0 0 1 0 0 0 0 1 0 0 0 0 1 0 0 0 0 0 1 0 1 0 0 0 0 0 0 1 0\n",
              "[1925] 0 0 0 0 0 0 1 0 0 0 0 0 0 1 0 0 0 0 1 0 1 0 0 0 0 0 0 0 0 0 0 0 0 0 1 1 0\n",
              "[1962] 0 0 0 0 0 1 0 1 1 1 0 0 0 0 1 0 0 0 0 1 0 0 0 0 0 0 0 0 0 1 0 0 0 0 0 0 0\n",
              "[1999] 0 0 0 0 0 0 0 0 0 0 0 0 1 1 0 1 0 1 0 0 0 1 0 1 0 0 1 0 0 0 0 0 1 0 0 0 1\n",
              "[2036] 0 0 0 0 0 0 0 0 0 0 0 1 0 1 0 1 0 0 0 0 0 0 0 1 0 0 1 0 0 0 0 0 0 0 0 0 0\n",
              "[2073] 1 1 0 1 0 0 0 1 0 0 0 0 0 0 1 1 0 0 0 0 0 0 0 0 0 0 0 1 0 0 0 0 0 0 1 0 0\n",
              "[2110] 0 0 0 0 0 0 0 0 0 0 0 0 0 0 0 0 0 1 0 0 0 0 0 0 0 0 0 0 0 0 0 0 0 0 1 1 0\n",
              "[2147] 0 0 1 0 0 0 1 0 1 0 0 0 0 1 1 1 0 0 1 0 0 0 0 1 0 0 0 1 0 0 0 0 1 1 0 0 0\n",
              "[2184] 0 0 1 0 0 0 1 0 0 1 0 0 0 1 0 0 1 1 0 0 0 0 0 0 1 0 0 0 1 0 0 0 0 0 0 0 1\n",
              "[2221] 0 0 0 0 0 0 0 1 0 0 0 1 1 0 0 0 0 1 0 0 1 0 0 0 0 0 0 0 0 0 0 0 0 1 0 0 1\n",
              "[2258] 0 0 0 0 0 0 1 0 0 0 1 1 0 0 0 1 0 0 0 0 1 0 0 0 1 0 1 0 0 1 0 1 0 0 1 0 0\n",
              "[2295] 0 0 0 0 1 1 0 0 0 0 1 1 1 0 0 0 0 0 0 0 0 1 0 0 0 0 1 0 0 0 0 0 0 0 0 1 0\n",
              "[2332] 1 0 0 0 0 0 0 1 0 0 0 0 0 0 0 0 0 0 1 0 0 0 1 1 0 0 0 0 0 0 0 0 0 1 0 0 0\n",
              "[2369] 0 0 0 0 1 0 0 0 0 0 0 1 0 1 1 0 0 0 0 0 0 0 0 0 1 0 1 0 1 0 0 0 0 0 0 0 0\n",
              "[2406] 0 0 0 0 0 0 0 0 1 0 0 0 0 0 1 0 0 0 1 1 0 0 0 1 0 0 0 0 0 0 0 0 1 0 0 0 0\n",
              "[2443] 0 0 1 0 0 0 1 0 0 0 0 1 0 0 0 0 0 0 0 0 0 0 0 1 0 1 0 1 1 0 1 0 0 0 0 1 0\n",
              "[2480] 0 0 0 0 0 0 0 0 0 0 1 0 0 0 0 0 0 0 0 0 1 0 0 0 0 0 1 0 0 0 0 1 1 0 0 0 0\n",
              "[2517] 0 0 0 0 0 0 0 0 0 0 0 1 0 1 0 0 0 0 1 0 0 1 0 0 0 0 0 1 1 0 0 0 0 1 0 1 0\n",
              "[2554] 0 0 0 0 0 0 0 0 0 0 0 0 0 0 0 0 0 0 0 0 0 0 0 1 0 0 0 1 0 0 0 0 1 0 0 0 0\n",
              "[2591] 0 0 1 0 0 0 0 0 0 0 0 0 0 0 0 0 0 0 0 0 0 0 1 1 0 0 0 0 0 1 0 0 0 1 0 0 0\n",
              "[2628] 0 0 0 0 0 1 0 0 0 0 1 0 0 0 0 0 0 0 0 0 1 0 0 0 0 0 0 1 0 1 0 0 1 1 0 1 0\n",
              "[2665] 0 0 0 0 0 0 0 0 0 0 0 0 0 0 0 0 0 0 0 0 0 0 0 0 0 0 1 0 0 0 1 0 1 0 0 0 0\n",
              "[2702] 0 0 0 0 0 0 0 0 0 0 0 0 0 0 1 0 0 0 0 1 0 0 1 0 0 0 0 0 0 0 0 0 0 0 0 1 0\n",
              "[2739] 0 0 0 0 1 0 0 0 0 0 0 0 1 1 0 0 0 0 0 0 0 0 1 0 0 0 0 0 0 0 0 1 0 0 0 1 0\n",
              "[2776] 0 0 0 0 0 0 0 0 0 0 0 0 0 0 0 1 0 0 1 0 0 0 0 0 0 0 0 0 0 0 0 0 0 0 0 0 0\n",
              "[2813] 0 1 0 0 0 0 0 0 0 0 1 0 0 0 0 0 0 1 0 0 1 1 0 0 0 0 0 0 1 0 0 0 0 0 0 0 0\n",
              "[2850] 0 0 1 0 0 0 0 1 0 0 0 0 0 0 0 0 1 0 0 0 0 0 0 0 0 1 0 0 0 0 0 0 0 0 0 1 0\n",
              "[2887] 0 0 0 0 0 0 0 0 1 0 1 1 0 0 0 0 0 0 0 0 0 0 1 1 1 0 0 0 1 1 0 0 0 0 0 1 1\n",
              "[2924] 0 0 0 0 0 0 1 0 0 0 0 0 0 0 0 0 0 0 0 0 0 1 0 1 0 1 0 1 0 1 0 0 1 1 0 0 1\n",
              "[2961] 0 0 0 1 0 0 0 0 1 0 0 0 1 0 0 0 0 0 0 0 0 1 0 0 0 0 0 0 1 0 0 0 0 1 0 0 0\n",
              "[2998] 0 0 0 1 0 0 0 0 1 0 0 0 0 0 0 0 1 0 1 1 0 0 0 0 0 0 1 0 0 0 0 1 0 1 0 0 0\n",
              "[3035] 0 1 0 1 1 1 0 1 1 0 0 0 0 1 0 1 0 1 0 0 0 0 1 0 1 0 0 0 0 0 0 0 0 0 0 1 0\n",
              "[3072] 0 0 1 0 1 0 1 1 0 0 0 0 0 0 0 0 0 1 0 0 0 0 1 0 0 0 1 0 0 0 0 1 0 0 0 0 1\n",
              "[3109] 1 0 1 0 0 0 1 0 0 0 1 0 0 0 0 0 0 0 0 1 1 0 0 0 0 0 1 0 0 0 0 0 0 1 0 0 0\n",
              "[3146] 0 0 0 0 0 0 0 0 1 0 0 0 0 0 0 1 0 0 1 0 0 0 0 0 1 1 1 0 0 0 1 0 0 0 0 1 0\n",
              "[3183] 1 0 0 0 0 0 1 1 0 1 0 1 0 0 0 0 0 0 1 0 0 0 0 0 0 0 1 0 0 1 0 0 0 0 0 0 0\n",
              "[3220] 1 1 0 0 0 0 0 0 1 0 1 0 0 1 0 0 1 1 0 0 1 0 1 0 0 0 1 1 0 0 0 1 0 0 1 0 0\n",
              "[3257] 0 0 0 0 1 0 0 0 0 1 0 1 0 1 0 0 0 0 1 0 0 0 0 0 0 0 0 0 0 0 0 0 0 0 1 1 1\n",
              "[3294] 0 0 0 0 1 0 1 0 0 1 0 0 0 0 0 1 0 0 0 0 0 0 0 0 0 0 0 0 1 0 0 0 0 0 0 0 0\n",
              "[3331] 1 0 1 0 0 0 0 0 0 0 0 0 1 0 1 0 0 0 0 0 0 0 0 0 0 0 0 1 1 0 0 0 1 0 1 0 0\n",
              "[3368] 0 1 1 0 0 0 0 0 0 0 1 1 0 0 0 1 0 0 0 0 1 0 1 0 0 1 0 0 1 1 0 1 0 0 0 0 0\n",
              "[3405] 1 0 1 0 0 0 1 0 1 0 1 0 1 0 0 0 0 1 0 1 0 0 0 0 0 0 0 0 0 1 1 0 0 0 0 0 0\n",
              "[3442] 0 0 0 0 0 0 0 0 0 0 0 0 1 0 0 0 1 0 0 0 0 0 0 0 0 1 0 0 1 0 1 0 0 0 0 0 0\n",
              "[3479] 0 1 0 1 0 0 1 1 0 0 0 0 0 0 0 1 0 1 0 0 0 0 0\n",
              "Levels: 0 1"
            ]
          },
          "metadata": {}
        },
        {
          "output_type": "error",
          "ename": "ERROR",
          "evalue": "ignored",
          "traceback": [
            "Error in prediction(pd3, m_test$Exited): Number of cross-validation runs must be equal for predictions and labels.\nTraceback:\n",
            "1. prediction(pd3, m_test$Exited)",
            "2. stop(paste(\"Number of cross-validation runs must be equal\", \"for predictions and labels.\"))"
          ]
        }
      ],
      "source": [
        "#https://www.datamanim.com/dataset/03_dataq/typetwo.html\n",
        "#분류\n",
        "#서비스 이탈예측 데이터\n",
        "#데이터 설명 : 고객의 신상정보 데이터를 통한 회사 서비스 이탈 예측 (종속변수 : Exited)\n",
        "x_train <-read.csv(\"https://raw.githubusercontent.com/Datamanim/datarepo/main/churnk/X_train.csv\",header=T, stringsAsFactors=T)\n",
        "y_train <-read.csv(\"https://raw.githubusercontent.com/Datamanim/datarepo/main/churnk/y_train.csv\",header=T, stringsAsFactors=T)\n",
        "x_test <-read.csv(\"https://raw.githubusercontent.com/Datamanim/datarepo/main/churnk/X_test.csv\",header=T, stringsAsFactors=T)\n",
        "x_label <-read.csv(\"https://raw.githubusercontent.com/Datamanim/datarepo/main/churnk/y_test.csv\",header=T, stringsAsFactors=T)\n",
        "#install.packages(\"caret\")\n",
        "#install.packages(\"ModelMetrics\")\n",
        "#install.packages(\"randomForest\")\n",
        "#install.packages(\"rpart\")\n",
        "#install.packages(\"car\")\n",
        "#install.packages(\"lmtest\")\n",
        "#install.packages(\"ROCR\")\n",
        "library(dplyr)\n",
        "library(caret)\n",
        "library(car)\n",
        "library(lmtest)\n",
        "library(ROCR)\n",
        "library(ModelMetrics)\n",
        "library(randomForest)\n",
        "library(rpart)\n",
        "library(e1071)\n",
        "# 결측치 확인\n",
        "#apply(is.na(x_train),2,sum)\n",
        "#apply(is.na(x_test),2,sum)\n",
        "#apply(is.na(y_train),2,sum)\n",
        "\n",
        "x_train<-merge(x_train,y_train,by='CustomerId')\n",
        "x_test<-merge(x_test,x_label,by='CustomerId')\n",
        "\n",
        "\n",
        "x_test<-x_test[,c(3,6,7,8,9,10,11,12,13)]\n",
        "x_train<-x_train[,c(3,6,7,8,9,10,11,12,13)]\n",
        "\n",
        "m_test<-x_test\n",
        "m_test$Exited<-as.factor(m_test$Exited)\n",
        "m_train<-x_train\n",
        "m_train$Exited<-as.factor(m_train$Exited)\n",
        "\n",
        "\n",
        "\n",
        "str(m_test)\n",
        "m_test$Exited\n",
        "\n",
        "m1 <- rpart(Exited~., data=x_train) #의사결정나무\n",
        "m2 <- glm(Exited~., data=x_train, family=\"binomial\") #로지스틱 회귀분석\n",
        "m3 <- randomForest(Exited~., data=m_train, ntree=100) #랜덤포레스트\n",
        "m4 <- svm(Exited~., data=x_train)#서포트벡터머신\n",
        "\n",
        "pd1<-predict(m1,newdata=x_test)\n",
        "pd2<-predict(m2,newdata=x_test)\n",
        "pd3<-predict(m3,newdata=m_test, type = \"response\")\n",
        "pd4<-predict(m4,newdata=x_test)\n",
        "\n",
        "prd1 <- prediction(pd1, x_test$Exited)\n",
        "prd2 <- prediction(pd2, x_test$Exited)\n",
        "prd3 <- prediction(pd3, m_test$Exited)\n",
        "prd4 <- prediction(pd4, x_test$Exited)\n",
        "pf1<-performance(prd1, measure = \"auc\")\n",
        "pf2<-performance(prd2, measure = \"auc\")\n",
        "pf3<-performance(prd3, measure = \"auc\")\n",
        "pf4<-performance(prd4, measure = \"auc\")\n",
        "cat(\"ctree auc:\",pf1@y.values[[1]],'\\n')\n",
        "cat(\"glm auc:\",pf2@y.values[[1]],'\\n')\n",
        "cat(\"randomForest auc:\",pf3@y.values[[1]],'\\n')\n",
        "cat(\"svm auc:\",pf4@y.values[[1]],'\\n')"
      ]
    },
    {
      "cell_type": "code",
      "source": [
        "#https://www.datamanim.com/dataset/03_dataq/typetwo.html\n",
        "#분류\n",
        "#서비스 이탈예측 데이터\n",
        "#데이터 설명 : 고객의 신상정보 데이터를 통한 회사 서비스 이탈 예측 (종속변수 : Exited)\n",
        "\n",
        "\n",
        "install.packages(\"caret\")\n",
        "install.packages(\"ModelMetrics\")\n",
        "install.packages(\"randomForest\")\n",
        "install.packages(\"rpart\")\n",
        "install.packages(\"car\")\n",
        "install.packages(\"lmtest\")\n",
        "install.packages(\"ROCR\")\n",
        "install.packages(\"dplyr\")\n",
        "library(dplyr)\n",
        "library(caret)\n",
        "library(car)\n",
        "library(lmtest)\n",
        "library(ROCR)\n",
        "library(ModelMetrics)\n",
        "library(randomForest)\n",
        "library(rpart)\n",
        "library(e1071)\n",
        "\n",
        "dfx_train <-read.csv(\"https://raw.githubusercontent.com/Datamanim/datarepo/main/churnk/X_train.csv\",header=T, stringsAsFactors=T)\n",
        "dfy_train <-read.csv(\"https://raw.githubusercontent.com/Datamanim/datarepo/main/churnk/y_train.csv\",header=T, stringsAsFactors=T)\n",
        "dfx_test <-read.csv(\"https://raw.githubusercontent.com/Datamanim/datarepo/main/churnk/X_test.csv\",header=T, stringsAsFactors=T)\n",
        "dfy_test <-read.csv(\"https://raw.githubusercontent.com/Datamanim/datarepo/main/churnk/y_test.csv\",header=T, stringsAsFactors=T)\n",
        "\n",
        "# 결측치 확인\n",
        "#apply(is.na(x_train),2,sum)\n",
        "#apply(is.na(x_test),2,sum)\n",
        "#apply(is.na(y_train),2,sum)\n",
        "\n",
        "df<-merge(dfx_train,dfy_train,by='CustomerId')\n",
        "str(df)\n",
        "df<-df[,c(3,6,7,8,9,10,11,12,13)]\n",
        "\n",
        "head(dfx_test)\n",
        "df2_test<-dfx_test[,c(3,6,7,8,9,10,11,12)]\n",
        "dfy_test<-dfy_test[,2]\n",
        "# dfy_test<-as.factor(dfy_test)\n",
        "\n",
        "\n",
        "idx<-sample(1:nrow(df), 0.7*nrow(df))\n",
        "#idx <- createDataPartition(df$Exited, p=0.7, list=F)\n",
        "df_train<-df[idx,]\n",
        "df_test<-df[-idx,]\n",
        "\n",
        "df_train$Exited<-as.factor(df_train$Exited)\n",
        "df_test$Exited<-as.factor(df_test$Exited)\n",
        "\n",
        "m1 <- rpart(Exited~., data=df_train) #의사결정나무\n",
        "m2 <- glm(Exited~., data=df_train, family=\"binomial\") #로지스틱 회귀분석\n",
        "m3 <- randomForest(Exited~., data=df_train, ntree=100) #랜덤포레스트\n",
        "m4 <- svm(Exited~., data=df_train)#서포트벡터머신\n",
        "\n",
        "pd1<-predict(m1,newdata=df_test)\n",
        "pd2<-predict(m2,newdata=df_test, type = \"response\")\n",
        "pd3<-predict(m3,newdata=df_test)\n",
        "pd4<-predict(m4,newdata=df_test)\n",
        "\n",
        "p11<-as.factor(round(pd1[,2]))\n",
        "p22<-as.factor(round(pd2))\n",
        "p33<-pd3\n",
        "p44<-pd4\n",
        "\n",
        "caret::confusionMatrix(df_test$Exited, p11)$byClass[7]\n",
        "caret::confusionMatrix(df_test$Exited, p22)$byClass[7]\n",
        "caret::confusionMatrix(df_test$Exited, p33)$byClass[7]\n",
        "caret::confusionMatrix(df_test$Exited, p44)$byClass[7]\n",
        "\n",
        "caret::confusionMatrix(df_test$Exited, p11)$overall[1]\n",
        "caret::confusionMatrix(df_test$Exited, p22)$overall[1]\n",
        "caret::confusionMatrix(df_test$Exited, p33)$overall[1]\n",
        "caret::confusionMatrix(df_test$Exited, p44)$overall[1]\n",
        "\n",
        "auc(df_test$Exited, p11) #의사결정나무\n",
        "auc(df_test$Exited, p22) #로지스틱 회귀분석\n",
        "auc(df_test$Exited, p33) #랜덤포레스트\n",
        "auc(df_test$Exited, p44) #서포트벡터머신\n",
        "\n",
        "\n",
        "df$Exited <- as.factor(df$Exited)\n",
        "m <- randomForest(Exited~., data=df, ntree=100)\n",
        "#test 예측하기\n",
        "p <- predict(m, newdata=df2_test)\n",
        "head(p)\n",
        "length(p)\n",
        "result<-as.data.frame(as.character(p));head(result)\n",
        "write.csv(result, \"1234.csv\", row.names=F)\n",
        "abc<-read.csv(\"1234.csv\")\n",
        "\n",
        "tmp_f<-caret::confusionMatrix(as.factor(dfy_test), as.factor(p))\n",
        "auc<- auc(dfy_test, as.numeric(p))\n",
        "cat(\"auc=\",auc)\n",
        "tmp_f$byClass[7]\n",
        "tmp_f$overall[1]\n",
        "# 답안 제출 참고\n",
        "# 아래 코드 변수명과 수험번호를 개인별로 변경하여 활용\n",
        "# write.csv(변수명,'003000000.csv',row.names=F) \n"
      ],
      "metadata": {
        "colab": {
          "base_uri": "https://localhost:8080/",
          "height": 1000
        },
        "id": "cHeq-SDQpfLO",
        "outputId": "da898d8e-5a5f-41ae-cbef-449694057078"
      },
      "execution_count": 1,
      "outputs": [
        {
          "output_type": "stream",
          "name": "stderr",
          "text": [
            "Installing package into ‘/usr/local/lib/R/site-library’\n",
            "(as ‘lib’ is unspecified)\n",
            "\n",
            "also installing the dependencies ‘listenv’, ‘parallelly’, ‘future’, ‘globals’, ‘future.apply’, ‘numDeriv’, ‘progressr’, ‘SQUAREM’, ‘lava’, ‘prodlim’, ‘proxy’, ‘iterators’, ‘Rcpp’, ‘gower’, ‘hardhat’, ‘ipred’, ‘timeDate’, ‘e1071’, ‘foreach’, ‘ModelMetrics’, ‘plyr’, ‘pROC’, ‘recipes’, ‘reshape2’\n",
            "\n",
            "\n",
            "Installing package into ‘/usr/local/lib/R/site-library’\n",
            "(as ‘lib’ is unspecified)\n",
            "\n",
            "Installing package into ‘/usr/local/lib/R/site-library’\n",
            "(as ‘lib’ is unspecified)\n",
            "\n",
            "Installing package into ‘/usr/local/lib/R/site-library’\n",
            "(as ‘lib’ is unspecified)\n",
            "\n",
            "Installing package into ‘/usr/local/lib/R/site-library’\n",
            "(as ‘lib’ is unspecified)\n",
            "\n",
            "also installing the dependencies ‘SparseM’, ‘MatrixModels’, ‘minqa’, ‘nloptr’, ‘RcppEigen’, ‘carData’, ‘abind’, ‘pbkrtest’, ‘quantreg’, ‘lme4’\n",
            "\n",
            "\n",
            "Installing package into ‘/usr/local/lib/R/site-library’\n",
            "(as ‘lib’ is unspecified)\n",
            "\n",
            "also installing the dependency ‘zoo’\n",
            "\n",
            "\n",
            "Installing package into ‘/usr/local/lib/R/site-library’\n",
            "(as ‘lib’ is unspecified)\n",
            "\n",
            "also installing the dependencies ‘bitops’, ‘gtools’, ‘caTools’, ‘gplots’\n",
            "\n",
            "\n",
            "Installing package into ‘/usr/local/lib/R/site-library’\n",
            "(as ‘lib’ is unspecified)\n",
            "\n",
            "\n",
            "Attaching package: ‘dplyr’\n",
            "\n",
            "\n",
            "The following objects are masked from ‘package:stats’:\n",
            "\n",
            "    filter, lag\n",
            "\n",
            "\n",
            "The following objects are masked from ‘package:base’:\n",
            "\n",
            "    intersect, setdiff, setequal, union\n",
            "\n",
            "\n",
            "Loading required package: ggplot2\n",
            "\n",
            "Loading required package: lattice\n",
            "\n",
            "Warning message in system(\"timedatectl\", intern = TRUE):\n",
            "“running command 'timedatectl' had status 1”\n",
            "Loading required package: carData\n",
            "\n",
            "\n",
            "Attaching package: ‘car’\n",
            "\n",
            "\n",
            "The following object is masked from ‘package:dplyr’:\n",
            "\n",
            "    recode\n",
            "\n",
            "\n",
            "Loading required package: zoo\n",
            "\n",
            "\n",
            "Attaching package: ‘zoo’\n",
            "\n",
            "\n",
            "The following objects are masked from ‘package:base’:\n",
            "\n",
            "    as.Date, as.Date.numeric\n",
            "\n",
            "\n",
            "\n",
            "Attaching package: ‘ModelMetrics’\n",
            "\n",
            "\n",
            "The following objects are masked from ‘package:caret’:\n",
            "\n",
            "    confusionMatrix, precision, recall, sensitivity, specificity\n",
            "\n",
            "\n",
            "The following object is masked from ‘package:base’:\n",
            "\n",
            "    kappa\n",
            "\n",
            "\n",
            "randomForest 4.7-1.1\n",
            "\n",
            "Type rfNews() to see new features/changes/bug fixes.\n",
            "\n",
            "\n",
            "Attaching package: ‘randomForest’\n",
            "\n",
            "\n",
            "The following object is masked from ‘package:ggplot2’:\n",
            "\n",
            "    margin\n",
            "\n",
            "\n",
            "The following object is masked from ‘package:dplyr’:\n",
            "\n",
            "    combine\n",
            "\n",
            "\n"
          ]
        },
        {
          "output_type": "stream",
          "name": "stdout",
          "text": [
            "'data.frame':\t6499 obs. of  13 variables:\n",
            " $ CustomerId     : int  15565701 15565706 15565779 15565806 15565878 15565891 15565996 15566030 15566091 15566111 ...\n",
            " $ Surname        : Factor w/ 2289 levels \"Abazu\",\"Abbott\",..: 680 27 1087 2044 142 560 80 2076 2022 641 ...\n",
            " $ CreditScore    : int  698 612 627 532 631 709 653 497 545 596 ...\n",
            " $ Geography      : Factor w/ 3 levels \"France\",\"Germany\",..: 3 3 2 1 3 1 1 2 3 1 ...\n",
            " $ Gender         : Factor w/ 4 levels \" male\",\"female\",..: 3 4 3 1 4 4 4 4 3 4 ...\n",
            " $ Age            : int  39 35 30 38 29 39 44 41 32 39 ...\n",
            " $ Tenure         : int  9 1 6 9 3 8 8 5 4 9 ...\n",
            " $ Balance        : num  161994 0 57809 0 0 ...\n",
            " $ NumOfProducts  : int  1 1 1 2 2 2 2 1 1 1 ...\n",
            " $ HasCrCard      : int  0 1 1 0 1 1 1 0 1 1 ...\n",
            " $ IsActiveMember : int  0 1 0 0 1 0 1 0 0 0 ...\n",
            " $ EstimatedSalary: num  90212 83256 188258 30584 197963 ...\n",
            " $ Exited         : int  0 1 0 0 0 0 0 1 0 0 ...\n"
          ]
        },
        {
          "output_type": "display_data",
          "data": {
            "text/html": [
              "<table class=\"dataframe\">\n",
              "<caption>A data.frame: 6 × 12</caption>\n",
              "<thead>\n",
              "\t<tr><th></th><th scope=col>CustomerId</th><th scope=col>Surname</th><th scope=col>CreditScore</th><th scope=col>Geography</th><th scope=col>Gender</th><th scope=col>Age</th><th scope=col>Tenure</th><th scope=col>Balance</th><th scope=col>NumOfProducts</th><th scope=col>HasCrCard</th><th scope=col>IsActiveMember</th><th scope=col>EstimatedSalary</th></tr>\n",
              "\t<tr><th></th><th scope=col>&lt;int&gt;</th><th scope=col>&lt;fct&gt;</th><th scope=col>&lt;int&gt;</th><th scope=col>&lt;fct&gt;</th><th scope=col>&lt;fct&gt;</th><th scope=col>&lt;int&gt;</th><th scope=col>&lt;int&gt;</th><th scope=col>&lt;dbl&gt;</th><th scope=col>&lt;int&gt;</th><th scope=col>&lt;int&gt;</th><th scope=col>&lt;int&gt;</th><th scope=col>&lt;dbl&gt;</th></tr>\n",
              "</thead>\n",
              "<tbody>\n",
              "\t<tr><th scope=row>1</th><td>15601012</td><td>Abdullah   </td><td>802</td><td>France </td><td>Female</td><td>60</td><td> 3</td><td> 92887.06</td><td>1</td><td>1</td><td>0</td><td> 39473.63</td></tr>\n",
              "\t<tr><th scope=row>2</th><td>15734762</td><td>Ignatiev   </td><td>602</td><td>France </td><td>Female</td><td>56</td><td> 3</td><td>115895.22</td><td>3</td><td>1</td><td>0</td><td>  4176.17</td></tr>\n",
              "\t<tr><th scope=row>3</th><td>15586757</td><td>Anenechukwu</td><td>801</td><td>France </td><td>Female</td><td>32</td><td> 4</td><td> 75170.54</td><td>1</td><td>1</td><td>1</td><td> 37898.50</td></tr>\n",
              "\t<tr><th scope=row>4</th><td>15590888</td><td>Wade       </td><td>693</td><td>Spain  </td><td>Female</td><td>34</td><td>10</td><td>107556.06</td><td>2</td><td>0</td><td>0</td><td>154631.35</td></tr>\n",
              "\t<tr><th scope=row>5</th><td>15726087</td><td>Ch'in      </td><td>592</td><td>France </td><td>Female</td><td>62</td><td> 5</td><td>     0.00</td><td>1</td><td>1</td><td>1</td><td>100941.57</td></tr>\n",
              "\t<tr><th scope=row>6</th><td>15769504</td><td>Munro      </td><td>743</td><td>Germany</td><td>Female</td><td>34</td><td> 1</td><td>131736.88</td><td>1</td><td>1</td><td>1</td><td>108543.21</td></tr>\n",
              "</tbody>\n",
              "</table>\n"
            ],
            "text/markdown": "\nA data.frame: 6 × 12\n\n| <!--/--> | CustomerId &lt;int&gt; | Surname &lt;fct&gt; | CreditScore &lt;int&gt; | Geography &lt;fct&gt; | Gender &lt;fct&gt; | Age &lt;int&gt; | Tenure &lt;int&gt; | Balance &lt;dbl&gt; | NumOfProducts &lt;int&gt; | HasCrCard &lt;int&gt; | IsActiveMember &lt;int&gt; | EstimatedSalary &lt;dbl&gt; |\n|---|---|---|---|---|---|---|---|---|---|---|---|---|\n| 1 | 15601012 | Abdullah    | 802 | France  | Female | 60 |  3 |  92887.06 | 1 | 1 | 0 |  39473.63 |\n| 2 | 15734762 | Ignatiev    | 602 | France  | Female | 56 |  3 | 115895.22 | 3 | 1 | 0 |   4176.17 |\n| 3 | 15586757 | Anenechukwu | 801 | France  | Female | 32 |  4 |  75170.54 | 1 | 1 | 1 |  37898.50 |\n| 4 | 15590888 | Wade        | 693 | Spain   | Female | 34 | 10 | 107556.06 | 2 | 0 | 0 | 154631.35 |\n| 5 | 15726087 | Ch'in       | 592 | France  | Female | 62 |  5 |      0.00 | 1 | 1 | 1 | 100941.57 |\n| 6 | 15769504 | Munro       | 743 | Germany | Female | 34 |  1 | 131736.88 | 1 | 1 | 1 | 108543.21 |\n\n",
            "text/latex": "A data.frame: 6 × 12\n\\begin{tabular}{r|llllllllllll}\n  & CustomerId & Surname & CreditScore & Geography & Gender & Age & Tenure & Balance & NumOfProducts & HasCrCard & IsActiveMember & EstimatedSalary\\\\\n  & <int> & <fct> & <int> & <fct> & <fct> & <int> & <int> & <dbl> & <int> & <int> & <int> & <dbl>\\\\\n\\hline\n\t1 & 15601012 & Abdullah    & 802 & France  & Female & 60 &  3 &  92887.06 & 1 & 1 & 0 &  39473.63\\\\\n\t2 & 15734762 & Ignatiev    & 602 & France  & Female & 56 &  3 & 115895.22 & 3 & 1 & 0 &   4176.17\\\\\n\t3 & 15586757 & Anenechukwu & 801 & France  & Female & 32 &  4 &  75170.54 & 1 & 1 & 1 &  37898.50\\\\\n\t4 & 15590888 & Wade        & 693 & Spain   & Female & 34 & 10 & 107556.06 & 2 & 0 & 0 & 154631.35\\\\\n\t5 & 15726087 & Ch'in       & 592 & France  & Female & 62 &  5 &      0.00 & 1 & 1 & 1 & 100941.57\\\\\n\t6 & 15769504 & Munro       & 743 & Germany & Female & 34 &  1 & 131736.88 & 1 & 1 & 1 & 108543.21\\\\\n\\end{tabular}\n",
            "text/plain": [
              "  CustomerId Surname     CreditScore Geography Gender Age Tenure Balance  \n",
              "1 15601012   Abdullah    802         France    Female 60   3      92887.06\n",
              "2 15734762   Ignatiev    602         France    Female 56   3     115895.22\n",
              "3 15586757   Anenechukwu 801         France    Female 32   4      75170.54\n",
              "4 15590888   Wade        693         Spain     Female 34  10     107556.06\n",
              "5 15726087   Ch'in       592         France    Female 62   5          0.00\n",
              "6 15769504   Munro       743         Germany   Female 34   1     131736.88\n",
              "  NumOfProducts HasCrCard IsActiveMember EstimatedSalary\n",
              "1 1             1         0               39473.63      \n",
              "2 3             1         0                4176.17      \n",
              "3 1             1         1               37898.50      \n",
              "4 2             0         0              154631.35      \n",
              "5 1             1         1              100941.57      \n",
              "6 1             1         1              108543.21      "
            ]
          },
          "metadata": {}
        },
        {
          "output_type": "display_data",
          "data": {
            "text/html": [
              "<strong>F1:</strong> 0.914719271623672"
            ],
            "text/markdown": "**F1:** 0.914719271623672",
            "text/latex": "\\textbf{F1:} 0.914719271623672",
            "text/plain": [
              "       F1 \n",
              "0.9147193 "
            ]
          },
          "metadata": {}
        },
        {
          "output_type": "display_data",
          "data": {
            "text/html": [
              "<strong>F1:</strong> 0.892153981780782"
            ],
            "text/markdown": "**F1:** 0.892153981780782",
            "text/latex": "\\textbf{F1:} 0.892153981780782",
            "text/plain": [
              "      F1 \n",
              "0.892154 "
            ]
          },
          "metadata": {}
        },
        {
          "output_type": "display_data",
          "data": {
            "text/html": [
              "<strong>F1:</strong> 0.917604134995439"
            ],
            "text/markdown": "**F1:** 0.917604134995439",
            "text/latex": "\\textbf{F1:} 0.917604134995439",
            "text/plain": [
              "       F1 \n",
              "0.9176041 "
            ]
          },
          "metadata": {}
        },
        {
          "output_type": "display_data",
          "data": {
            "text/html": [
              "<strong>F1:</strong> 0.917993391408832"
            ],
            "text/markdown": "**F1:** 0.917993391408832",
            "text/latex": "\\textbf{F1:} 0.917993391408832",
            "text/plain": [
              "       F1 \n",
              "0.9179934 "
            ]
          },
          "metadata": {}
        },
        {
          "output_type": "display_data",
          "data": {
            "text/html": [
              "<strong>Accuracy:</strong> 0.855897435897436"
            ],
            "text/markdown": "**Accuracy:** 0.855897435897436",
            "text/latex": "\\textbf{Accuracy:} 0.855897435897436",
            "text/plain": [
              " Accuracy \n",
              "0.8558974 "
            ]
          },
          "metadata": {}
        },
        {
          "output_type": "display_data",
          "data": {
            "text/html": [
              "<strong>Accuracy:</strong> 0.811794871794872"
            ],
            "text/markdown": "**Accuracy:** 0.811794871794872",
            "text/latex": "\\textbf{Accuracy:} 0.811794871794872",
            "text/plain": [
              " Accuracy \n",
              "0.8117949 "
            ]
          },
          "metadata": {}
        },
        {
          "output_type": "display_data",
          "data": {
            "text/html": [
              "<strong>Accuracy:</strong> 0.861025641025641"
            ],
            "text/markdown": "**Accuracy:** 0.861025641025641",
            "text/latex": "\\textbf{Accuracy:} 0.861025641025641",
            "text/plain": [
              " Accuracy \n",
              "0.8610256 "
            ]
          },
          "metadata": {}
        },
        {
          "output_type": "display_data",
          "data": {
            "text/html": [
              "<strong>Accuracy:</strong> 0.86"
            ],
            "text/markdown": "**Accuracy:** 0.86",
            "text/latex": "\\textbf{Accuracy:} 0.86",
            "text/plain": [
              "Accuracy \n",
              "    0.86 "
            ]
          },
          "metadata": {}
        },
        {
          "output_type": "display_data",
          "data": {
            "text/html": [
              "0.69162205319163"
            ],
            "text/markdown": "0.69162205319163",
            "text/latex": "0.69162205319163",
            "text/plain": [
              "[1] 0.6916221"
            ]
          },
          "metadata": {}
        },
        {
          "output_type": "display_data",
          "data": {
            "text/html": [
              "0.569491008838769"
            ],
            "text/markdown": "0.569491008838769",
            "text/latex": "0.569491008838769",
            "text/plain": [
              "[1] 0.569491"
            ]
          },
          "metadata": {}
        },
        {
          "output_type": "display_data",
          "data": {
            "text/html": [
              "0.702624133681407"
            ],
            "text/markdown": "0.702624133681407",
            "text/latex": "0.702624133681407",
            "text/plain": [
              "[1] 0.7026241"
            ]
          },
          "metadata": {}
        },
        {
          "output_type": "display_data",
          "data": {
            "text/html": [
              "0.681496229940501"
            ],
            "text/markdown": "0.681496229940501",
            "text/latex": "0.681496229940501",
            "text/plain": [
              "[1] 0.6814962"
            ]
          },
          "metadata": {}
        },
        {
          "output_type": "display_data",
          "data": {
            "text/html": [
              "<style>\n",
              ".dl-inline {width: auto; margin:0; padding: 0}\n",
              ".dl-inline>dt, .dl-inline>dd {float: none; width: auto; display: inline-block}\n",
              ".dl-inline>dt::after {content: \":\\0020\"; padding-right: .5ex}\n",
              ".dl-inline>dt:not(:first-of-type) {padding-left: .5ex}\n",
              "</style><dl class=dl-inline><dt>1</dt><dd>1</dd><dt>2</dt><dd>1</dd><dt>3</dt><dd>0</dd><dt>4</dt><dd>0</dd><dt>5</dt><dd>0</dd><dt>6</dt><dd>0</dd></dl>\n",
              "\n",
              "<details>\n",
              "\t<summary style=display:list-item;cursor:pointer>\n",
              "\t\t<strong>Levels</strong>:\n",
              "\t</summary>\n",
              "\t<style>\n",
              "\t.list-inline {list-style: none; margin:0; padding: 0}\n",
              "\t.list-inline>li {display: inline-block}\n",
              "\t.list-inline>li:not(:last-child)::after {content: \"\\00b7\"; padding: 0 .5ex}\n",
              "\t</style>\n",
              "\t<ol class=list-inline><li>'0'</li><li>'1'</li></ol>\n",
              "</details>"
            ],
            "text/markdown": "1\n:   12\n:   13\n:   04\n:   05\n:   06\n:   0\n\n\n**Levels**: 1. '0'\n2. '1'\n\n\n",
            "text/latex": "\\begin{description*}\n\\item[1] 1\n\\item[2] 1\n\\item[3] 0\n\\item[4] 0\n\\item[5] 0\n\\item[6] 0\n\\end{description*}\n\n\\emph{Levels}: \\begin{enumerate*}\n\\item '0'\n\\item '1'\n\\end{enumerate*}\n",
            "text/plain": [
              "1 2 3 4 5 6 \n",
              "1 1 0 0 0 0 \n",
              "Levels: 0 1"
            ]
          },
          "metadata": {}
        },
        {
          "output_type": "display_data",
          "data": {
            "text/html": [
              "3501"
            ],
            "text/markdown": "3501",
            "text/latex": "3501",
            "text/plain": [
              "[1] 3501"
            ]
          },
          "metadata": {}
        },
        {
          "output_type": "display_data",
          "data": {
            "text/html": [
              "<table class=\"dataframe\">\n",
              "<caption>A data.frame: 6 × 1</caption>\n",
              "<thead>\n",
              "\t<tr><th></th><th scope=col>as.character(p)</th></tr>\n",
              "\t<tr><th></th><th scope=col>&lt;chr&gt;</th></tr>\n",
              "</thead>\n",
              "<tbody>\n",
              "\t<tr><th scope=row>1</th><td>1</td></tr>\n",
              "\t<tr><th scope=row>2</th><td>1</td></tr>\n",
              "\t<tr><th scope=row>3</th><td>0</td></tr>\n",
              "\t<tr><th scope=row>4</th><td>0</td></tr>\n",
              "\t<tr><th scope=row>5</th><td>0</td></tr>\n",
              "\t<tr><th scope=row>6</th><td>0</td></tr>\n",
              "</tbody>\n",
              "</table>\n"
            ],
            "text/markdown": "\nA data.frame: 6 × 1\n\n| <!--/--> | as.character(p) &lt;chr&gt; |\n|---|---|\n| 1 | 1 |\n| 2 | 1 |\n| 3 | 0 |\n| 4 | 0 |\n| 5 | 0 |\n| 6 | 0 |\n\n",
            "text/latex": "A data.frame: 6 × 1\n\\begin{tabular}{r|l}\n  & as.character(p)\\\\\n  & <chr>\\\\\n\\hline\n\t1 & 1\\\\\n\t2 & 1\\\\\n\t3 & 0\\\\\n\t4 & 0\\\\\n\t5 & 0\\\\\n\t6 & 0\\\\\n\\end{tabular}\n",
            "text/plain": [
              "  as.character(p)\n",
              "1 1              \n",
              "2 1              \n",
              "3 0              \n",
              "4 0              \n",
              "5 0              \n",
              "6 0              "
            ]
          },
          "metadata": {}
        },
        {
          "output_type": "stream",
          "name": "stdout",
          "text": [
            "auc= 0.683441"
          ]
        },
        {
          "output_type": "display_data",
          "data": {
            "text/html": [
              "<strong>F1:</strong> 0.914940205490989"
            ],
            "text/markdown": "**F1:** 0.914940205490989",
            "text/latex": "\\textbf{F1:} 0.914940205490989",
            "text/plain": [
              "       F1 \n",
              "0.9149402 "
            ]
          },
          "metadata": {}
        },
        {
          "output_type": "display_data",
          "data": {
            "text/html": [
              "<strong>Accuracy:</strong> 0.85575549842902"
            ],
            "text/markdown": "**Accuracy:** 0.85575549842902",
            "text/latex": "\\textbf{Accuracy:} 0.85575549842902",
            "text/plain": [
              " Accuracy \n",
              "0.8557555 "
            ]
          },
          "metadata": {}
        }
      ]
    }
  ]
}