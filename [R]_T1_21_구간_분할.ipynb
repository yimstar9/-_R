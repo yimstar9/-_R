{
  "nbformat": 4,
  "nbformat_minor": 0,
  "metadata": {
    "colab": {
      "provenance": [],
      "authorship_tag": "ABX9TyOBzk34AtRW9+TrFobOdmRX",
      "include_colab_link": true
    },
    "kernelspec": {
      "name": "ir",
      "display_name": "R"
    },
    "language_info": {
      "name": "R"
    }
  },
  "cells": [
    {
      "cell_type": "markdown",
      "metadata": {
        "id": "view-in-github",
        "colab_type": "text"
      },
      "source": [
        "<a href=\"https://colab.research.google.com/github/yimstar9/Engineer-Big-Data-Analysis_R/blob/main/%5BR%5D_T1_21_%EA%B5%AC%EA%B0%84_%EB%B6%84%ED%95%A0.ipynb\" target=\"_parent\"><img src=\"https://colab.research.google.com/assets/colab-badge.svg\" alt=\"Open In Colab\"/></a>"
      ]
    },
    {
      "cell_type": "code",
      "execution_count": 17,
      "metadata": {
        "colab": {
          "base_uri": "https://localhost:8080/",
          "height": 147
        },
        "id": "0JhDu-tW0dnA",
        "outputId": "3c9bbd2e-71c6-4b79-c6fd-d996cc68c6b0"
      },
      "outputs": [
        {
          "output_type": "display_data",
          "data": {
            "text/html": [
              "<table class=\"dataframe\">\n",
              "<caption>A tibble: 1 × 1</caption>\n",
              "<thead>\n",
              "\t<tr><th scope=col>sum(v)</th></tr>\n",
              "\t<tr><th scope=col>&lt;dbl&gt;</th></tr>\n",
              "</thead>\n",
              "<tbody>\n",
              "\t<tr><td>165</td></tr>\n",
              "</tbody>\n",
              "</table>\n"
            ],
            "text/markdown": "\nA tibble: 1 × 1\n\n| sum(v) &lt;dbl&gt; |\n|---|\n| 165 |\n\n",
            "text/latex": "A tibble: 1 × 1\n\\begin{tabular}{l}\n sum(v)\\\\\n <dbl>\\\\\n\\hline\n\t 165\\\\\n\\end{tabular}\n",
            "text/plain": [
              "  sum(v)\n",
              "1 165   "
            ]
          },
          "metadata": {}
        }
      ],
      "source": [
        "## 나이 구간 나누기\n",
        "###  basic1 데이터 중 'age'컬럼 이상치를 제거하고, 동일한 개수로 나이 순으로 3그룹으로 나눈 뒤 각 그룹의 중앙값을 더하시오\n",
        "### (이상치는 음수(0포함), 소수점 값)\n",
        "# - data: basic1.csv\n",
        "df<-read.csv('basic1.csv')\n",
        "library(dplyr)\n",
        "library(ggplot2)\n",
        "df%>%filter(age>0&(age*10)%%10==0)%>%mutate(bin=cut_number(age,3))%>%group_by(bin)%>%summarise(v=median(age))%>%summarise(sum(v))\n"
      ]
    }
  ]
}