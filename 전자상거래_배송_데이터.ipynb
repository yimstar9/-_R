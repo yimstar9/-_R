{
  "nbformat": 4,
  "nbformat_minor": 0,
  "metadata": {
    "colab": {
      "provenance": [],
      "collapsed_sections": [],
      "authorship_tag": "ABX9TyN+DgM0NbUlYERIRk7nNTEr",
      "include_colab_link": true
    },
    "kernelspec": {
      "name": "ir",
      "display_name": "R"
    },
    "language_info": {
      "name": "R"
    }
  },
  "cells": [
    {
      "cell_type": "markdown",
      "metadata": {
        "id": "view-in-github",
        "colab_type": "text"
      },
      "source": [
        "<a href=\"https://colab.research.google.com/github/yimstar9/Engineer-Big-Data-Analysis_R/blob/main/%EC%A0%84%EC%9E%90%EC%83%81%EA%B1%B0%EB%9E%98_%EB%B0%B0%EC%86%A1_%EB%8D%B0%EC%9D%B4%ED%84%B0.ipynb\" target=\"_parent\"><img src=\"https://colab.research.google.com/assets/colab-badge.svg\" alt=\"Open In Colab\"/></a>"
      ]
    },
    {
      "cell_type": "code",
      "execution_count": 27,
      "metadata": {
        "colab": {
          "base_uri": "https://localhost:8080/",
          "height": 304
        },
        "id": "8b8PxlxY_qW3",
        "outputId": "a1abda87-b4fa-43b6-901d-e5f833522246"
      },
      "outputs": [
        {
          "output_type": "display_data",
          "data": {
            "text/html": [
              "0.672982131913117"
            ],
            "text/markdown": "0.672982131913117",
            "text/latex": "0.672982131913117",
            "text/plain": [
              "[1] 0.6729821"
            ]
          },
          "metadata": {}
        },
        {
          "output_type": "display_data",
          "data": {
            "text/html": [
              "<table class=\"dataframe\">\n",
              "<caption>A data.frame: 6 × 2</caption>\n",
              "<thead>\n",
              "\t<tr><th></th><th scope=col>ID</th><th scope=col>Reached.on.Time_Y.N</th></tr>\n",
              "\t<tr><th></th><th scope=col>&lt;int&gt;</th><th scope=col>&lt;int&gt;</th></tr>\n",
              "</thead>\n",
              "<tbody>\n",
              "\t<tr><th scope=row>1</th><td> 1</td><td>1</td></tr>\n",
              "\t<tr><th scope=row>2</th><td> 5</td><td>1</td></tr>\n",
              "\t<tr><th scope=row>3</th><td> 9</td><td>1</td></tr>\n",
              "\t<tr><th scope=row>4</th><td>10</td><td>1</td></tr>\n",
              "\t<tr><th scope=row>5</th><td>14</td><td>1</td></tr>\n",
              "\t<tr><th scope=row>6</th><td>16</td><td>1</td></tr>\n",
              "</tbody>\n",
              "</table>\n"
            ],
            "text/markdown": "\nA data.frame: 6 × 2\n\n| <!--/--> | ID &lt;int&gt; | Reached.on.Time_Y.N &lt;int&gt; |\n|---|---|---|\n| 1 |  1 | 1 |\n| 2 |  5 | 1 |\n| 3 |  9 | 1 |\n| 4 | 10 | 1 |\n| 5 | 14 | 1 |\n| 6 | 16 | 1 |\n\n",
            "text/latex": "A data.frame: 6 × 2\n\\begin{tabular}{r|ll}\n  & ID & Reached.on.Time\\_Y.N\\\\\n  & <int> & <int>\\\\\n\\hline\n\t1 &  1 & 1\\\\\n\t2 &  5 & 1\\\\\n\t3 &  9 & 1\\\\\n\t4 & 10 & 1\\\\\n\t5 & 14 & 1\\\\\n\t6 & 16 & 1\\\\\n\\end{tabular}\n",
            "text/plain": [
              "  ID Reached.on.Time_Y.N\n",
              "1  1 1                  \n",
              "2  5 1                  \n",
              "3  9 1                  \n",
              "4 10 1                  \n",
              "5 14 1                  \n",
              "6 16 1                  "
            ]
          },
          "metadata": {}
        }
      ],
      "source": [
        "#https://www.kaggle.com/code/limmyoungjin/tutorial-t2-2-r/notebook\n",
        "# 전자상거래 배송 데이터\n",
        "# 제품 배송 시간에 맞춰 배송되었는지 예측모델 만들기\n",
        "# 학습용 데이터 (X_train, y_train)을 이용하여 배송 예측 모형을 만든 후, 이를 평가용 데이터(X_test)에 적용하여 얻은 예측값을 다음과 같은 형식의 CSV파일로 생성하시오(제출한 모델의 성능은 ROC-AUC 평가지표에 따라 채점)\n",
        "\n",
        "# image.png\n",
        "\n",
        "# [시험용 데이터셋 만들기] 코드는 예시문제와 동일한 형태의 X_train, y_train, X_test 데이터를 만들기 위함임\n",
        "\n",
        "# (유의사항)\n",
        "\n",
        "# 성능이 우수한 예측모형을 구축하기 위해서는 적절한 데이터 전처리, 피처엔지니어링, 분류알고리즘, 하이퍼파라미터 튜닝, 모형 앙상블 등이 수반되어야 한다.\n",
        "# 수험번호.csv파일이 만들어지도록 코드를 제출한다.\n",
        "# 제출한 모델의 성능은 ROC-AUC형태로 읽어드린다.\n",
        "#install.packages(\"randomForest\")\n",
        "#install.packages(\"caret\")\n",
        "library(randomForest)\n",
        "library(dplyr)\n",
        "library(ModelMetrics)\n",
        "df<-read.csv(\"Train(T2_2).csv\")\n",
        "\n",
        "df$Warehouse_block<-as.factor(df$Warehouse_block)\n",
        "df$Mode_of_Shipment<-as.factor(df$Mode_of_Shipment)\n",
        "df$Product_importance<-as.factor(df$Product_importance)\n",
        "df$Gender<-as.factor(df$Gender)\n",
        "\n",
        "df$Reached.on.Time_Y.N <- as.factor(df$Reached.on.Time_Y.N)\n",
        "#summary(df)\n",
        "#colSums(is.na(df)) #결측치 없음\n",
        "\n",
        "idx<-sample(1:nrow(df),0.7*nrow(df))\n",
        "train <- df[idx,]\n",
        "test <- df[-idx,]\n",
        "\n",
        "model<-randomForest(Reached.on.Time_Y.N~.-(ID),train,ntree=300)\n",
        "p<-predict(model, test)\n",
        "auc(test$Reached.on.Time_Y.N,p)\n",
        "\n",
        "a<-as.character(test$ID)\n",
        "b<-as.character(p)\n",
        "c<-data.frame('ID'=a,'Reached.on.Time_Y.N'=p)\n",
        "write.csv(c,\"1234.csv\",row.names=F)\n",
        "abc<-read.csv(\"1234.csv\",header=T)\n",
        "head(abc)\n"
      ]
    }
  ]
}