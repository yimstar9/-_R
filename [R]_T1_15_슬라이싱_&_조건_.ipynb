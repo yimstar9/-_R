{
  "nbformat": 4,
  "nbformat_minor": 0,
  "metadata": {
    "colab": {
      "provenance": [],
      "authorship_tag": "ABX9TyPk7KHEQrq/W2gddp6clCqT",
      "include_colab_link": true
    },
    "kernelspec": {
      "name": "ir",
      "display_name": "R"
    },
    "language_info": {
      "name": "R"
    }
  },
  "cells": [
    {
      "cell_type": "markdown",
      "metadata": {
        "id": "view-in-github",
        "colab_type": "text"
      },
      "source": [
        "<a href=\"https://colab.research.google.com/github/yimstar9/Engineer-Big-Data-Analysis_R/blob/main/%5BR%5D_T1_15_%EC%8A%AC%EB%9D%BC%EC%9D%B4%EC%8B%B1_%26_%EC%A1%B0%EA%B1%B4_.ipynb\" target=\"_parent\"><img src=\"https://colab.research.google.com/assets/colab-badge.svg\" alt=\"Open In Colab\"/></a>"
      ]
    },
    {
      "cell_type": "code",
      "execution_count": 9,
      "metadata": {
        "colab": {
          "base_uri": "https://localhost:8080/",
          "height": 164
        },
        "id": "VDarVaGsTXOM",
        "outputId": "03fbdecd-bcbd-4e42-df13-580655f6d3ff"
      },
      "outputs": [
        {
          "output_type": "display_data",
          "data": {
            "text/html": [
              "&lt;NA&gt;"
            ],
            "text/markdown": "&lt;NA&gt;",
            "text/latex": "<NA>",
            "text/plain": [
              "[1] NA"
            ]
          },
          "metadata": {}
        },
        {
          "output_type": "display_data",
          "data": {
            "text/html": [
              "<table class=\"dataframe\">\n",
              "<caption>A data.frame: 1 × 1</caption>\n",
              "<thead>\n",
              "\t<tr><th scope=col>mean(pre_f1)</th></tr>\n",
              "\t<tr><th scope=col>&lt;dbl&gt;</th></tr>\n",
              "</thead>\n",
              "<tbody>\n",
              "\t<tr><td>73.875</td></tr>\n",
              "</tbody>\n",
              "</table>\n"
            ],
            "text/markdown": "\nA data.frame: 1 × 1\n\n| mean(pre_f1) &lt;dbl&gt; |\n|---|\n| 73.875 |\n\n",
            "text/latex": "A data.frame: 1 × 1\n\\begin{tabular}{l}\n mean(pre\\_f1)\\\\\n <dbl>\\\\\n\\hline\n\t 73.875\\\\\n\\end{tabular}\n",
            "text/plain": [
              "  mean(pre_f1)\n",
              "1 73.875      "
            ]
          },
          "metadata": {}
        }
      ],
      "source": [
        "# 주어진 데이터 셋에서 age컬럼 상위 20개의 데이터를 구한 다음 \n",
        "# f1의 결측치를 중앙값으로 채운다.\n",
        "# 그리고 f4가 ISFJ와 f5가 20 이상인 \n",
        "# f1의 평균값을 출력하시오!\n",
        "\n",
        "# - 데이터셋 : basic1.csv \n",
        "# - 오른쪽 상단 copy&edit 클릭 -> 예상문제 풀이 시작\n",
        "# - File -> Editor Type -> Script\n",
        "\n",
        "df<-read.csv('basic1.csv')\n",
        "library(dplyr)\n",
        "median(df$f1)\n",
        "df%>%arrange(-age)%>%slice(1:20)%>%mutate(pre_f1=ifelse(is.na(f1),median(f1,na.rm=T),f1))%>%filter(f4=='ISFJ'&f5>=20)%>%summarise(mean(pre_f1))"
      ]
    }
  ]
}