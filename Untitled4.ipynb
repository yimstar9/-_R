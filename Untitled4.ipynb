{
  "nbformat": 4,
  "nbformat_minor": 0,
  "metadata": {
    "colab": {
      "provenance": [],
      "authorship_tag": "ABX9TyO3nd26qQnEmF17mLLaTsOy",
      "include_colab_link": true
    },
    "kernelspec": {
      "name": "ir",
      "display_name": "R"
    },
    "language_info": {
      "name": "R"
    }
  },
  "cells": [
    {
      "cell_type": "markdown",
      "metadata": {
        "id": "view-in-github",
        "colab_type": "text"
      },
      "source": [
        "<a href=\"https://colab.research.google.com/github/yimstar9/Engineer-Big-Data-Analysis_R/blob/main/Untitled4.ipynb\" target=\"_parent\"><img src=\"https://colab.research.google.com/assets/colab-badge.svg\" alt=\"Open In Colab\"/></a>"
      ]
    },
    {
      "cell_type": "code",
      "execution_count": null,
      "metadata": {
        "id": "wo4cXVlIanz4"
      },
      "outputs": [],
      "source": [
        "\n",
        "library(readr)\n",
        "library(dplyr)\n",
        "df=read_csv('../input/bigdatacertificationkr/basic2.csv')\n",
        "df %>% mutate(week=cut(Date,breaks='week')) %>% group_by(week) %>% summarise(value=sum(Sales)) %>% summarise(MAX=max(value),MIN=min(value)) %>% apply(1,diff) %>% abs\n"
      ]
    }
  ]
}