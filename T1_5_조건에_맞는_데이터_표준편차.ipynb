{
  "nbformat": 4,
  "nbformat_minor": 0,
  "metadata": {
    "colab": {
      "provenance": [],
      "authorship_tag": "ABX9TyNE20/ZlH7IL2LZgS7POBnX",
      "include_colab_link": true
    },
    "kernelspec": {
      "name": "ir",
      "display_name": "R"
    },
    "language_info": {
      "name": "R"
    }
  },
  "cells": [
    {
      "cell_type": "markdown",
      "metadata": {
        "id": "view-in-github",
        "colab_type": "text"
      },
      "source": [
        "<a href=\"https://colab.research.google.com/github/yimstar9/Engineer-Big-Data-Analysis_R/blob/main/T1_5_%EC%A1%B0%EA%B1%B4%EC%97%90_%EB%A7%9E%EB%8A%94_%EB%8D%B0%EC%9D%B4%ED%84%B0_%ED%91%9C%EC%A4%80%ED%8E%B8%EC%B0%A8.ipynb\" target=\"_parent\"><img src=\"https://colab.research.google.com/assets/colab-badge.svg\" alt=\"Open In Colab\"/></a>"
      ]
    },
    {
      "cell_type": "code",
      "execution_count": 15,
      "metadata": {
        "colab": {
          "base_uri": "https://localhost:8080/",
          "height": 416
        },
        "id": "dM9r-kbxig9W",
        "outputId": "e9227389-e8a0-4c86-9c49-55dec90c27cc"
      },
      "outputs": [
        {
          "output_type": "display_data",
          "data": {
            "text/html": [
              "<table class=\"dataframe\">\n",
              "<caption>A data.frame: 6 × 8</caption>\n",
              "<thead>\n",
              "\t<tr><th></th><th scope=col>id</th><th scope=col>age</th><th scope=col>city</th><th scope=col>f1</th><th scope=col>f2</th><th scope=col>f3</th><th scope=col>f4</th><th scope=col>f5</th></tr>\n",
              "\t<tr><th></th><th scope=col>&lt;chr&gt;</th><th scope=col>&lt;dbl&gt;</th><th scope=col>&lt;chr&gt;</th><th scope=col>&lt;int&gt;</th><th scope=col>&lt;int&gt;</th><th scope=col>&lt;chr&gt;</th><th scope=col>&lt;chr&gt;</th><th scope=col>&lt;dbl&gt;</th></tr>\n",
              "</thead>\n",
              "<tbody>\n",
              "\t<tr><th scope=row>1</th><td>id01</td><td> 2</td><td>서울</td><td>NA</td><td>0</td><td>   </td><td>ENFJ</td><td>91.29779</td></tr>\n",
              "\t<tr><th scope=row>2</th><td>id02</td><td> 9</td><td>서울</td><td>70</td><td>1</td><td>   </td><td>ENFJ</td><td>60.33983</td></tr>\n",
              "\t<tr><th scope=row>3</th><td>id03</td><td>27</td><td>서울</td><td>61</td><td>1</td><td>   </td><td>ISTJ</td><td>17.25299</td></tr>\n",
              "\t<tr><th scope=row>4</th><td>id04</td><td>75</td><td>서울</td><td>NA</td><td>2</td><td>   </td><td>INFP</td><td>52.66708</td></tr>\n",
              "\t<tr><th scope=row>5</th><td>id05</td><td>24</td><td>서울</td><td>85</td><td>2</td><td>   </td><td>ISFJ</td><td>29.26987</td></tr>\n",
              "\t<tr><th scope=row>6</th><td>id06</td><td>22</td><td>서울</td><td>57</td><td>0</td><td>vip</td><td>INTP</td><td>20.12944</td></tr>\n",
              "</tbody>\n",
              "</table>\n"
            ],
            "text/markdown": "\nA data.frame: 6 × 8\n\n| <!--/--> | id &lt;chr&gt; | age &lt;dbl&gt; | city &lt;chr&gt; | f1 &lt;int&gt; | f2 &lt;int&gt; | f3 &lt;chr&gt; | f4 &lt;chr&gt; | f5 &lt;dbl&gt; |\n|---|---|---|---|---|---|---|---|---|\n| 1 | id01 |  2 | 서울 | NA | 0 | <!----> | ENFJ | 91.29779 |\n| 2 | id02 |  9 | 서울 | 70 | 1 | <!----> | ENFJ | 60.33983 |\n| 3 | id03 | 27 | 서울 | 61 | 1 | <!----> | ISTJ | 17.25299 |\n| 4 | id04 | 75 | 서울 | NA | 2 | <!----> | INFP | 52.66708 |\n| 5 | id05 | 24 | 서울 | 85 | 2 | <!----> | ISFJ | 29.26987 |\n| 6 | id06 | 22 | 서울 | 57 | 0 | vip | INTP | 20.12944 |\n\n",
            "text/latex": "A data.frame: 6 × 8\n\\begin{tabular}{r|llllllll}\n  & id & age & city & f1 & f2 & f3 & f4 & f5\\\\\n  & <chr> & <dbl> & <chr> & <int> & <int> & <chr> & <chr> & <dbl>\\\\\n\\hline\n\t1 & id01 &  2 & 서울 & NA & 0 &     & ENFJ & 91.29779\\\\\n\t2 & id02 &  9 & 서울 & 70 & 1 &     & ENFJ & 60.33983\\\\\n\t3 & id03 & 27 & 서울 & 61 & 1 &     & ISTJ & 17.25299\\\\\n\t4 & id04 & 75 & 서울 & NA & 2 &     & INFP & 52.66708\\\\\n\t5 & id05 & 24 & 서울 & 85 & 2 &     & ISFJ & 29.26987\\\\\n\t6 & id06 & 22 & 서울 & 57 & 0 & vip & INTP & 20.12944\\\\\n\\end{tabular}\n",
            "text/plain": [
              "  id   age city f1 f2 f3  f4   f5      \n",
              "1 id01  2  서울 NA 0      ENFJ 91.29779\n",
              "2 id02  9  서울 70 1      ENFJ 60.33983\n",
              "3 id03 27  서울 61 1      ISTJ 17.25299\n",
              "4 id04 75  서울 NA 2      INFP 52.66708\n",
              "5 id05 24  서울 85 2      ISFJ 29.26987\n",
              "6 id06 22  서울 57 0  vip INTP 20.12944"
            ]
          },
          "metadata": {}
        },
        {
          "output_type": "display_data",
          "data": {
            "text/html": [
              "<table class=\"dataframe\">\n",
              "<caption>A data.frame: 1 × 1</caption>\n",
              "<thead>\n",
              "\t<tr><th scope=col>sd(f1, na.rm = T)</th></tr>\n",
              "\t<tr><th scope=col>&lt;dbl&gt;</th></tr>\n",
              "</thead>\n",
              "<tbody>\n",
              "\t<tr><td>5.859622</td></tr>\n",
              "</tbody>\n",
              "</table>\n"
            ],
            "text/markdown": "\nA data.frame: 1 × 1\n\n| sd(f1, na.rm = T) &lt;dbl&gt; |\n|---|\n| 5.859622 |\n\n",
            "text/latex": "A data.frame: 1 × 1\n\\begin{tabular}{l}\n sd(f1, na.rm = T)\\\\\n <dbl>\\\\\n\\hline\n\t 5.859622\\\\\n\\end{tabular}\n",
            "text/plain": [
              "  sd(f1, na.rm = T)\n",
              "1 5.859622         "
            ]
          },
          "metadata": {}
        },
        {
          "output_type": "display_data",
          "data": {
            "text/html": [
              "<strong>value:</strong> 5.85962152587681"
            ],
            "text/markdown": "**value:** 5.85962152587681",
            "text/latex": "\\textbf{value:} 5.85962152587681",
            "text/plain": [
              "   value \n",
              "5.859622 "
            ]
          },
          "metadata": {}
        }
      ],
      "source": [
        "# 주어진 데이터 중 basic1.csv에서 'f4'컬럼 값이 'ENFJ'와 'INFP'인 'f1'의 표준편차 차이를 절대값으로 구하시오\n",
        "# 데이터셋 : basic1.csv\n",
        "library(dplyr)\n",
        "df<-read.csv('basic1.csv')\n",
        "df %>% filter(f4=='ENFJ' | f4=='INFP') %>% group_by(f4) %>% summarise(value=sd(f1,na.rm=T)) %>% select(value) %>% apply(2,diff) %>% abs\n",
        "#apply 1이 row단위 2가 col 단위 연산"
      ]
    }
  ]
}