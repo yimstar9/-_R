{
  "nbformat": 4,
  "nbformat_minor": 0,
  "metadata": {
    "colab": {
      "provenance": [],
      "authorship_tag": "ABX9TyMTngQEx3tqHrooTCrcXmiP",
      "include_colab_link": true
    },
    "kernelspec": {
      "name": "ir",
      "display_name": "R"
    },
    "language_info": {
      "name": "R"
    }
  },
  "cells": [
    {
      "cell_type": "markdown",
      "metadata": {
        "id": "view-in-github",
        "colab_type": "text"
      },
      "source": [
        "<a href=\"https://colab.research.google.com/github/yimstar9/Engineer-Big-Data-Analysis_R/blob/main/T1_6_%EA%B2%B0%EC%B8%A1%EC%B9%98_%EC%A0%9C%EA%B1%B0_%EB%B0%8F_%EA%B7%B8%EB%A3%B9_%ED%95%A9%EA%B3%84.ipynb\" target=\"_parent\"><img src=\"https://colab.research.google.com/assets/colab-badge.svg\" alt=\"Open In Colab\"/></a>"
      ]
    },
    {
      "cell_type": "code",
      "execution_count": 19,
      "metadata": {
        "colab": {
          "base_uri": "https://localhost:8080/",
          "height": 201
        },
        "id": "uoevOSvYJZm4",
        "outputId": "424f584e-0006-4c64-ca05-1a08d024c458"
      },
      "outputs": [
        {
          "output_type": "stream",
          "name": "stderr",
          "text": [
            "\u001b[1m\u001b[22m`summarise()` has grouped output by 'city'. You can override using the\n",
            "`.groups` argument.\n"
          ]
        },
        {
          "output_type": "display_data",
          "data": {
            "text/html": [
              "<table class=\"dataframe\">\n",
              "<caption>A data.frame: 1 × 1</caption>\n",
              "<thead>\n",
              "\t<tr><th scope=col>sum_f1</th></tr>\n",
              "\t<tr><th scope=col>&lt;int&gt;</th></tr>\n",
              "</thead>\n",
              "<tbody>\n",
              "\t<tr><td>833</td></tr>\n",
              "</tbody>\n",
              "</table>\n"
            ],
            "text/markdown": "\nA data.frame: 1 × 1\n\n| sum_f1 &lt;int&gt; |\n|---|\n| 833 |\n\n",
            "text/latex": "A data.frame: 1 × 1\n\\begin{tabular}{l}\n sum\\_f1\\\\\n <int>\\\\\n\\hline\n\t 833\\\\\n\\end{tabular}\n",
            "text/plain": [
              "  sum_f1\n",
              "1 833   "
            ]
          },
          "metadata": {}
        }
      ],
      "source": [
        "# 주어진 데이터 중 basic1.csv에서 'f1'컬럼 결측 데이터를 제거하고, \n",
        "# 'city'와 'f2'을 기준으로 묶어 합계를 구하고, 'city가 경기이면서 f2가 0'인 조건에 만족하는 f1 값을 구하시오\n",
        "# 데이터셋 : basic1.csv\n",
        "library(dplyr)\n",
        "df<-read.csv('basic1.csv')\n",
        "df%>%filter(!is.na(f1))%>%group_by(city,f2)%>%summarise(sum_f1=sum(f1))%>%filter(city=='경기'&f2==0)%>%data.frame%>%select(sum_f1)\n"
      ]
    }
  ]
}