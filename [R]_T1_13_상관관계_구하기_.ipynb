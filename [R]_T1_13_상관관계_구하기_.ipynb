{
  "nbformat": 4,
  "nbformat_minor": 0,
  "metadata": {
    "colab": {
      "provenance": [],
      "authorship_tag": "ABX9TyOro+dD0F64EMnppypmem9B",
      "include_colab_link": true
    },
    "kernelspec": {
      "name": "ir",
      "display_name": "R"
    },
    "language_info": {
      "name": "R"
    }
  },
  "cells": [
    {
      "cell_type": "markdown",
      "metadata": {
        "id": "view-in-github",
        "colab_type": "text"
      },
      "source": [
        "<a href=\"https://colab.research.google.com/github/yimstar9/Engineer-Big-Data-Analysis_R/blob/main/%5BR%5D_T1_13_%EC%83%81%EA%B4%80%EA%B4%80%EA%B3%84_%EA%B5%AC%ED%95%98%EA%B8%B0_.ipynb\" target=\"_parent\"><img src=\"https://colab.research.google.com/assets/colab-badge.svg\" alt=\"Open In Colab\"/></a>"
      ]
    },
    {
      "cell_type": "code",
      "execution_count": 34,
      "metadata": {
        "colab": {
          "base_uri": "https://localhost:8080/",
          "height": 52
        },
        "id": "i-CdOf2I2twa",
        "outputId": "92de3603-6c6f-402f-d065-1518d85f8c91"
      },
      "outputs": [
        {
          "output_type": "display_data",
          "data": {
            "text/html": [
              "0.09"
            ],
            "text/markdown": "0.09",
            "text/latex": "0.09",
            "text/plain": [
              "[1] 0.09"
            ]
          },
          "metadata": {}
        },
        {
          "output_type": "display_data",
          "data": {
            "text/html": [
              "0.09"
            ],
            "text/markdown": "0.09",
            "text/latex": "0.09",
            "text/plain": [
              "[1] 0.09"
            ]
          },
          "metadata": {}
        }
      ],
      "source": [
        "# 상관관계 구하기\n",
        "# 주어진 데이터에서 상관관계를 구하고, quality와의 상관관계가 가장 큰 값과, 가장 작은 값을 구한 다음 더하시오!\n",
        "# 단, quality와 quality 상관관계 제외, 소수점 둘째 자리까지 출력\n",
        "\n",
        "# - 데이터셋 : ../input/red-wine-quality-cortez-et-al-2009/winequality-red.csv\n",
        "# - 오른쪽 상단 copy&edit 클릭 -> 예상문제 풀이 시작\n",
        "# - 스크립트 방식 권장: File -> Editor Type -> Script\n",
        "library(dplyr)\n",
        "df<-read.csv('winequality-red.csv')\n",
        "#방법1\n",
        "round(max(slice(data.frame(cor(df,df$quality)),1:11))+min(slice(data.frame(cor(df,df$quality)),1:11)),2)\n",
        "#방법2\n",
        "df %>% cor%>% data.frame%>%select(quality)%>%arrange(-quality)%>%slice(-1)%>% summarise(MAX=max(quality),MIN=min(quality)) %>% sum %>% round(2)"
      ]
    }
  ]
}