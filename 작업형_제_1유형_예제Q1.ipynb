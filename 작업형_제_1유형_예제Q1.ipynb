{
  "nbformat": 4,
  "nbformat_minor": 0,
  "metadata": {
    "colab": {
      "provenance": [],
      "collapsed_sections": [],
      "authorship_tag": "ABX9TyPBwubDu1srBPe4ceqTUb56",
      "include_colab_link": true
    },
    "kernelspec": {
      "name": "ir",
      "display_name": "R"
    },
    "language_info": {
      "name": "R"
    }
  },
  "cells": [
    {
      "cell_type": "markdown",
      "metadata": {
        "id": "view-in-github",
        "colab_type": "text"
      },
      "source": [
        "<a href=\"https://colab.research.google.com/github/yimstar9/Engineer-Big-Data-Analysis_R/blob/main/%EC%9E%91%EC%97%85%ED%98%95_%EC%A0%9C_1%EC%9C%A0%ED%98%95_%EC%98%88%EC%A0%9CQ1.ipynb\" target=\"_parent\"><img src=\"https://colab.research.google.com/assets/colab-badge.svg\" alt=\"Open In Colab\"/></a>"
      ]
    },
    {
      "cell_type": "code",
      "execution_count": 1,
      "metadata": {
        "colab": {
          "base_uri": "https://localhost:8080/",
          "height": 394
        },
        "id": "vB08PlgADH5z",
        "outputId": "095665ee-9597-4d69-a41c-23df1d794f19"
      },
      "outputs": [
        {
          "output_type": "stream",
          "name": "stderr",
          "text": [
            "\n",
            "Attaching package: ‘dplyr’\n",
            "\n",
            "\n",
            "The following objects are masked from ‘package:stats’:\n",
            "\n",
            "    filter, lag\n",
            "\n",
            "\n",
            "The following objects are masked from ‘package:base’:\n",
            "\n",
            "    intersect, setdiff, setequal, union\n",
            "\n",
            "\n"
          ]
        },
        {
          "output_type": "error",
          "ename": "ERROR",
          "evalue": "ignored",
          "traceback": [
            "Error in library(caret): there is no package called ‘caret’\nTraceback:\n",
            "1. library(caret)"
          ]
        }
      ],
      "source": [
        "#https://www.datamanim.com/dataset/03_dataq/main_p1_r.html\n",
        "#mtcars 데이터셋(mtcars.csv)의 qsec 컬럼을 최소 최대 척도(min-max scale)로 변환한 후 0.5보다 큰 값을 가지는 레코드 수를 구하시오.\n",
        "df<- read.csv(\"https://raw.githubusercontent.com/Datamanim/dataq/main/mtcars.csv\",row.names=1)\n",
        "library(dplyr)\n",
        "#install.packages(\"caret\")\n",
        "library(caret)\n",
        "# 사용자 코딩\n",
        "minmax<-preProcess(df,\"range\")\n",
        "df1<-df%>%mutate(scale=predict(minmax, df)$qsec)%>%filter(scale>0.5)\n",
        "cat(nrow(df1))"
      ]
    },
    {
      "cell_type": "code",
      "source": [
        "#z-score\n",
        "df<- read.csv(\"https://raw.githubusercontent.com/Datamanim/dataq/main/mtcars.csv\",row.names=1)\n",
        "library(dplyr)\n",
        "library(caret)\n",
        "no<-preProcess(df,c(\"center\",\"scale\"))\n",
        "df1<-df%>%mutate(scale=predict(no, df)$qsec)\n",
        "cat(max(df1$scale),min(df1$scale))\n"
      ],
      "metadata": {
        "id": "wl-RwsYpnVPO"
      },
      "execution_count": null,
      "outputs": []
    },
    {
      "cell_type": "code",
      "source": [
        "##*mtcars 데이터셋(mtcars.csv)의 wt 컬럼의 이상치(IQR 1.5 외부에 존재하는)값들을 outlier 변수에 저장하라\n",
        "library(dplyr)\n",
        "q1=quantile(df$wt,1/4)\n",
        "q3=quantile(df$wt,3/4)\n",
        "iqr=q3-q1\n",
        "outlier<-df%>%filter(wt<=q1-1.5*iqr|wt>=q3+1.5*iqr)%>%select(wt)\n",
        "cat(outlier[c(1:nrow(outlier)),])\n"
      ],
      "metadata": {
        "id": "w5eEJc_W3-GL"
      },
      "execution_count": null,
      "outputs": []
    },
    {
      "cell_type": "code",
      "source": [
        "df<- read.csv(\"https://raw.githubusercontent.com/Datamanim/dataq/main/mtcars.csv\",row.names=1)\n",
        "library(dplyr)\n",
        "c<-data.frame(cor(df))\n",
        "c%>%arrange(-mpg)%>%select(mpg)"
      ],
      "metadata": {
        "colab": {
          "base_uri": "https://localhost:8080/",
          "height": 460
        },
        "id": "xAujhN_o8FXa",
        "outputId": "650192ea-091e-44e3-c163-b98f020a08a8"
      },
      "execution_count": 5,
      "outputs": [
        {
          "output_type": "display_data",
          "data": {
            "text/html": [
              "<table class=\"dataframe\">\n",
              "<caption>A data.frame: 11 × 1</caption>\n",
              "<thead>\n",
              "\t<tr><th></th><th scope=col>mpg</th></tr>\n",
              "\t<tr><th></th><th scope=col>&lt;dbl&gt;</th></tr>\n",
              "</thead>\n",
              "<tbody>\n",
              "\t<tr><th scope=row>mpg</th><td> 1.0000000</td></tr>\n",
              "\t<tr><th scope=row>drat</th><td> 0.6811719</td></tr>\n",
              "\t<tr><th scope=row>vs</th><td> 0.6640389</td></tr>\n",
              "\t<tr><th scope=row>am</th><td> 0.5998324</td></tr>\n",
              "\t<tr><th scope=row>gear</th><td> 0.4802848</td></tr>\n",
              "\t<tr><th scope=row>qsec</th><td> 0.4186840</td></tr>\n",
              "\t<tr><th scope=row>carb</th><td>-0.5509251</td></tr>\n",
              "\t<tr><th scope=row>hp</th><td>-0.7761684</td></tr>\n",
              "\t<tr><th scope=row>disp</th><td>-0.8475514</td></tr>\n",
              "\t<tr><th scope=row>cyl</th><td>-0.8521620</td></tr>\n",
              "\t<tr><th scope=row>wt</th><td>-0.8676594</td></tr>\n",
              "</tbody>\n",
              "</table>\n"
            ],
            "text/markdown": "\nA data.frame: 11 × 1\n\n| <!--/--> | mpg &lt;dbl&gt; |\n|---|---|\n| mpg |  1.0000000 |\n| drat |  0.6811719 |\n| vs |  0.6640389 |\n| am |  0.5998324 |\n| gear |  0.4802848 |\n| qsec |  0.4186840 |\n| carb | -0.5509251 |\n| hp | -0.7761684 |\n| disp | -0.8475514 |\n| cyl | -0.8521620 |\n| wt | -0.8676594 |\n\n",
            "text/latex": "A data.frame: 11 × 1\n\\begin{tabular}{r|l}\n  & mpg\\\\\n  & <dbl>\\\\\n\\hline\n\tmpg &  1.0000000\\\\\n\tdrat &  0.6811719\\\\\n\tvs &  0.6640389\\\\\n\tam &  0.5998324\\\\\n\tgear &  0.4802848\\\\\n\tqsec &  0.4186840\\\\\n\tcarb & -0.5509251\\\\\n\thp & -0.7761684\\\\\n\tdisp & -0.8475514\\\\\n\tcyl & -0.8521620\\\\\n\twt & -0.8676594\\\\\n\\end{tabular}\n",
            "text/plain": [
              "     mpg       \n",
              "mpg   1.0000000\n",
              "drat  0.6811719\n",
              "vs    0.6640389\n",
              "am    0.5998324\n",
              "gear  0.4802848\n",
              "qsec  0.4186840\n",
              "carb -0.5509251\n",
              "hp   -0.7761684\n",
              "disp -0.8475514\n",
              "cyl  -0.8521620\n",
              "wt   -0.8676594"
            ]
          },
          "metadata": {}
        }
      ]
    }
  ]
}