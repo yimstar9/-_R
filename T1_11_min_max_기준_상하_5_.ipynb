{
  "nbformat": 4,
  "nbformat_minor": 0,
  "metadata": {
    "colab": {
      "provenance": [],
      "authorship_tag": "ABX9TyN1jDea7byooETOPtOcqezn",
      "include_colab_link": true
    },
    "kernelspec": {
      "name": "ir",
      "display_name": "R"
    },
    "language_info": {
      "name": "R"
    }
  },
  "cells": [
    {
      "cell_type": "markdown",
      "metadata": {
        "id": "view-in-github",
        "colab_type": "text"
      },
      "source": [
        "<a href=\"https://colab.research.google.com/github/yimstar9/Engineer-Big-Data-Analysis_R/blob/main/T1_11_min_max_%EA%B8%B0%EC%A4%80_%EC%83%81%ED%95%98_5_.ipynb\" target=\"_parent\"><img src=\"https://colab.research.google.com/assets/colab-badge.svg\" alt=\"Open In Colab\"/></a>"
      ]
    },
    {
      "cell_type": "code",
      "execution_count": 11,
      "metadata": {
        "colab": {
          "base_uri": "https://localhost:8080/",
          "height": 52
        },
        "id": "54Gw36lqnZBg",
        "outputId": "f471ef06-2171-442f-cc18-7c0cfdc90c13"
      },
      "outputs": [
        {
          "output_type": "display_data",
          "data": {
            "text/html": [
              "1.02487409835974"
            ],
            "text/markdown": "1.02487409835974",
            "text/latex": "1.02487409835974",
            "text/plain": [
              "[1] 1.024874"
            ]
          },
          "metadata": {}
        },
        {
          "output_type": "display_data",
          "data": {
            "text/html": [
              "1.02487409835974"
            ],
            "text/markdown": "1.02487409835974",
            "text/latex": "1.02487409835974",
            "text/plain": [
              "[1] 1.024874"
            ]
          },
          "metadata": {}
        }
      ],
      "source": [
        "# min-max스케일링 기준 상하위 5% 구하기\n",
        "# 주어진 데이터에서 'f5'컬럼을 min-max 스케일 변환한 후, 상위 5%와 하위 5% 값의 합을 구하시오\n",
        "\n",
        "# - 데이터셋 : basic1.csv\n",
        "# - 오른쪽 상단 copy&edit 클릭 -> 예상문제 풀이 시작\n",
        "# - File -> Editor Type -> Script\n",
        "library(dplyr)\n",
        "#install.packages(\"caret\")\n",
        "library(caret)\n",
        "df<-read.csv('basic1.csv')\n",
        "#방법1\n",
        "normalize <- function(x) {\n",
        "  return((x-min(x))/(max(x)-min(x)))\n",
        "}\n",
        "df%>%mutate(norm_f5=normalize(f5))%>%summarise(v1=quantile(norm_f5,0.95),v2=quantile(norm_f5,0.05))%>%sum\n",
        "\n",
        "#방법2\n",
        "mm=preProcess(df,'range')\n",
        "df %>% mutate(mm_f5=predict(mm,df)$f5) %>%summarise(v1=quantile(mm_f5,0.95),v2=quantile(mm_f5,0.05))%>%sum"
      ]
    }
  ]
}