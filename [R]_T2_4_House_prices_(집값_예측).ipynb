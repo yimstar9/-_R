{
  "nbformat": 4,
  "nbformat_minor": 0,
  "metadata": {
    "colab": {
      "provenance": [],
      "authorship_tag": "ABX9TyMlJad+echqt8Z/DENt6Jmx",
      "include_colab_link": true
    },
    "kernelspec": {
      "name": "ir",
      "display_name": "R"
    },
    "language_info": {
      "name": "R"
    }
  },
  "cells": [
    {
      "cell_type": "markdown",
      "metadata": {
        "id": "view-in-github",
        "colab_type": "text"
      },
      "source": [
        "<a href=\"https://colab.research.google.com/github/yimstar9/Engineer-Big-Data-Analysis_R/blob/main/%5BR%5D_T2_4_House_prices_(%EC%A7%91%EA%B0%92_%EC%98%88%EC%B8%A1).ipynb\" target=\"_parent\"><img src=\"https://colab.research.google.com/assets/colab-badge.svg\" alt=\"Open In Colab\"/></a>"
      ]
    },
    {
      "cell_type": "code",
      "execution_count": null,
      "metadata": {
        "id": "16PhgDUlJ7tG"
      },
      "outputs": [],
      "source": [
        "# https://www.kaggle.com/code/yimstar9/r-t2-4-house-prices/edit\n",
        "# %% [code] {\"execution\":{\"iopub.status.busy\":\"2021-11-23T07:49:19.05854Z\",\"iopub.execute_input\":\"2021-11-23T07:49:19.061025Z\",\"iopub.status.idle\":\"2021-11-23T07:49:19.718821Z\"}}\n",
        "# 시험환경 세팅 (코드 변경 x)\n",
        "library(randomForest)\n",
        "library(dplyr)\n",
        "library(caret)\n",
        "library(ModelMetrics)\n",
        "library(lubridate)\n",
        "df_train<-read.csv('../input/house-prices-advanced-regression-techniques/train.csv')\n",
        "df_test<-read.csv('../input/house-prices-advanced-regression-techniques/test.csv')\n",
        "str(df_train)\n",
        "\n",
        "#결측치 확인\n",
        "colSums(is.na(train))\n",
        "colSums(is.na(test))\n",
        "\n",
        "#컬럼 삭제\n",
        "train<-df_train[,-c(1,4,5,7,10,58,73,74,75)]\n",
        "test<-df_test[,-c(1,4,5,7,10,58,73,74,75)]\n",
        "train<-subset(train,select=c(-BsmtQual,-BsmtCond,-BsmtExposure,-BsmtFinType1,-MasVnrType,-MasVnrArea,-BsmtFinType2,-Electrical,-GarageType,-GarageYrBlt,-GarageFinish,-GarageQual,-GarageCond))\n",
        "test<-subset(test,select=c(-BsmtQual,-BsmtCond,-BsmtExposure,-BsmtFinType1,-MasVnrType,-MasVnrArea,-BsmtFinType2,-Electrical,-GarageType,-GarageYrBlt,-GarageFinish,-GarageQual,-GarageCond))\n",
        "\n",
        "#chr형 전부 factor형으로 변경\n",
        "train<-train%>%mutate_if(is.character, as.factor)\n",
        "test<-test%>%mutate_if(is.character, as.factor)\n",
        "\n",
        "#레벨값 다른 컬럼 삭제\n",
        "train<-subset(train,select=c(-Neighborhood, -Condition2, -HouseStyle, -RoofMatl,-Exterior1st, -Exterior2nd, -Heating))              \n",
        "test<-subset(test,select=c(-Neighborhood, -Condition2, -HouseStyle, -RoofMatl,-Exterior1st, -Exterior2nd, -Heating))              \n",
        "\n",
        "\n",
        "idx<-sample(1:nrow(train),0.7*nrow(train))       \n",
        "x_train<-train[idx,]\n",
        "x_test<-train[-idx,]\n",
        "m_rf<-randomForest(SalePrice~.,x_train,ntree=300)\n",
        "p_rf<-predict(m_rf,subset(x_test,select=c(-SalePrice)))\n",
        "\n",
        "rmse(as.numeric(p_rf),x_test$SalePrice)\n",
        "R2(as.numeric(p_rf),x_test$SalePrice)\n",
        "\n",
        "m2_rf<-randomForest(SalePrice~.,train,ntree=300)\n",
        "p2_rf<-predict(m_rf,test)\n",
        "\n",
        "result<-cbind(df_test$Id,as.numeric(p2_rf))\n",
        "colnames(result)<-c(\"Id\",\"SalePrice\")\n",
        "write.csv(result,\"submission.csv\",row.names=F)\n",
        "zz<-read.csv(\"submission.csv\")\n",
        "head(zz)\n",
        "\n",
        "#제출,테스트셋 길이 확인\n",
        "nrow(df_test)\n",
        "length(p2_rf)"
      ]
    }
  ]
}