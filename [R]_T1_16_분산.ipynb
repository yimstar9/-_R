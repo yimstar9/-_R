{
  "nbformat": 4,
  "nbformat_minor": 0,
  "metadata": {
    "colab": {
      "provenance": [],
      "authorship_tag": "ABX9TyPCymk6ESKvBFjUIXHOy11T",
      "include_colab_link": true
    },
    "kernelspec": {
      "name": "ir",
      "display_name": "R"
    },
    "language_info": {
      "name": "R"
    }
  },
  "cells": [
    {
      "cell_type": "markdown",
      "metadata": {
        "id": "view-in-github",
        "colab_type": "text"
      },
      "source": [
        "<a href=\"https://colab.research.google.com/github/yimstar9/Engineer-Big-Data-Analysis_R/blob/main/%5BR%5D_T1_16_%EB%B6%84%EC%82%B0.ipynb\" target=\"_parent\"><img src=\"https://colab.research.google.com/assets/colab-badge.svg\" alt=\"Open In Colab\"/></a>"
      ]
    },
    {
      "cell_type": "code",
      "execution_count": 15,
      "metadata": {
        "colab": {
          "base_uri": "https://localhost:8080/",
          "height": 34
        },
        "id": "zSquZTosXeLx",
        "outputId": "2cc667a5-2943-4b1d-ede7-2c55b6077aa9"
      },
      "outputs": [
        {
          "output_type": "display_data",
          "data": {
            "text/html": [
              "38.44"
            ],
            "text/markdown": "38.44",
            "text/latex": "38.44",
            "text/plain": [
              "[1] 38.44"
            ]
          },
          "metadata": {}
        }
      ],
      "source": [
        "# 주어진 데이터 셋에서 f2가 0값인 데이터를 age를 기준으로 오름차순 정렬하고\n",
        "# 앞에서 부터 20개의 데이터를 추출한 후 \n",
        "# f1 결측치(최소값)를 채우기 전과 후의 분산 차이를 계산하시오 (소수점 둘째 자리까지)\n",
        "\n",
        "# - 데이터셋 : basic1.csv \n",
        "# - 오른쪽 상단 copy&edit 클릭 -> 예상문제 풀이 시작\n",
        "# - File -> Editor Type -> Script\n",
        "library(dplyr)\n",
        "df<-read.csv('basic1.csv')\n",
        "df%>%filter(f2==0)%>%arrange(age)%>%slice(1:20)%>%mutate(pre_f1=ifelse(is.na(f1),min(f1,na.rm=T),f1))%>%summarise(val1=var(pre_f1),val2=var(f1,na.rm=T))%>%data.frame%>%apply(1,diff)%>%round(2)"
      ]
    }
  ]
}