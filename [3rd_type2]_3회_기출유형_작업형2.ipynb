{
  "nbformat": 4,
  "nbformat_minor": 0,
  "metadata": {
    "colab": {
      "provenance": [],
      "authorship_tag": "ABX9TyOg2mfY4xae4vSkIro2fZGZ",
      "include_colab_link": true
    },
    "kernelspec": {
      "name": "ir",
      "display_name": "R"
    },
    "language_info": {
      "name": "R"
    }
  },
  "cells": [
    {
      "cell_type": "markdown",
      "metadata": {
        "id": "view-in-github",
        "colab_type": "text"
      },
      "source": [
        "<a href=\"https://colab.research.google.com/github/yimstar9/Engineer-Big-Data-Analysis_R/blob/main/%5B3rd_type2%5D_3%ED%9A%8C_%EA%B8%B0%EC%B6%9C%EC%9C%A0%ED%98%95_%EC%9E%91%EC%97%85%ED%98%952.ipynb\" target=\"_parent\"><img src=\"https://colab.research.google.com/assets/colab-badge.svg\" alt=\"Open In Colab\"/></a>"
      ]
    },
    {
      "cell_type": "code",
      "execution_count": null,
      "metadata": {
        "id": "ogBtKHKaz5d3"
      },
      "outputs": [],
      "source": [
        "#https://www.kaggle.com/competitions/big-data-analytics-certification/code\n",
        "library(tidyverse) # metapackage of all tidyverse packages\n",
        "library(dplyr)\n",
        "library(randomForest)\n",
        "library(ModelMetrics)\n",
        "library(nnet)\n",
        "library(caret)\n",
        "df_train<-read.csv(\"../input/big-data-analytics-certification/t2-1-train.csv\")\n",
        "df_test<-read.csv(\"../input/big-data-analytics-certification/t2-1-test.csv\")\n",
        "sub<-read.csv(\"../input/big-data-analytics-certification/t2-1-sample_submission.csv\")\n",
        "\n",
        "#################전처리\n",
        "\n",
        "#id 제거\n",
        "train<-df_train[,-1]\n",
        "test<-df_test[,-1]\n",
        "\n",
        "#결측치 확인후 중간값 대체\n",
        "train$AnnualIncome<-ifelse(is.na(train$AnnualIncome),median(train$AnnualIncome,na.rm=T),train$AnnualIncome)\n",
        "test$AnnualIncome<-ifelse(is.na(test$AnnualIncome),median(test$AnnualIncome,na.rm=T),test$AnnualIncome)\n",
        "#colSums(is.na(df_train))\n",
        "#colSums(is.na(df_test))\n",
        "#str(train)\n",
        "#str(test)\n",
        "\n",
        "\n",
        "#AnnualIncome min-max scale\n",
        "p<-preProcess(train,\"range\")\n",
        "train$AnnualIncome<-predict(p,train)$AnnualIncome\n",
        "p1<-preProcess(test,\"range\")\n",
        "test$AnnualIncome<-predict(p1,test)$AnnualIncome\n",
        "\n",
        "#Age구간화 후 factor변경\n",
        "#Employment.Type,GraduateOrNot,fmailymembers,ChronicDiseases,FrequentFlyer,EverTravelledAborad factor변경\n",
        "# train<-train%>%mutate(Age=(Age%/%10)*10)%>%mutate_at(vars(-AnnualIncome),as.factor)\n",
        "# test<-test%>%mutate(Age=(Age%/%10)*10)%>%mutate_at(vars(-AnnualIncome),as.factor)\n",
        "str(train)\n",
        "str(test)\n",
        "# table(test$Employment.Type)\n",
        "# table(train$Employment.Type)\n",
        "train<-train%>%mutate_at(vars(-AnnualIncome,-Age),as.factor)\n",
        "test<-test%>%mutate_at(vars(-AnnualIncome,-Age),as.factor)\n",
        "\n",
        "\n",
        "# factor중 level 다른것들 일치시켜주기\n",
        "levels(train$Employment.Type)<-factor(c(\"Government Sector\", \"Private Sector/Self Employed\",\"Casual employment\"))\n",
        "#levels(train$Employment.Type)<-c(\"Casual employment\",\"Government Sector\",\"Private Sector/Self Employed\")\n",
        "#levels(train$Employment.Type)<-levels(test$Employment.Type)\n",
        "# table(train$Employment.Type)\n",
        "# table(test$Employment.Type)\n",
        "\n",
        "# #####모델 선택 \n",
        "# #train셋 나눔\n",
        "# set.seed(99)\n",
        "# idx<-sample(1:nrow(train),0.7*nrow(train))\n",
        "# x_train<-train[idx,]\n",
        "# x_test<-train[-idx,]\n",
        "# str(x_train)\n",
        "# str(x_test)\n",
        "# #학습 모델 생성 및 평가\n",
        "\n",
        "# m_rf<-randomForest(TravelInsurance ~.,x_train,ntree=300)\n",
        "# p_rf<-predict(m_rf,subset(x_test,select=-TravelInsurance))\n",
        "\n",
        "# m_nnet<-nnet(TravelInsurance ~.,data=x_train, size = 4)\n",
        "# p_nnet<-predict(m_nnet,subset(x_test,select=-TravelInsurance),type=\"class\")\n",
        "# p_nnet<-as.factor(p_nnet)\n",
        "# str(x_test$TravelInsurance)\n",
        "# str(p_nnet)\n",
        "# print(\"randomForest\")\n",
        "# caret::confusionMatrix(x_test$TravelInsurance,p_rf)$byClass[7]\n",
        "# caret::confusionMatrix(x_test$TravelInsurance,p_rf)$overall[1]\n",
        "# cat(paste0(\"auc:\",auc(x_test$TravelInsurance,p_rf)))\n",
        "# print(\"nnet\")\n",
        "# caret::confusionMatrix(x_test$TravelInsurance,p_nnet)$byClass[7]\n",
        "# caret::confusionMatrix(x_test$TravelInsurance,p_nnet)$overall[1]\n",
        "# cat(paste0(\"auc:\",auc(x_test$TravelInsurance,p_nnet)))\n",
        "\n",
        "######최종 모델 선택\n",
        "model_rf<-randomForest(TravelInsurance ~.,train,ntree=300)\n",
        "pred_rf<-predict(model_rf,test,type=\"prob\")\n",
        "result <- cbind(df_test[,1],pred_rf[,2])\n",
        "colnames(result)<-c(\"id\",\"TravelInsurance\")\n",
        "write.csv(result,\"submission.csv\",row.names=F)\n",
        "zz<-read.csv(\"submission.csv\")\n",
        "head(zz)\n",
        "\n"
      ]
    }
  ]
}