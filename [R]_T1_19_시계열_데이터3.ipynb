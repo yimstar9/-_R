{
  "nbformat": 4,
  "nbformat_minor": 0,
  "metadata": {
    "colab": {
      "provenance": [],
      "authorship_tag": "ABX9TyNp3RZqUDmKakkcdreVEHpI",
      "include_colab_link": true
    },
    "kernelspec": {
      "name": "ir",
      "display_name": "R"
    },
    "language_info": {
      "name": "R"
    }
  },
  "cells": [
    {
      "cell_type": "markdown",
      "metadata": {
        "id": "view-in-github",
        "colab_type": "text"
      },
      "source": [
        "<a href=\"https://colab.research.google.com/github/yimstar9/Engineer-Big-Data-Analysis_R/blob/main/%5BR%5D_T1_19_%EC%8B%9C%EA%B3%84%EC%97%B4_%EB%8D%B0%EC%9D%B4%ED%84%B03.ipynb\" target=\"_parent\"><img src=\"https://colab.research.google.com/assets/colab-badge.svg\" alt=\"Open In Colab\"/></a>"
      ]
    },
    {
      "cell_type": "code",
      "execution_count": 29,
      "metadata": {
        "colab": {
          "base_uri": "https://localhost:8080/",
          "height": 201
        },
        "id": "BgYsGG2njv6U",
        "outputId": "1095369b-b035-4b06-e199-1c3aca2a315e"
      },
      "outputs": [
        {
          "output_type": "stream",
          "name": "stderr",
          "text": [
            "\u001b[1m\u001b[22m`summarise()` has grouped output by 'year'. You can override using the\n",
            "`.groups` argument.\n"
          ]
        },
        {
          "output_type": "display_data",
          "data": {
            "text/html": [
              "<table class=\"dataframe\">\n",
              "<caption>A data.frame: 1 × 1</caption>\n",
              "<thead>\n",
              "\t<tr><th scope=col>max(val)</th></tr>\n",
              "\t<tr><th scope=col>&lt;dbl&gt;</th></tr>\n",
              "</thead>\n",
              "<tbody>\n",
              "\t<tr><td>42473436</td></tr>\n",
              "</tbody>\n",
              "</table>\n"
            ],
            "text/markdown": "\nA data.frame: 1 × 1\n\n| max(val) &lt;dbl&gt; |\n|---|\n| 42473436 |\n\n",
            "text/latex": "A data.frame: 1 × 1\n\\begin{tabular}{l}\n max(val)\\\\\n <dbl>\\\\\n\\hline\n\t 42473436\\\\\n\\end{tabular}\n",
            "text/plain": [
              "  max(val)\n",
              "1 42473436"
            ]
          },
          "metadata": {}
        }
      ],
      "source": [
        "### 주어진 데이터에서 2022년 월별 Sales 합계 중 가장 큰 금액과 \n",
        "### 2023년 월별 Sales 합계 중 가장 큰 금액의 차이를 절대값으로 구하시오. \n",
        "### 단 Events컬럼이 '1'인경우 80%의 Sales값만 반영함 (소수점 반올림 후 정수 출력)\n",
        "\n",
        "# - 데이터셋 : basic2.csv\n",
        "# - 오른쪽 상단 copy&edit 클릭 -> 예상문제 풀이 시작\n",
        "library(dplyr)\n",
        "library(lubridate)\n",
        "df<-read.csv('basic2.csv')\n",
        "df1<-df%>%mutate(year=year(Date), month=month(Date),flag=ifelse(Events==1,round((Sales*0.8),1),Sales))%>%group_by(year,month)%>%summarise(val=sum(flag))%>%data.frame\n",
        "y2<-df1%>%filter(year %in% 2022)%>%summarise(max(val))\n",
        "y3<-df1%>%filter(year %in% 2023)%>%summarise(max(val))\n",
        "abs(y2-y3)"
      ]
    }
  ]
}