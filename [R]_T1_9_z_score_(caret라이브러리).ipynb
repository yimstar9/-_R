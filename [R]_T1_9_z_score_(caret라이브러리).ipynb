{
  "nbformat": 4,
  "nbformat_minor": 0,
  "metadata": {
    "colab": {
      "provenance": [],
      "authorship_tag": "ABX9TyOrJh0yGdHQk2SJ1XYEXYms",
      "include_colab_link": true
    },
    "kernelspec": {
      "name": "ir",
      "display_name": "R"
    },
    "language_info": {
      "name": "R"
    }
  },
  "cells": [
    {
      "cell_type": "markdown",
      "metadata": {
        "id": "view-in-github",
        "colab_type": "text"
      },
      "source": [
        "<a href=\"https://colab.research.google.com/github/yimstar9/Engineer-Big-Data-Analysis_R/blob/main/%5BR%5D_T1_9_z_score_(caret%EB%9D%BC%EC%9D%B4%EB%B8%8C%EB%9F%AC%EB%A6%AC).ipynb\" target=\"_parent\"><img src=\"https://colab.research.google.com/assets/colab-badge.svg\" alt=\"Open In Colab\"/></a>"
      ]
    },
    {
      "cell_type": "code",
      "execution_count": null,
      "metadata": {
        "id": "XAPnN3O0R8w7"
      },
      "outputs": [],
      "source": [
        "# 주어진 데이터에서 'f5'컬럼을 표준화(Standardization (Z-score Normalization))하고 그 중앙값을 구하시오\n",
        "# 데이터셋 : basic1.csv\n",
        "\n",
        "library(dplyr)\n",
        "library(caret)\n",
        "df=read.csv('../input/bigdatacertificationkr/basic1.csv')\n",
        "a<-preProcess(df,c(\"center\",\"scale\"))\n",
        "ans<-df%>%mutate(pre_f5=(predict(a,df))$f5)%>%summarise(median(pre_f5,na.rm=T))\n",
        "print(ans)"
      ]
    }
  ]
}