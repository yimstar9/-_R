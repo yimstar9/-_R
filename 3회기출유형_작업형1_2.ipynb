{
  "nbformat": 4,
  "nbformat_minor": 0,
  "metadata": {
    "colab": {
      "provenance": [],
      "authorship_tag": "ABX9TyP3CgEWhFIA+lCshc1DJv9K",
      "include_colab_link": true
    },
    "kernelspec": {
      "name": "ir",
      "display_name": "R"
    },
    "language_info": {
      "name": "R"
    }
  },
  "cells": [
    {
      "cell_type": "markdown",
      "metadata": {
        "id": "view-in-github",
        "colab_type": "text"
      },
      "source": [
        "<a href=\"https://colab.research.google.com/github/yimstar9/Engineer-Big-Data-Analysis_R/blob/main/3%ED%9A%8C%EA%B8%B0%EC%B6%9C%EC%9C%A0%ED%98%95_%EC%9E%91%EC%97%85%ED%98%951_2.ipynb\" target=\"_parent\"><img src=\"https://colab.research.google.com/assets/colab-badge.svg\" alt=\"Open In Colab\"/></a>"
      ]
    },
    {
      "cell_type": "code",
      "execution_count": 12,
      "metadata": {
        "colab": {
          "base_uri": "https://localhost:8080/",
          "height": 34
        },
        "id": "SYcCLnSCFv9g",
        "outputId": "e1adeef8-6b35-4171-de6c-4d6cca0475e1"
      },
      "outputs": [
        {
          "output_type": "display_data",
          "data": {
            "text/html": [
              "<strong>75%:</strong> 77.25"
            ],
            "text/markdown": "**75%:** 77.25",
            "text/latex": "\\textbf{75\\textbackslash{}\\%:} 77.25",
            "text/plain": [
              "  75% \n",
              "77.25 "
            ]
          },
          "metadata": {}
        }
      ],
      "source": [
        "#https://www.kaggle.com/code/ptr8190/3rd-type1-2-3-1-2\n",
        "df<-read.csv('t1-data1.csv')\n",
        "df<-na.omit(df)\n",
        "cut<-floor(nrow(df)*0.6)\n",
        "cut<-df[c(1:cut),]\n",
        "quantile(cut$f1,3/4)"
      ]
    }
  ]
}