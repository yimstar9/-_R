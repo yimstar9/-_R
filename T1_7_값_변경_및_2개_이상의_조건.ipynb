{
  "nbformat": 4,
  "nbformat_minor": 0,
  "metadata": {
    "colab": {
      "provenance": [],
      "authorship_tag": "ABX9TyOVKQDOsF8DQfTopzE73Jcv",
      "include_colab_link": true
    },
    "kernelspec": {
      "name": "ir",
      "display_name": "R"
    },
    "language_info": {
      "name": "R"
    }
  },
  "cells": [
    {
      "cell_type": "markdown",
      "metadata": {
        "id": "view-in-github",
        "colab_type": "text"
      },
      "source": [
        "<a href=\"https://colab.research.google.com/github/yimstar9/Engineer-Big-Data-Analysis_R/blob/main/T1_7_%EA%B0%92_%EB%B3%80%EA%B2%BD_%EB%B0%8F_2%EA%B0%9C_%EC%9D%B4%EC%83%81%EC%9D%98_%EC%A1%B0%EA%B1%B4.ipynb\" target=\"_parent\"><img src=\"https://colab.research.google.com/assets/colab-badge.svg\" alt=\"Open In Colab\"/></a>"
      ]
    },
    {
      "cell_type": "code",
      "execution_count": 9,
      "metadata": {
        "colab": {
          "base_uri": "https://localhost:8080/",
          "height": 34
        },
        "id": "UVyY-91BPLUz",
        "outputId": "2617f90c-0ca6-4e65-f872-d27ce8102cd7"
      },
      "outputs": [
        {
          "output_type": "display_data",
          "data": {
            "text/html": [
              "90"
            ],
            "text/markdown": "90",
            "text/latex": "90",
            "text/plain": [
              "[1] 90"
            ]
          },
          "metadata": {}
        }
      ],
      "source": [
        "# 'f4'컬럼의 값이 'ESFJ'인 데이터를 'ISFJ'로 대체하고, 'city'가 '경기'이면서 'f4'가 'ISFJ'인 데이터 중 'age'컬럼의 최대값을 출력하시오!\n",
        "# 데이터셋 : basic1.csv\n",
        "library(dplyr)\n",
        "df=read.csv('basic1.csv')\n",
        "df%>%mutate(pre_F4=ifelse(f4=='ESFJ','ISFJ',f4))%>%filter(city=='경기'& f4=='ISFJ')%>%select(age)%>%max\n"
      ]
    }
  ]
}