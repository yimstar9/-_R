{
  "nbformat": 4,
  "nbformat_minor": 0,
  "metadata": {
    "colab": {
      "provenance": [],
      "authorship_tag": "ABX9TyPSAPvEC+pGC4m1svqpn9Jm",
      "include_colab_link": true
    },
    "kernelspec": {
      "name": "ir",
      "display_name": "R"
    },
    "language_info": {
      "name": "R"
    }
  },
  "cells": [
    {
      "cell_type": "markdown",
      "metadata": {
        "id": "view-in-github",
        "colab_type": "text"
      },
      "source": [
        "<a href=\"https://colab.research.google.com/github/yimstar9/Engineer-Big-Data-Analysis_R/blob/main/%5BR%5D_T1_20_%EB%8D%B0%EC%9D%B4%ED%84%B0_%EB%B3%91%ED%95%A9.ipynb\" target=\"_parent\"><img src=\"https://colab.research.google.com/assets/colab-badge.svg\" alt=\"Open In Colab\"/></a>"
      ]
    },
    {
      "cell_type": "code",
      "execution_count": 13,
      "metadata": {
        "colab": {
          "base_uri": "https://localhost:8080/",
          "height": 164
        },
        "id": "bJdnriquubqa",
        "outputId": "2a0abb27-f163-4d81-be9b-6ac1965da1b6"
      },
      "outputs": [
        {
          "output_type": "display_data",
          "data": {
            "text/html": [
              "<table class=\"dataframe\">\n",
              "<caption>A data.frame: 1 × 1</caption>\n",
              "<thead>\n",
              "\t<tr><th scope=col>sum(f2)</th></tr>\n",
              "\t<tr><th scope=col>&lt;int&gt;</th></tr>\n",
              "</thead>\n",
              "<tbody>\n",
              "\t<tr><td>15</td></tr>\n",
              "</tbody>\n",
              "</table>\n"
            ],
            "text/markdown": "\nA data.frame: 1 × 1\n\n| sum(f2) &lt;int&gt; |\n|---|\n| 15 |\n\n",
            "text/latex": "A data.frame: 1 × 1\n\\begin{tabular}{l}\n sum(f2)\\\\\n <int>\\\\\n\\hline\n\t 15\\\\\n\\end{tabular}\n",
            "text/plain": [
              "  sum(f2)\n",
              "1 15     "
            ]
          },
          "metadata": {}
        }
      ],
      "source": [
        "## 고객과 잘 맞는 타입 추천 :)\n",
        "### basic1 데이터 중 'f4'를 기준으로 basic3 데이터 'f4'값을 기준으로 병합하고, \n",
        "### 병합한 데이터에서 r2결측치를 제거한다음, 앞에서 부터 20개 데이터를 선택하고 'f2'컬럼 합을 구하시오\n",
        "# - basic1.csv: 고객 데이터 \n",
        "# - basic3.csv: 잘 어울리는 관계 데이터 (추천1:r1, 추천2:r2)\n",
        "df<-read.csv('basic1.csv')\n",
        "df1<-read.csv('basic3.csv')\n",
        "library(dplyr)\n",
        "df%>%inner_join(df1,by='f4')%>%filter(r2!='')%>%head(20)%>%summarise(sum(f2))"
      ]
    }
  ]
}