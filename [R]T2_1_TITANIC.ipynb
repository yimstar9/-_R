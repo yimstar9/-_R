{
  "metadata": {
    "kernelspec": {
      "name": "ir",
      "display_name": "R",
      "language": "R"
    },
    "language_info": {
      "name": "R",
      "codemirror_mode": "r",
      "pygments_lexer": "r",
      "mimetype": "text/x-r-source",
      "file_extension": ".r",
      "version": "4.0.5"
    },
    "colab": {
      "provenance": [],
      "include_colab_link": true
    }
  },
  "nbformat_minor": 0,
  "nbformat": 4,
  "cells": [
    {
      "cell_type": "markdown",
      "metadata": {
        "id": "view-in-github",
        "colab_type": "text"
      },
      "source": [
        "<a href=\"https://colab.research.google.com/github/yimstar9/Engineer-Big-Data-Analysis_R/blob/main/%5BR%5DT2_1_TITANIC.ipynb\" target=\"_parent\"><img src=\"https://colab.research.google.com/assets/colab-badge.svg\" alt=\"Open In Colab\"/></a>"
      ]
    },
    {
      "cell_type": "markdown",
      "source": [
        "## 생존여부 예측모델 만들기\n",
        "### 학습용 데이터 (X_train, y_train)을 이용하여 생존 예측 모형을 만든 후, 이를 평가용 데이터(X_test)에 적용하여 얻은 예측값을 다음과 같은 형식의 CSV파일로 생성하시오(제출한 모델의 성능은 accuracy 평가지표에 따라 채점)\n",
        "\n",
        "(가) 제공 데이터 목록\n",
        "- y_train: 생존여부(학습용)\n",
        "- X_trian, X_test : 승객 정보 (학습용 및 평가용)\n",
        "\n",
        "(나) 데이터 형식 및 내용\n",
        "- y_trian (712명 데이터)\n",
        "\n",
        "**시험환경 세팅은 예시문제와 동일한 형태의 X_train, y_train, X_test 데이터를 만들기 위함임**\n",
        "\n",
        "### 유의사항\n",
        "- 성능이 우수한 예측모형을 구축하기 위해서는 적절한 데이터 전처리, 피처엔지니어링, 분류알고리즘, 하이퍼파라미터 튜닝, 모형 앙상블 등이 수반되어야 한다.\n",
        "- 수험번호.csv파일이 만들어지도록 코드를 제출한다.\n",
        "- 제출한 모델의 성능은 accuracy로 평가함\n",
        "\n",
        "csv 출력형태\n",
        "\n",
        "\n"
      ],
      "metadata": {
        "id": "aXtf0nJwfwU_"
      }
    },
    {
      "cell_type": "code",
      "source": [
        "library(dplyr)\n",
        "library(randomForest)\n",
        "library(ModelMetrics)\n",
        "df<-read.csv('../input/titanic/train.csv')\n",
        "test<-read.csv('../input/titanic/test.csv')"
      ],
      "metadata": {
        "_uuid": "8f2839f25d086af736a60e9eeb907d3b93b6e0e5",
        "_cell_guid": "b1076dfc-b9ad-4769-8c92-a6c4dae69d19",
        "execution": {
          "iopub.status.busy": "2022-11-10T12:03:25.789894Z",
          "iopub.execute_input": "2022-11-10T12:03:25.791528Z",
          "iopub.status.idle": "2022-11-10T12:03:25.830610Z"
        },
        "trusted": true,
        "id": "VlZM9W5YfwVF"
      },
      "execution_count": null,
      "outputs": []
    },
    {
      "cell_type": "code",
      "source": [
        "colSums(is.na(df)) #age컬럼에 결측값 있음\n",
        "summary(df)\n",
        "str(df)"
      ],
      "metadata": {
        "execution": {
          "iopub.status.busy": "2022-11-10T12:03:25.834830Z",
          "iopub.execute_input": "2022-11-10T12:03:25.836647Z",
          "iopub.status.idle": "2022-11-10T12:03:25.883055Z"
        },
        "trusted": true,
        "id": "rfjFDREkfwVH",
        "outputId": "7248310d-0ea1-4612-9116-da9a595e43df"
      },
      "execution_count": null,
      "outputs": [
        {
          "output_type": "display_data",
          "data": {
            "text/html": "<style>\n.dl-inline {width: auto; margin:0; padding: 0}\n.dl-inline>dt, .dl-inline>dd {float: none; width: auto; display: inline-block}\n.dl-inline>dt::after {content: \":\\0020\"; padding-right: .5ex}\n.dl-inline>dt:not(:first-of-type) {padding-left: .5ex}\n</style><dl class=dl-inline><dt>PassengerId</dt><dd>0</dd><dt>Survived</dt><dd>0</dd><dt>Pclass</dt><dd>0</dd><dt>Name</dt><dd>0</dd><dt>Sex</dt><dd>0</dd><dt>Age</dt><dd>177</dd><dt>SibSp</dt><dd>0</dd><dt>Parch</dt><dd>0</dd><dt>Ticket</dt><dd>0</dd><dt>Fare</dt><dd>0</dd><dt>Cabin</dt><dd>0</dd><dt>Embarked</dt><dd>0</dd></dl>\n",
            "text/markdown": "PassengerId\n:   0Survived\n:   0Pclass\n:   0Name\n:   0Sex\n:   0Age\n:   177SibSp\n:   0Parch\n:   0Ticket\n:   0Fare\n:   0Cabin\n:   0Embarked\n:   0\n\n",
            "text/latex": "\\begin{description*}\n\\item[PassengerId] 0\n\\item[Survived] 0\n\\item[Pclass] 0\n\\item[Name] 0\n\\item[Sex] 0\n\\item[Age] 177\n\\item[SibSp] 0\n\\item[Parch] 0\n\\item[Ticket] 0\n\\item[Fare] 0\n\\item[Cabin] 0\n\\item[Embarked] 0\n\\end{description*}\n",
            "text/plain": "PassengerId    Survived      Pclass        Name         Sex         Age \n          0           0           0           0           0         177 \n      SibSp       Parch      Ticket        Fare       Cabin    Embarked \n          0           0           0           0           0           0 "
          },
          "metadata": {}
        },
        {
          "output_type": "display_data",
          "data": {
            "text/plain": "  PassengerId       Survived          Pclass          Name          \n Min.   :  1.0   Min.   :0.0000   Min.   :1.000   Length:891        \n 1st Qu.:223.5   1st Qu.:0.0000   1st Qu.:2.000   Class :character  \n Median :446.0   Median :0.0000   Median :3.000   Mode  :character  \n Mean   :446.0   Mean   :0.3838   Mean   :2.309                     \n 3rd Qu.:668.5   3rd Qu.:1.0000   3rd Qu.:3.000                     \n Max.   :891.0   Max.   :1.0000   Max.   :3.000                     \n                                                                    \n     Sex                 Age            SibSp           Parch       \n Length:891         Min.   : 0.42   Min.   :0.000   Min.   :0.0000  \n Class :character   1st Qu.:20.12   1st Qu.:0.000   1st Qu.:0.0000  \n Mode  :character   Median :28.00   Median :0.000   Median :0.0000  \n                    Mean   :29.70   Mean   :0.523   Mean   :0.3816  \n                    3rd Qu.:38.00   3rd Qu.:1.000   3rd Qu.:0.0000  \n                    Max.   :80.00   Max.   :8.000   Max.   :6.0000  \n                    NA's   :177                                     \n    Ticket               Fare           Cabin             Embarked        \n Length:891         Min.   :  0.00   Length:891         Length:891        \n Class :character   1st Qu.:  7.91   Class :character   Class :character  \n Mode  :character   Median : 14.45   Mode  :character   Mode  :character  \n                    Mean   : 32.20                                        \n                    3rd Qu.: 31.00                                        \n                    Max.   :512.33                                        \n                                                                          "
          },
          "metadata": {}
        },
        {
          "name": "stdout",
          "text": "'data.frame':\t891 obs. of  12 variables:\n $ PassengerId: int  1 2 3 4 5 6 7 8 9 10 ...\n $ Survived   : int  0 1 1 1 0 0 0 0 1 1 ...\n $ Pclass     : int  3 1 3 1 3 3 1 3 3 2 ...\n $ Name       : chr  \"Braund, Mr. Owen Harris\" \"Cumings, Mrs. John Bradley (Florence Briggs Thayer)\" \"Heikkinen, Miss. Laina\" \"Futrelle, Mrs. Jacques Heath (Lily May Peel)\" ...\n $ Sex        : chr  \"male\" \"female\" \"female\" \"female\" ...\n $ Age        : num  22 38 26 35 35 NA 54 2 27 14 ...\n $ SibSp      : int  1 1 0 1 0 0 0 3 0 1 ...\n $ Parch      : int  0 0 0 0 0 0 0 1 2 0 ...\n $ Ticket     : chr  \"A/5 21171\" \"PC 17599\" \"STON/O2. 3101282\" \"113803\" ...\n $ Fare       : num  7.25 71.28 7.92 53.1 8.05 ...\n $ Cabin      : chr  \"\" \"C85\" \"\" \"C123\" ...\n $ Embarked   : chr  \"S\" \"C\" \"S\" \"S\" ...\n",
          "output_type": "stream"
        }
      ]
    },
    {
      "cell_type": "markdown",
      "source": [
        "## Start"
      ],
      "metadata": {
        "id": "ATgX7CBVfwVJ"
      }
    },
    {
      "cell_type": "code",
      "source": [
        "#전처리\n",
        "\n",
        "df$Sex<-as.factor(df$Sex)\n",
        "df$Embarked<-as.factor(df$Embarked)\n",
        "df$Survived<-as.factor(df$Survived)\n",
        "df$Pclass<-as.factor(df$Pclass)\n",
        "\n",
        "test$Sex<-as.factor(test$Sex)\n",
        "test$Embarked<-as.factor(test$Embarked)\n",
        "test$Pclass<-as.factor(test$Pclass)\n",
        "\n",
        "df$Age<-coalesce(df$Age,median(df$Age,na.rm=T))\n",
        "test$Age<-coalesce(test$Age,median(test$Age,na.rm=T))\n",
        "#age 결측값 중앙값으로대체\n",
        "df<-df[,-c(4,9,10,11)]\n",
        "str(test)\n",
        "test<-test[,-c(3,8,9,10)]\n",
        "\n",
        "idx<-sample((1:nrow(df)),nrow(df)*0.7)\n",
        "x_train<-df[idx,]\n",
        "x_test<-df[-idx,]\n",
        "\n"
      ],
      "metadata": {
        "execution": {
          "iopub.status.busy": "2022-11-10T12:17:42.918348Z",
          "iopub.execute_input": "2022-11-10T12:17:42.919833Z",
          "iopub.status.idle": "2022-11-10T12:17:42.974717Z"
        },
        "trusted": true,
        "id": "PL2GdCbBfwVK",
        "outputId": "4455e6b5-0622-4496-88ac-46a2282a9732"
      },
      "execution_count": null,
      "outputs": [
        {
          "name": "stdout",
          "text": "'data.frame':\t418 obs. of  7 variables:\n $ PassengerId: int  892 893 894 895 896 897 898 899 900 901 ...\n $ Pclass     : Factor w/ 3 levels \"1\",\"2\",\"3\": 3 3 2 3 3 3 3 2 3 3 ...\n $ Sex        : Factor w/ 2 levels \"female\",\"male\": 2 1 2 2 1 2 1 2 1 2 ...\n $ Age        : num  34.5 47 62 27 22 14 30 26 18 21 ...\n $ SibSp      : int  0 1 0 0 1 0 0 1 0 2 ...\n $ Parch      : int  0 0 0 0 1 0 0 1 0 0 ...\n $ Embarked   : Factor w/ 4 levels \"\",\"C\",\"Q\",\"S\": 2 3 2 3 3 3 2 3 1 3 ...\n",
          "output_type": "stream"
        }
      ]
    },
    {
      "cell_type": "code",
      "source": [
        "#모델링, 예측\n",
        "m<-randomForest(Survived~.-(PassengerId),data=x_train, ntree=100)\n",
        "p=predict(m,x_test)\n"
      ],
      "metadata": {
        "execution": {
          "iopub.status.busy": "2022-11-10T12:03:25.946484Z",
          "iopub.execute_input": "2022-11-10T12:03:25.948206Z",
          "iopub.status.idle": "2022-11-10T12:03:26.021065Z"
        },
        "trusted": true,
        "id": "Zy3gI3BsfwVK"
      },
      "execution_count": null,
      "outputs": []
    },
    {
      "cell_type": "code",
      "source": [
        "#평가 \n",
        "#str(p)\n",
        "#str(x_test)\n",
        "result<-caret::confusionMatrix(x_test$Survived, p)$overall[1]\n",
        "result\n"
      ],
      "metadata": {
        "execution": {
          "iopub.status.busy": "2022-11-10T12:03:26.023546Z",
          "iopub.execute_input": "2022-11-10T12:03:26.024939Z",
          "iopub.status.idle": "2022-11-10T12:03:26.046252Z"
        },
        "trusted": true,
        "id": "_FJTgxKTfwVL",
        "outputId": "78e9b5b9-b95f-40d2-dcef-805272c6fc48"
      },
      "execution_count": null,
      "outputs": [
        {
          "output_type": "display_data",
          "data": {
            "text/html": "<strong>Accuracy:</strong> 0.835820895522388",
            "text/markdown": "**Accuracy:** 0.835820895522388",
            "text/latex": "\\textbf{Accuracy:} 0.835820895522388",
            "text/plain": " Accuracy \n0.8358209 "
          },
          "metadata": {}
        }
      ]
    },
    {
      "cell_type": "code",
      "source": [
        "#최종 데이터 예측\n",
        "\n",
        "levels(test$Embarked)<-levels(df$Embarked)\n",
        "m1<-randomForest(Survived~.-(PassengerId),data=df, ntree=100)\n",
        "p1=predict(m1,test)\n",
        "\n",
        "\n",
        "ans<-cbind('Id'=test$Embarked,p1)\n",
        "head(ans)"
      ],
      "metadata": {
        "execution": {
          "iopub.status.busy": "2022-11-10T12:19:25.184147Z",
          "iopub.execute_input": "2022-11-10T12:19:25.185926Z",
          "iopub.status.idle": "2022-11-10T12:19:25.288588Z"
        },
        "trusted": true,
        "id": "Zg6w5eZ-fwVM",
        "outputId": "c6a3ca87-09a5-44c1-c5d2-843990a90362"
      },
      "execution_count": null,
      "outputs": [
        {
          "output_type": "display_data",
          "data": {
            "text/html": "<table class=\"dataframe\">\n<caption>A matrix: 6 × 2 of type int</caption>\n<thead>\n\t<tr><th></th><th scope=col>Id</th><th scope=col>p1</th></tr>\n</thead>\n<tbody>\n\t<tr><th scope=row>1</th><td>2</td><td>1</td></tr>\n\t<tr><th scope=row>2</th><td>3</td><td>1</td></tr>\n\t<tr><th scope=row>3</th><td>2</td><td>1</td></tr>\n\t<tr><th scope=row>4</th><td>3</td><td>1</td></tr>\n\t<tr><th scope=row>5</th><td>3</td><td>1</td></tr>\n\t<tr><th scope=row>6</th><td>3</td><td>2</td></tr>\n</tbody>\n</table>\n",
            "text/markdown": "\nA matrix: 6 × 2 of type int\n\n| <!--/--> | Id | p1 |\n|---|---|---|\n| 1 | 2 | 1 |\n| 2 | 3 | 1 |\n| 3 | 2 | 1 |\n| 4 | 3 | 1 |\n| 5 | 3 | 1 |\n| 6 | 3 | 2 |\n\n",
            "text/latex": "A matrix: 6 × 2 of type int\n\\begin{tabular}{r|ll}\n  & Id & p1\\\\\n\\hline\n\t1 & 2 & 1\\\\\n\t2 & 3 & 1\\\\\n\t3 & 2 & 1\\\\\n\t4 & 3 & 1\\\\\n\t5 & 3 & 1\\\\\n\t6 & 3 & 2\\\\\n\\end{tabular}\n",
            "text/plain": "  Id p1\n1 2  1 \n2 3  1 \n3 2  1 \n4 3  1 \n5 3  1 \n6 3  2 "
          },
          "metadata": {}
        }
      ]
    }
  ]
}