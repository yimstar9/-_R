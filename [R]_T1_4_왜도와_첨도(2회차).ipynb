{
  "nbformat": 4,
  "nbformat_minor": 0,
  "metadata": {
    "colab": {
      "provenance": [],
      "authorship_tag": "ABX9TyOQqNunHgGRS0OUwZNVT7Av",
      "include_colab_link": true
    },
    "kernelspec": {
      "name": "ir",
      "display_name": "R"
    },
    "language_info": {
      "name": "R"
    }
  },
  "cells": [
    {
      "cell_type": "markdown",
      "metadata": {
        "id": "view-in-github",
        "colab_type": "text"
      },
      "source": [
        "<a href=\"https://colab.research.google.com/github/yimstar9/Engineer-Big-Data-Analysis_R/blob/main/%5BR%5D_T1_4_%EC%99%9C%EB%8F%84%EC%99%80_%EC%B2%A8%EB%8F%84(2%ED%9A%8C%EC%B0%A8).ipynb\" target=\"_parent\"><img src=\"https://colab.research.google.com/assets/colab-badge.svg\" alt=\"Open In Colab\"/></a>"
      ]
    },
    {
      "cell_type": "code",
      "execution_count": 23,
      "metadata": {
        "colab": {
          "base_uri": "https://localhost:8080/",
          "height": 164
        },
        "id": "fVUKUnRaoOKU",
        "outputId": "6378929e-6092-44c5-c2ae-b72f982ba5c1"
      },
      "outputs": [
        {
          "output_type": "display_data",
          "data": {
            "text/html": [
              "<table class=\"dataframe\">\n",
              "<caption>A data.frame: 1 × 1</caption>\n",
              "<thead>\n",
              "\t<tr><th scope=col>final</th></tr>\n",
              "\t<tr><th scope=col>&lt;dbl&gt;</th></tr>\n",
              "</thead>\n",
              "<tbody>\n",
              "\t<tr><td>9.29</td></tr>\n",
              "</tbody>\n",
              "</table>\n"
            ],
            "text/markdown": "\nA data.frame: 1 × 1\n\n| final &lt;dbl&gt; |\n|---|\n| 9.29 |\n\n",
            "text/latex": "A data.frame: 1 × 1\n\\begin{tabular}{l}\n final\\\\\n <dbl>\\\\\n\\hline\n\t 9.29\\\\\n\\end{tabular}\n",
            "text/plain": [
              "  final\n",
              "1 9.29 "
            ]
          },
          "metadata": {}
        }
      ],
      "source": [
        "# 주어진 데이터 중 train.csv에서 'SalePrice'컬럼의 왜도와 첨도를 구한 값과, \n",
        "# 'SalePrice'컬럼을 스케일링(log1p)로 변환한 이후 왜도와 첨도를 구해 모두 더한 다음 소수점 2째자리까지 출력하시오\n",
        "# 데이터셋 : House Prices - Advanced Regression Technique (https://www.kaggle.com/c/house-prices-advanced-regression-techniques)\n",
        "#install.packages(\"e1071\")\n",
        "#install.packages(\"dplyr\")\n",
        "library(e1071)\n",
        "library(dplyr)\n",
        "\n",
        "df<-read.csv(\"train.csv\",header=T)\n",
        "df %>% mutate(logp=log(SalePrice))%>%summarise(final=sum(kurtosis(SalePrice),skewness(SalePrice),kurtosis(logp),skewness(logp)))%>%round(2)"
      ]
    }
  ]
}