{
  "nbformat": 4,
  "nbformat_minor": 0,
  "metadata": {
    "colab": {
      "provenance": [],
      "collapsed_sections": [],
      "authorship_tag": "ABX9TyNVixpIRDwOggOglFlm2k+c",
      "include_colab_link": true
    },
    "kernelspec": {
      "name": "ir",
      "display_name": "R"
    },
    "language_info": {
      "name": "R"
    }
  },
  "cells": [
    {
      "cell_type": "markdown",
      "metadata": {
        "id": "view-in-github",
        "colab_type": "text"
      },
      "source": [
        "<a href=\"https://colab.research.google.com/github/yimstar9/Engineer-Big-Data-Analysis_R/blob/main/%5BR%5D_T1_17_%EC%8B%9C%EA%B3%84%EC%97%B4_%EB%8D%B0%EC%9D%B4%ED%84%B01.ipynb\" target=\"_parent\"><img src=\"https://colab.research.google.com/assets/colab-badge.svg\" alt=\"Open In Colab\"/></a>"
      ]
    },
    {
      "cell_type": "code",
      "execution_count": 13,
      "metadata": {
        "colab": {
          "base_uri": "https://localhost:8080/",
          "height": 164
        },
        "id": "AiJiK882aJNT",
        "outputId": "4ae77a97-f120-421f-b1f7-5a428f7208a6"
      },
      "outputs": [
        {
          "output_type": "display_data",
          "data": {
            "text/html": [
              "<table class=\"dataframe\">\n",
              "<caption>A data.frame: 1 × 1</caption>\n",
              "<thead>\n",
              "\t<tr><th scope=col>med</th></tr>\n",
              "\t<tr><th scope=col>&lt;dbl&gt;</th></tr>\n",
              "</thead>\n",
              "<tbody>\n",
              "\t<tr><td>1725770</td></tr>\n",
              "</tbody>\n",
              "</table>\n"
            ],
            "text/markdown": "\nA data.frame: 1 × 1\n\n| med &lt;dbl&gt; |\n|---|\n| 1725770 |\n\n",
            "text/latex": "A data.frame: 1 × 1\n\\begin{tabular}{l}\n med\\\\\n <dbl>\\\\\n\\hline\n\t 1725770\\\\\n\\end{tabular}\n",
            "text/plain": [
              "  med    \n",
              "1 1725770"
            ]
          },
          "metadata": {}
        }
      ],
      "source": [
        "# ### 2022년 5월 Sales의 중앙값을 구하시오\n",
        "# - 데이터셋 : basic2.csv \n",
        "# - 오른쪽 상단 copy&edit 클릭 -> 예상문제 풀이 시작\n",
        "library(dplyr)\n",
        "library(lubridate)\n",
        "df<-read.csv('basic2.csv')\n",
        "df%>%mutate(year=year(Date),month=month(Date))%>%filter(month==5)%>%summarise(med=median(Sales))"
      ]
    }
  ]
}