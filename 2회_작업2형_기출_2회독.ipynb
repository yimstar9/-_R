{
  "nbformat": 4,
  "nbformat_minor": 0,
  "metadata": {
    "colab": {
      "provenance": [],
      "authorship_tag": "ABX9TyNhL189G383O6EiZ83PgOhx",
      "include_colab_link": true
    },
    "kernelspec": {
      "name": "ir",
      "display_name": "R"
    },
    "language_info": {
      "name": "R"
    }
  },
  "cells": [
    {
      "cell_type": "markdown",
      "metadata": {
        "id": "view-in-github",
        "colab_type": "text"
      },
      "source": [
        "<a href=\"https://colab.research.google.com/github/yimstar9/Engineer-Big-Data-Analysis_R/blob/main/2%ED%9A%8C_%EC%9E%91%EC%97%852%ED%98%95_%EA%B8%B0%EC%B6%9C_2%ED%9A%8C%EB%8F%85.ipynb\" target=\"_parent\"><img src=\"https://colab.research.google.com/assets/colab-badge.svg\" alt=\"Open In Colab\"/></a>"
      ]
    },
    {
      "cell_type": "code",
      "execution_count": null,
      "metadata": {
        "id": "-HyI3AwpDvaU"
      },
      "outputs": [],
      "source": [
        "#https://www.kaggle.com/code/limmyoungjin/tutorial-t2-2-r/notebook\n",
        "\n",
        "# %% [markdown]\n",
        "# ## 전자상거래 배송 데이터\n",
        "# ### 제품 배송 시간에 맞춰 배송되었는지 예측모델 만들기\n",
        "# 학습용 데이터 (X_train, y_train)을 이용하여 배송 예측 모형을 만든 후, 이를 평가용 데이터(X_test)에 적용하여 얻은 예측값을 다음과 같은 형식의 CSV파일로 생성하시오(제출한 모델의 성능은 ROC-AUC 평가지표에 따라 채점)\n",
        "# \n",
        "# ![image.png](attachment:f70c3a4b-9984-4656-af95-dac047a900cb.png)\n",
        "# \n",
        "# [시험용 데이터셋 만들기] 코드는 예시문제와 동일한 형태의 X_train, y_train, X_test 데이터를 만들기 위함임\n",
        "# \n",
        "# (유의사항)\n",
        "# - 성능이 우수한 예측모형을 구축하기 위해서는 적절한 데이터 전처리, 피처엔지니어링, 분류알고리즘, 하이퍼파라미터 튜닝, 모형 앙상블 등이 수반되어야 한다.\n",
        "# - 수험번호.csv파일이 만들어지도록 코드를 제출한다.\n",
        "# - 제출한 모델의 성능은 ROC-AUC형태로 읽어드린다.\n",
        "\n",
        "# %% [code] {\"jupyter\":{\"outputs_hidden\":false},\"execution\":{\"iopub.status.busy\":\"2022-11-23T14:53:03.255441Z\",\"iopub.execute_input\":\"2022-11-23T14:53:03.257002Z\",\"iopub.status.idle\":\"2022-11-23T14:53:07.143993Z\"}}\n",
        "library(dplyr)\n",
        "library(randomForest)\n",
        "library(caret)\n",
        "library(ModelMetrics)\n",
        "df<-read.csv('../input/customer-analytics/Train.csv')\n",
        "\n",
        "\n",
        "#결측치 없음\n",
        "#colSums(is.na(df))\n",
        "\n",
        "\n",
        "df<-df%>%mutate_at(vars(Warehouse_block,Mode_of_Shipment,Product_importance,Gender,Reached.on.Time_Y.N),as.factor)\n",
        "p<-preProcess(df,\"range\")\n",
        "df$Weight_in_gms<-predict(p,df)$Weight_in_gms\n",
        "\n",
        "set.seed(99)\n",
        "idx<-sample(1:nrow(df),0.7*nrow(df))\n",
        "train<-df[idx,]\n",
        "test<-df[-idx,]\n",
        "str(train)\n",
        "m_rf<-randomForest(Reached.on.Time_Y.N~.,train[,-1],ntree=300)\n",
        "p_rf<-predict(m_rf,test[,-c(1,12)])\n",
        "\n",
        "caret::confusionMatrix(test$'Reached.on.Time_Y.N',p_rf)$byClass\n",
        "caret::confusionMatrix(test$'Reached.on.Time_Y.N',p_rf)$overall\n",
        "auc(test$'Reached.on.Time_Y.N',p_rf)\n",
        "\n",
        "result<-cbind(test[,1],as.character(p_rf))\n",
        "colnames(result)<-c(\"ID\",\"Reached.on.Time_Y.N\")\n",
        "write.csv(result,\"009.csv\",row.names=F)\n",
        "zz<-read.csv(\"009.csv\")\n",
        "head(zz)\n"
      ]
    }
  ]
}