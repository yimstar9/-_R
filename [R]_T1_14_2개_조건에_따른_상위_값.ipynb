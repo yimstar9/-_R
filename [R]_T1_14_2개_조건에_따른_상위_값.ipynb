{
  "nbformat": 4,
  "nbformat_minor": 0,
  "metadata": {
    "colab": {
      "provenance": [],
      "authorship_tag": "ABX9TyMvLeKHWuN4xz9hPD0Z29ZT",
      "include_colab_link": true
    },
    "kernelspec": {
      "name": "ir",
      "display_name": "R"
    },
    "language_info": {
      "name": "R"
    }
  },
  "cells": [
    {
      "cell_type": "markdown",
      "metadata": {
        "id": "view-in-github",
        "colab_type": "text"
      },
      "source": [
        "<a href=\"https://colab.research.google.com/github/yimstar9/Engineer-Big-Data-Analysis_R/blob/main/%5BR%5D_T1_14_2%EA%B0%9C_%EC%A1%B0%EA%B1%B4%EC%97%90_%EB%94%B0%EB%A5%B8_%EC%83%81%EC%9C%84_%EA%B0%92.ipynb\" target=\"_parent\"><img src=\"https://colab.research.google.com/assets/colab-badge.svg\" alt=\"Open In Colab\"/></a>"
      ]
    },
    {
      "cell_type": "code",
      "execution_count": 16,
      "metadata": {
        "colab": {
          "base_uri": "https://localhost:8080/",
          "height": 201
        },
        "id": "jIhTS56qNXRp",
        "outputId": "d95d286f-d558-4c49-8580-cda63d71537d"
      },
      "outputs": [
        {
          "output_type": "stream",
          "name": "stderr",
          "text": [
            "\u001b[1m\u001b[22m`summarise()` has grouped output by 'city'. You can override using the\n",
            "`.groups` argument.\n"
          ]
        },
        {
          "output_type": "display_data",
          "data": {
            "text/html": [
              "<table class=\"dataframe\">\n",
              "<caption>A data.frame: 1 × 1</caption>\n",
              "<thead>\n",
              "\t<tr><th scope=col>sum(val)</th></tr>\n",
              "\t<tr><th scope=col>&lt;dbl&gt;</th></tr>\n",
              "</thead>\n",
              "<tbody>\n",
              "\t<tr><td>643.68</td></tr>\n",
              "</tbody>\n",
              "</table>\n"
            ],
            "text/markdown": "\nA data.frame: 1 × 1\n\n| sum(val) &lt;dbl&gt; |\n|---|\n| 643.68 |\n\n",
            "text/latex": "A data.frame: 1 × 1\n\\begin{tabular}{l}\n sum(val)\\\\\n <dbl>\\\\\n\\hline\n\t 643.68\\\\\n\\end{tabular}\n",
            "text/plain": [
              "  sum(val)\n",
              "1 643.68  "
            ]
          },
          "metadata": {}
        }
      ],
      "source": [
        "# city와 f4를 기준으로 f5의 평균값을 구한 다음, f5를 기준으로 상위 7개 값을 모두 더해 출력하시오 (소수점 둘째자리까지 출력)\n",
        "# - 데이터셋 : basic1.csv \n",
        "# - 오른쪽 상단 copy&edit 클릭 -> 예상문제 풀이 시작\n",
        "# - File -> Editor Type -> Script\n",
        "\n",
        "df<-read.csv('basic1.csv')\n",
        "library(dplyr)\n",
        "df%>%group_by(city,f4)%>%summarise(val=mean(f5,na.rm=T))%>%arrange(-val)%>%data.frame%>%head(7)%>%summarise(sum(val))%>%round(2)"
      ]
    }
  ]
}