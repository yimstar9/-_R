{
  "nbformat": 4,
  "nbformat_minor": 0,
  "metadata": {
    "colab": {
      "provenance": [],
      "authorship_tag": "ABX9TyMLPGkt+M2pHuWeV6YQ9IqG",
      "include_colab_link": true
    },
    "kernelspec": {
      "name": "ir",
      "display_name": "R"
    },
    "language_info": {
      "name": "R"
    }
  },
  "cells": [
    {
      "cell_type": "markdown",
      "metadata": {
        "id": "view-in-github",
        "colab_type": "text"
      },
      "source": [
        "<a href=\"https://colab.research.google.com/github/yimstar9/Engineer-Big-Data-Analysis_R/blob/main/%5BR%5D_T1_12_%EC%83%81%EC%9C%84%2C%ED%95%98%EC%9C%84_10%EA%B0%9C_%EC%B0%A8%EC%9D%B4.ipynb\" target=\"_parent\"><img src=\"https://colab.research.google.com/assets/colab-badge.svg\" alt=\"Open In Colab\"/></a>"
      ]
    },
    {
      "cell_type": "code",
      "execution_count": 15,
      "metadata": {
        "colab": {
          "base_uri": "https://localhost:8080/",
          "height": 147
        },
        "id": "HGFHWcEbnwSZ",
        "outputId": "732f143f-6047-4d6d-9b85-99dcf1fc4106"
      },
      "outputs": [
        {
          "output_type": "display_data",
          "data": {
            "text/html": [
              "<table class=\"dataframe\">\n",
              "<caption>A tibble: 1 × 1</caption>\n",
              "<thead>\n",
              "\t<tr><th scope=col>ans</th></tr>\n",
              "\t<tr><th scope=col>&lt;dbl&gt;</th></tr>\n",
              "</thead>\n",
              "<tbody>\n",
              "\t<tr><td>87.8</td></tr>\n",
              "</tbody>\n",
              "</table>\n"
            ],
            "text/markdown": "\nA tibble: 1 × 1\n\n| ans &lt;dbl&gt; |\n|---|\n| 87.8 |\n\n",
            "text/latex": "A tibble: 1 × 1\n\\begin{tabular}{l}\n ans\\\\\n <dbl>\\\\\n\\hline\n\t 87.8\\\\\n\\end{tabular}\n",
            "text/plain": [
              "  ans \n",
              "1 87.8"
            ]
          },
          "metadata": {}
        }
      ],
      "source": [
        "# 주어진 데이터에서 상위 10개 국가의 접종률 평균과 하위 10개 국가의 접종률 평균을 구하고, 그 차이를 구해보세요 \n",
        "# (단, 100%가 넘는 접종률 제거, 소수 첫째자리까지 출력)\n",
        "\n",
        "# - 데이터셋 : ../input/covid-vaccination-vs-death/covid_vaccination_vs_death_ratio.csv \n",
        "# - 오른쪽 상단 copy&edit 클릭 -> 예상문제 풀이 시작\n",
        "# - File -> Editor Type -> Script\n",
        "library(dplyr)\n",
        "df<-read.csv('covid-vaccination-vs-death_ratio.csv')\n",
        "df%>%group_by(country)%>%summarise(v=max(ratio))%>%arrange(-v)%>%filter(v<=100)%>%summarise(ans=mean(head(v,10))-mean(tail(v,10)))%>%round(1)\n"
      ]
    }
  ]
}