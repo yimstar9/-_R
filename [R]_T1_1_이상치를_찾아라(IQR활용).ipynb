{
  "nbformat": 4,
  "nbformat_minor": 0,
  "metadata": {
    "colab": {
      "provenance": [],
      "authorship_tag": "ABX9TyNXYJpuklawRqBB03mkRFMW",
      "include_colab_link": true
    },
    "kernelspec": {
      "name": "ir",
      "display_name": "R"
    },
    "language_info": {
      "name": "R"
    }
  },
  "cells": [
    {
      "cell_type": "markdown",
      "metadata": {
        "id": "view-in-github",
        "colab_type": "text"
      },
      "source": [
        "<a href=\"https://colab.research.google.com/github/yimstar9/Engineer-Big-Data-Analysis_R/blob/main/%5BR%5D_T1_1_%EC%9D%B4%EC%83%81%EC%B9%98%EB%A5%BC_%EC%B0%BE%EC%95%84%EB%9D%BC(IQR%ED%99%9C%EC%9A%A9).ipynb\" target=\"_parent\"><img src=\"https://colab.research.google.com/assets/colab-badge.svg\" alt=\"Open In Colab\"/></a>"
      ]
    },
    {
      "cell_type": "code",
      "execution_count": 10,
      "metadata": {
        "colab": {
          "base_uri": "https://localhost:8080/",
          "height": 34
        },
        "id": "e1QT7LgJCuOM",
        "outputId": "f59d0c8c-35a4-4f02-ea55-36beb3e99968"
      },
      "outputs": [
        {
          "output_type": "display_data",
          "data": {
            "text/html": [
              "314"
            ],
            "text/markdown": "314",
            "text/latex": "314",
            "text/plain": [
              "[1] 314"
            ]
          },
          "metadata": {}
        }
      ],
      "source": [
        "# 데이터에서 IQR을 활용해 Fare컬럼의 이상치를 찾고, 이상치 데이터의 여성 수를 구하시오 \n",
        "# 데이터 : ../input/titanic/train.csv\n",
        "library(dplyr)\n",
        "df=read.csv('train (t1).csv')\n",
        "df %>% mutate(Q1=quantile(Fare,1/4),Q3=quantile(Fare,1/4),IQR=Q3-Q1) %>% filter((Fare<Q1-1.5*IQR | Q3+1.5*IQR<Fare) & Sex=='female') %>% nrow"
      ]
    }
  ]
}