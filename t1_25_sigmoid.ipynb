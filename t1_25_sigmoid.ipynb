{
  "nbformat": 4,
  "nbformat_minor": 0,
  "metadata": {
    "colab": {
      "provenance": [],
      "authorship_tag": "ABX9TyPmXIx006JfMlEieLDChn0F",
      "include_colab_link": true
    },
    "kernelspec": {
      "name": "ir",
      "display_name": "R"
    },
    "language_info": {
      "name": "R"
    }
  },
  "cells": [
    {
      "cell_type": "markdown",
      "metadata": {
        "id": "view-in-github",
        "colab_type": "text"
      },
      "source": [
        "<a href=\"https://colab.research.google.com/github/yimstar9/Engineer-Big-Data-Analysis_R/blob/main/t1_25_sigmoid.ipynb\" target=\"_parent\"><img src=\"https://colab.research.google.com/assets/colab-badge.svg\" alt=\"Open In Colab\"/></a>"
      ]
    },
    {
      "cell_type": "code",
      "execution_count": null,
      "metadata": {
        "id": "esXTv52rN5Km"
      },
      "outputs": [],
      "source": [
        "library(dplyr)\n",
        "df<-read.csv(\"../input/bigdatacertificationkr/basic1.csv\")\n",
        "sigmoid<-function(x){\n",
        "    y<-1/(1+exp(-x)) \n",
        "    return(y)\n",
        "}\n",
        "ans<-df%>%mutate(pre_f2=sigmoid(f2))%>%filter(f4=='ISFJ')%>%summarise(sum=round(sum(pre_f2),2))\n",
        "print(ans)"
      ]
    }
  ]
}