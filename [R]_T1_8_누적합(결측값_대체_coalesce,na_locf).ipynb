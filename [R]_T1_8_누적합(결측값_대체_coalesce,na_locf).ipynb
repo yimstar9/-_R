{
  "nbformat": 4,
  "nbformat_minor": 0,
  "metadata": {
    "colab": {
      "provenance": [],
      "authorship_tag": "ABX9TyPlD63yJT97trFDm5BlDZaB",
      "include_colab_link": true
    },
    "kernelspec": {
      "name": "ir",
      "display_name": "R"
    },
    "language_info": {
      "name": "R"
    }
  },
  "cells": [
    {
      "cell_type": "markdown",
      "metadata": {
        "id": "view-in-github",
        "colab_type": "text"
      },
      "source": [
        "<a href=\"https://colab.research.google.com/github/yimstar9/Engineer-Big-Data-Analysis_R/blob/main/%5BR%5D_T1_8_%EB%88%84%EC%A0%81%ED%95%A9(%EA%B2%B0%EC%B8%A1%EA%B0%92_%EB%8C%80%EC%B2%B4_coalesce%2Cna_locf).ipynb\" target=\"_parent\"><img src=\"https://colab.research.google.com/assets/colab-badge.svg\" alt=\"Open In Colab\"/></a>"
      ]
    },
    {
      "cell_type": "code",
      "execution_count": 3,
      "metadata": {
        "colab": {
          "base_uri": "https://localhost:8080/"
        },
        "id": "VO4PU8gyKHMF",
        "outputId": "043b428c-0717-4060-a182-6693152c22e9"
      },
      "outputs": [
        {
          "output_type": "stream",
          "name": "stdout",
          "text": [
            "  pre_f1 \n",
            "980.3784 \n"
          ]
        }
      ],
      "source": [
        "# 주어진 데이터 셋에서 'f2' 컬럼이 1인 조건에 해당하는 데이터의 'f1'컬럼 누적합을 계산한다. \n",
        "# 이때 발생하는 누적합 결측치는 바로 뒤의 값을 채우고, 누적합의 평균값을 출력한다. \n",
        "# (단, 결측치 바로 뒤의 값이 없으면 다음에 나오는 값을 채워넣는다)\n",
        "# 데이터셋 : basic1.csv\n",
        "\n",
        "library(dplyr)\n",
        "library(zoo)\n",
        "df=read.csv('basic1.csv')\n",
        "\n",
        "ans<-df%>%filter(f2==1)%>%summarise(cumsum=cumsum(coalesce(f1, 0)) + f1*0)%>%mutate(pre_f1 = na.locf(cumsum,fromLast=T))%>%select(pre_f1)%>%sapply(mean)\n",
        "print(ans)\n",
        "\n",
        "#coalesce함수:결측값을 대체하는 함수\n",
        "#https://statisticsglobe.com/r-coalesce-function-dplyr-package \n",
        "\n",
        "#na.locf함수:결측값 바로 뒤 값으로 대체 \n",
        "\n",
        "\n",
        "\n",
        "\n",
        "\n",
        "\n",
        "\n",
        "\n",
        "\n"
      ]
    }
  ]
}