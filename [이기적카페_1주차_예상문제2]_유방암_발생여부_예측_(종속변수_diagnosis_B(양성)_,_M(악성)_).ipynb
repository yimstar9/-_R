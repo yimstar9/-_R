{
  "nbformat": 4,
  "nbformat_minor": 0,
  "metadata": {
    "colab": {
      "provenance": [],
      "authorship_tag": "ABX9TyPm4O4aHsvcYsWAX+3TxTFi",
      "include_colab_link": true
    },
    "kernelspec": {
      "name": "ir",
      "display_name": "R"
    },
    "language_info": {
      "name": "R"
    }
  },
  "cells": [
    {
      "cell_type": "markdown",
      "metadata": {
        "id": "view-in-github",
        "colab_type": "text"
      },
      "source": [
        "<a href=\"https://colab.research.google.com/github/yimstar9/Engineer-Big-Data-Analysis_R/blob/main/%5B%EC%9D%B4%EA%B8%B0%EC%A0%81%EC%B9%B4%ED%8E%98_1%EC%A3%BC%EC%B0%A8_%EC%98%88%EC%83%81%EB%AC%B8%EC%A0%9C2%5D_%EC%9C%A0%EB%B0%A9%EC%95%94_%EB%B0%9C%EC%83%9D%EC%97%AC%EB%B6%80_%EC%98%88%EC%B8%A1_(%EC%A2%85%EC%86%8D%EB%B3%80%EC%88%98_diagnosis_B(%EC%96%91%EC%84%B1)_%2C_M(%EC%95%85%EC%84%B1)_).ipynb\" target=\"_parent\"><img src=\"https://colab.research.google.com/assets/colab-badge.svg\" alt=\"Open In Colab\"/></a>"
      ]
    },
    {
      "cell_type": "code",
      "execution_count": null,
      "metadata": {
        "id": "jO3ufBACIMTU"
      },
      "outputs": [],
      "source": [
        "# 데이터 출처 : https://archive.ics.uci.edu/ml/datasets/Breast%20Cancer%20Wisconsin%20(Diagnostic)에서 변형\n",
        "# 데이터 설명 :  유방암 발생여부 예측 (종속변수 diagnosis : B(양성)  , M(악성) )\n",
        "# 문제타입 : 분류유형\n",
        "# 평가지표 : f1-score\n",
        "# trainData url : https://raw.githubusercontent.com/Datamanim/datarepo/main/cancer/train.csv\n",
        "# testData url : https://raw.githubusercontent.com/Datamanim/datarepo/main/cancer/test.csv\n",
        "# subData url : https://raw.githubusercontent.com/Datamanim/datarepo/main/cancer/submission.csv\n",
        "\n",
        "library(dplyr)\n",
        "library(caret)\n",
        "library(car)\n",
        "library(lmtest)\n",
        "library(ROCR)\n",
        "library(ModelMetrics)\n",
        "library(randomForest)\n",
        "library(rpart)\n",
        "library(e1071)\n",
        "\n",
        "train <-read.csv(\"https://raw.githubusercontent.com/Datamanim/datarepo/main/cancer/train.csv\",header=T)\n",
        "test <-read.csv(\"https://raw.githubusercontent.com/Datamanim/datarepo/main/cancer/test.csv\",header=T)\n",
        "subdata <-read.csv(\"https://raw.githubusercontent.com/Datamanim/datarepo/main/cancer/submission.csv\",header=T)\n",
        "\n",
        "summary(train)\n",
        "\n",
        "#변수 스케일링\n",
        "minmax<-preProcess(train,\"range\")\n",
        "train$perimeter_se <- predict(minmax, train)$perimeter_se\n",
        "train$area_se<- predict(minmax, train)$area_se\n",
        "train$area_worst<- predict(minmax, train)$area_worst\n",
        "\n",
        "train$diagnosis<-as.factor(train$diagnosis)\n",
        "#결측치 제거\n",
        "colSums(is.na(train))\n",
        "#train,test 분리\n",
        "idx <- sample(1:nrow(train), 0.7*nrow(train))\n",
        "df_train <- train[idx,]\n",
        "df_test <- train[-idx,]\n",
        "str(train)\n",
        "m <- randomForest(diagnosis~.-(id), data=df_train, ntree=100) #랜덤포레스트\n",
        "p <- predict(m,newdata=df_test)\n",
        "\n",
        "# F1 score\n",
        "caret::confusionMatrix(df_test$diagnosis, p)$byClass[7]\n",
        "\n",
        "\n",
        "# Accuracy\n",
        "caret::confusionMatrix(df_test$diagnosis, p)$overall[1]\n",
        "\n",
        "#ROC auc\n",
        "auc(df_test$diagnosis, p) #랜덤포레스트\n",
        "\n",
        "\n",
        "m2 <- randomForest(diagnosis~.-(id), data=train, ntree=100)\n",
        "p2 <- predict(m, newdata=test,type=\"response\")\n",
        "length(p)\n",
        "result<-as.data.frame(as.character(p))\n",
        "# head(result)\n",
        "write.csv(result, \"diagnosis.csv\", row.names=F)\n",
        "abc<-read.csv(\"diagnosis.csv\")\n",
        "abc\n",
        "\n",
        "\n"
      ]
    }
  ]
}