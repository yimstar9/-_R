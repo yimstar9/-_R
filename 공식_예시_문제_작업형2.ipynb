{
  "nbformat": 4,
  "nbformat_minor": 0,
  "metadata": {
    "colab": {
      "provenance": [],
      "authorship_tag": "ABX9TyNGi52I18PWkV+rxkRiKrfi",
      "include_colab_link": true
    },
    "kernelspec": {
      "name": "ir",
      "display_name": "R"
    },
    "language_info": {
      "name": "R"
    }
  },
  "cells": [
    {
      "cell_type": "markdown",
      "metadata": {
        "id": "view-in-github",
        "colab_type": "text"
      },
      "source": [
        "<a href=\"https://colab.research.google.com/github/yimstar9/Engineer-Big-Data-Analysis_R/blob/main/%EA%B3%B5%EC%8B%9D_%EC%98%88%EC%8B%9C_%EB%AC%B8%EC%A0%9C_%EC%9E%91%EC%97%85%ED%98%952.ipynb\" target=\"_parent\"><img src=\"https://colab.research.google.com/assets/colab-badge.svg\" alt=\"Open In Colab\"/></a>"
      ]
    },
    {
      "cell_type": "code",
      "execution_count": null,
      "metadata": {
        "id": "nxUdkz7YXnuj"
      },
      "outputs": [],
      "source": [
        "\n",
        "#https://www.kaggle.com/code/agileteam/t2-exercise-tutorial-baseline/notebook\n",
        "# 백화점 고객의 1년 간 구매 데이터를 활용해\n",
        "# 데이터 전처리\n",
        "# Feature Engineering\n",
        "# 모델링 (분류 알고리즘 사용)\n",
        "# 하이퍼파라미터 튜닝 (초매개변수 최적화)\n",
        "# 모형 앙상블\n",
        "# csv제출\n",
        "# 유의사항\n",
        "# 수험번호.csv 파일이 만들어지도록 코드를 제출함\n",
        "# 제출한 모델의 성능은 ROC-AUC 평가지표에 따라 채점함\n",
        "# 데이터 출처 및 연결\n",
        "# data 출처: https://www.dataq.or.kr/ - 공지사항 - 제2회 빅데이터분석기사 실기 안내 - 첨부파일\n",
        "# 데이터셋 업로드\n",
        "# 데이터셋 프라이빗 업로드 : https://youtu.be/BZlEQ5JwLiA\n",
        "# Datasets - new dataset - (drag&drop) - Create / 반드시 Private\n",
        "# 작업형2 예시: https://youtu.be/_GIBVt5-khk\n",
        "\n",
        "library(caret)\n",
        "library(dplyr)\n",
        "library(randomForest)\n",
        "library(ModelMetrics)\n",
        "x_train<-read.csv(\"X_train.csv\",fileEncoding = 'euc-kr', encoding = 'utf-8')\n",
        "y_train<-read.csv(\"y_train.csv\")\n",
        "x_test<-read.csv(\"X_test.csv\",fileEncoding = 'euc-kr', encoding = 'utf-8')\n",
        "\n",
        "\n",
        "# 사용자 코딩\n",
        "colSums(is.na(x_train))\n",
        "x_train$환불금액<-ifelse(is.na(x_train$환불금액),0,x_train$환불금액)\n",
        "x_train$총구매액<-ifelse(x_train$총구매액<0,0,x_train$총구매액)\n",
        "x_train$최대구매액<-ifelse(x_train$최대구매액<0,0,x_train$최대구매액)\n",
        "\n",
        "s<-preProcess(x_train,\"range\")\n",
        "x_train[,-c(1,5,6,9)]<-predict(s,x_train)[,-c(1,5,6,9)]\n",
        "\n",
        "x_train$주구매상품<-as.factor(x_train$주구매상품)\n",
        "x_train$주구매지점<-as.factor(x_train$주구매지점)\n",
        "\n",
        "x_test$주구매상품<-as.factor(x_test$주구매상품)\n",
        "x_test$주구매지점<-as.factor(x_test$주구매지점)\n",
        "x_test$환불금액<-ifelse(is.na(x_test$환불금액),0,x_test$환불금액)\n",
        "levels(x_test$주구매상품)<-levels(x_train$주구매상품)\n",
        "\n",
        "y_train$gender<-as.factor(y_train$gender)\n",
        "\n",
        "\n",
        "\n",
        "df<-inner_join(x_train,y_train,by='cust_id')\n",
        "idx<-sample(1:nrow(df),0.7*nrow(df))\n",
        "train_df<-df[idx,]\n",
        "test_df<-df[-idx,]\n",
        "\n",
        "m1_rf<-randomForest(gender~.,train_df[,-c(1,7,10)],ntree=100)\n",
        "pred<-predict(m1_rf,test_df[,-c(1,7,10)],type=\"response\")\n",
        "\n",
        "print(caret::confusionMatrix(test_df$gender, pred)$overall[1])\n",
        "print(paste0(\"auc:\",auc(test_df$gender, pred)))\n",
        "\n",
        "\n",
        "m_rf<-randomForest(gender~.,df[,-c(1,7,10)],ntree=100)\n",
        "ans<-predict(m_rf,x_test[,-c(1,7,10)],type=\"prob\")\n",
        "\n",
        "\n",
        "result<-cbind(x_test[,1],as.character(ans[,2]))\n",
        "colnames(result)<-c(\"cust_id\",\"gender\")\n",
        "\n",
        "write.csv(result,\"0099.csv\",row.names=F)\n",
        "zz<-read.csv(\"0099.csv\")\n",
        "head(zz)\n",
        "\n",
        "\n",
        "\n",
        "\n",
        "# 답안 제출 참고\n",
        "# 아래 코드 변수명과 수험번호를 개인별로 변경하여 활용\n",
        "# write.csv(변수명,'003000000.csv',row.names=F) \n"
      ]
    }
  ]
}