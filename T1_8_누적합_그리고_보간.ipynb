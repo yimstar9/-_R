{
  "nbformat": 4,
  "nbformat_minor": 0,
  "metadata": {
    "colab": {
      "provenance": [],
      "authorship_tag": "ABX9TyPBScjJFZhz+UntiqbjmA0H",
      "include_colab_link": true
    },
    "kernelspec": {
      "name": "ir",
      "display_name": "R"
    },
    "language_info": {
      "name": "R"
    }
  },
  "cells": [
    {
      "cell_type": "markdown",
      "metadata": {
        "id": "view-in-github",
        "colab_type": "text"
      },
      "source": [
        "<a href=\"https://colab.research.google.com/github/yimstar9/Engineer-Big-Data-Analysis_R/blob/main/T1_8_%EB%88%84%EC%A0%81%ED%95%A9_%EA%B7%B8%EB%A6%AC%EA%B3%A0_%EB%B3%B4%EA%B0%84.ipynb\" target=\"_parent\"><img src=\"https://colab.research.google.com/assets/colab-badge.svg\" alt=\"Open In Colab\"/></a>"
      ]
    },
    {
      "cell_type": "code",
      "execution_count": 15,
      "metadata": {
        "colab": {
          "base_uri": "https://localhost:8080/",
          "height": 147
        },
        "id": "hLGTHjgYRZEP",
        "outputId": "fb752e82-db26-4ced-8e02-f4bc8d143ff0"
      },
      "outputs": [
        {
          "output_type": "display_data",
          "data": {
            "text/html": [
              "<table class=\"dataframe\">\n",
              "<caption>A data.frame: 1 × 1</caption>\n",
              "<thead>\n",
              "\t<tr><th scope=col>mean(f1_cs2)</th></tr>\n",
              "\t<tr><th scope=col>&lt;dbl&gt;</th></tr>\n",
              "</thead>\n",
              "<tbody>\n",
              "\t<tr><td>980.3784</td></tr>\n",
              "</tbody>\n",
              "</table>\n"
            ],
            "text/markdown": "\nA data.frame: 1 × 1\n\n| mean(f1_cs2) &lt;dbl&gt; |\n|---|\n| 980.3784 |\n\n",
            "text/latex": "A data.frame: 1 × 1\n\\begin{tabular}{l}\n mean(f1\\_cs2)\\\\\n <dbl>\\\\\n\\hline\n\t 980.3784\\\\\n\\end{tabular}\n",
            "text/plain": [
              "  mean(f1_cs2)\n",
              "1 980.3784    "
            ]
          },
          "metadata": {}
        }
      ],
      "source": [
        "# 주어진 데이터 셋에서 'f2' 컬럼이 1인 조건에 해당하는 데이터의 'f1'컬럼 누적합을 계산한다. \n",
        "# 이때 발생하는 누적합 결측치는 바로 뒤의 값을 채우고, 누적합의 평균값을 출력한다. \n",
        "# (단, 결측치 바로 뒤의 값이 없으면 다음에 나오는 값을 채워넣는다)\n",
        "# 데이터셋 : basic1.csv\n",
        "library(dplyr)\n",
        "library(zoo)\n",
        "df<-read.csv('basic1.csv')\n",
        "df%>%filter(f2==1)%>%mutate(pre_f1=cumsum(ifelse(is.na(f1),0,f1))+f1*0)%>% mutate(f1_cs2=na.locf(pre_f1,fromLast=T))%>%summarise(mean(f1_cs2))"
      ]
    }
  ]
}