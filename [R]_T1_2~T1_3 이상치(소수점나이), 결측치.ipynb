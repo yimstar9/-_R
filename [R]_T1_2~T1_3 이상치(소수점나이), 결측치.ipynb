{
  "nbformat": 4,
  "nbformat_minor": 0,
  "metadata": {
    "colab": {
      "provenance": [],
      "collapsed_sections": [],
      "authorship_tag": "ABX9TyNTl4rGl805JVos+Ju5oYMO",
      "include_colab_link": true
    },
    "kernelspec": {
      "name": "ir",
      "display_name": "R"
    },
    "language_info": {
      "name": "R"
    }
  },
  "cells": [
    {
      "cell_type": "markdown",
      "metadata": {
        "id": "view-in-github",
        "colab_type": "text"
      },
      "source": [
        "<a href=\"https://colab.research.google.com/github/yimstar9/Engineer-Big-Data-Analysis_R/blob/main/%5BR%5D_T1_2~T1_3%20%EC%9D%B4%EC%83%81%EC%B9%98(%EC%86%8C%EC%88%98%EC%A0%90%EB%82%98%EC%9D%B4)%2C%20%EA%B2%B0%EC%B8%A1%EC%B9%98.ipynb\" target=\"_parent\"><img src=\"https://colab.research.google.com/assets/colab-badge.svg\" alt=\"Open In Colab\"/></a>"
      ]
    },
    {
      "cell_type": "code",
      "execution_count": 8,
      "metadata": {
        "colab": {
          "base_uri": "https://localhost:8080/",
          "height": 34
        },
        "id": "iXBsQczDF_t4",
        "outputId": "9f2e1d9e-aef7-4bec-e5d2-ccac30040393"
      },
      "outputs": [
        {
          "output_type": "display_data",
          "data": {
            "text/html": [
              "69.5"
            ],
            "text/markdown": "69.5",
            "text/latex": "69.5",
            "text/plain": [
              "[1] 69.5"
            ]
          },
          "metadata": {}
        }
      ],
      "source": [
        "# 주어진 데이터에서 이상치(소수점 나이)를 찾고 올림, 내림, 버림(절사)했을때 3가지 모두 이상치 'age' 평균을 구한 다음 모두 더하여 출력하시오 \n",
        "# 데이터 : basic1.csv \n",
        "#https://dplyr.tidyverse.org/articles/colwise.html\n",
        "library(dplyr)\n",
        "df=read.csv('basic1.csv')\n",
        "df %>% filter((age*10)%%10!=0) %>% mutate(pre1=ceiling(age),pre2=floor(age),pre3=trunc(age)) %>% summarise(across(c(pre1,pre2,pre3),mean))%>%sum()\n"
      ]
    },
    {
      "cell_type": "code",
      "source": [
        "# 주어진 데이터에서 결측치가 80%이상 되는 컬럼은(변수는) 삭제하고, 80% 미만인 결측치가 있는 컬럼은 'city'별 중앙값으로 값을 대체하고 'f1'컬럼의 평균값을 출력하세요!\n",
        "# 데이터 : basic1\n",
        "library(dplyr)\n",
        "df=read.csv('basic1.csv')\n",
        "colSums(is.na(df)) # f1에 31개\n",
        "(nrow(df)-sum(is.na(df$f1)))/nrow(df)*100 #f1 결측치 69%\n",
        "df %>% group_by(city) %>% mutate(pre_f1=ifelse(is.na(f1),median(f1,na.rm=T),f1))%>%ungroup%>%summarise(mean=mean(pre_f1))\n"
      ],
      "metadata": {
        "colab": {
          "base_uri": "https://localhost:8080/",
          "height": 182
        },
        "id": "SvtxSqIDKtiW",
        "outputId": "0509ebcb-fb92-47ad-a92d-c65984313e19"
      },
      "execution_count": 21,
      "outputs": [
        {
          "output_type": "display_data",
          "data": {
            "text/html": [
              "<style>\n",
              ".dl-inline {width: auto; margin:0; padding: 0}\n",
              ".dl-inline>dt, .dl-inline>dd {float: none; width: auto; display: inline-block}\n",
              ".dl-inline>dt::after {content: \":\\0020\"; padding-right: .5ex}\n",
              ".dl-inline>dt:not(:first-of-type) {padding-left: .5ex}\n",
              "</style><dl class=dl-inline><dt>id</dt><dd>0</dd><dt>age</dt><dd>0</dd><dt>city</dt><dd>0</dd><dt>f1</dt><dd>31</dd><dt>f2</dt><dd>0</dd><dt>f3</dt><dd>0</dd><dt>f4</dt><dd>0</dd><dt>f5</dt><dd>0</dd></dl>\n"
            ],
            "text/markdown": "id\n:   0age\n:   0city\n:   0f1\n:   31f2\n:   0f3\n:   0f4\n:   0f5\n:   0\n\n",
            "text/latex": "\\begin{description*}\n\\item[id] 0\n\\item[age] 0\n\\item[city] 0\n\\item[f1] 31\n\\item[f2] 0\n\\item[f3] 0\n\\item[f4] 0\n\\item[f5] 0\n\\end{description*}\n",
            "text/plain": [
              "  id  age city   f1   f2   f3   f4   f5 \n",
              "   0    0    0   31    0    0    0    0 "
            ]
          },
          "metadata": {}
        },
        {
          "output_type": "display_data",
          "data": {
            "text/html": [
              "69"
            ],
            "text/markdown": "69",
            "text/latex": "69",
            "text/plain": [
              "[1] 69"
            ]
          },
          "metadata": {}
        },
        {
          "output_type": "display_data",
          "data": {
            "text/html": [
              "<table class=\"dataframe\">\n",
              "<caption>A tibble: 1 × 1</caption>\n",
              "<thead>\n",
              "\t<tr><th scope=col>mean</th></tr>\n",
              "\t<tr><th scope=col>&lt;dbl&gt;</th></tr>\n",
              "</thead>\n",
              "<tbody>\n",
              "\t<tr><td>65.52</td></tr>\n",
              "</tbody>\n",
              "</table>\n"
            ],
            "text/markdown": "\nA tibble: 1 × 1\n\n| mean &lt;dbl&gt; |\n|---|\n| 65.52 |\n\n",
            "text/latex": "A tibble: 1 × 1\n\\begin{tabular}{l}\n mean\\\\\n <dbl>\\\\\n\\hline\n\t 65.52\\\\\n\\end{tabular}\n",
            "text/plain": [
              "  mean \n",
              "1 65.52"
            ]
          },
          "metadata": {}
        }
      ]
    }
  ]
}