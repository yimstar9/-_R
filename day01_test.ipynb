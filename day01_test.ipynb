{
  "nbformat": 4,
  "nbformat_minor": 0,
  "metadata": {
    "colab": {
      "provenance": [],
      "authorship_tag": "ABX9TyPgshiY+j/jNbhzYGYaKEdt",
      "include_colab_link": true
    },
    "kernelspec": {
      "name": "ir",
      "display_name": "R"
    },
    "language_info": {
      "name": "R"
    }
  },
  "cells": [
    {
      "cell_type": "markdown",
      "metadata": {
        "id": "view-in-github",
        "colab_type": "text"
      },
      "source": [
        "<a href=\"https://colab.research.google.com/github/yimstar9/Engineer-Big-Data-Analysis_R/blob/main/day01_test.ipynb\" target=\"_parent\"><img src=\"https://colab.research.google.com/assets/colab-badge.svg\" alt=\"Open In Colab\"/></a>"
      ]
    },
    {
      "cell_type": "code",
      "execution_count": 4,
      "metadata": {
        "colab": {
          "base_uri": "https://localhost:8080/",
          "height": 72
        },
        "id": "eMd3-Vt-oEYP",
        "outputId": "8af929ee-5262-4ad8-b001-a7ccddc571d6"
      },
      "outputs": [
        {
          "output_type": "display_data",
          "data": {
            "text/plain": [
              "[1] ‘4.2.1’"
            ]
          },
          "metadata": {}
        },
        {
          "output_type": "stream",
          "name": "stdout",
          "text": [
            "[1] 1 2 3 4\n",
            "[1]  3  6  9 12\n"
          ]
        }
      ],
      "source": [
        "# https://colab.research.google.com/notebook#create=true&language=r\n",
        "# https://colab.to/r\n",
        "package_version(R.version)\n",
        "a<-c(1,2,3,4)\n",
        "print(a)\n",
        "print(a*3)"
      ]
    }
  ]
}