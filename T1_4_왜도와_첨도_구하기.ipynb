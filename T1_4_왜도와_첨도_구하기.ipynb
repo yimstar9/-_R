{
  "nbformat": 4,
  "nbformat_minor": 0,
  "metadata": {
    "colab": {
      "provenance": [],
      "authorship_tag": "ABX9TyMA3GssyWxCejKkpSePoSNJ",
      "include_colab_link": true
    },
    "kernelspec": {
      "name": "ir",
      "display_name": "R"
    },
    "language_info": {
      "name": "R"
    }
  },
  "cells": [
    {
      "cell_type": "markdown",
      "metadata": {
        "id": "view-in-github",
        "colab_type": "text"
      },
      "source": [
        "<a href=\"https://colab.research.google.com/github/yimstar9/Engineer-Big-Data-Analysis_R/blob/main/T1_4_%EC%99%9C%EB%8F%84%EC%99%80_%EC%B2%A8%EB%8F%84_%EA%B5%AC%ED%95%98%EA%B8%B0.ipynb\" target=\"_parent\"><img src=\"https://colab.research.google.com/assets/colab-badge.svg\" alt=\"Open In Colab\"/></a>"
      ]
    },
    {
      "cell_type": "code",
      "execution_count": 23,
      "metadata": {
        "colab": {
          "base_uri": "https://localhost:8080/",
          "height": 34
        },
        "id": "zzFXWhQ4srzo",
        "outputId": "486beef8-7834-4d2f-cbe1-de91949f2b84"
      },
      "outputs": [
        {
          "output_type": "display_data",
          "data": {
            "text/html": [
              "9.29"
            ],
            "text/markdown": "9.29",
            "text/latex": "9.29",
            "text/plain": [
              "[1] 9.29"
            ]
          },
          "metadata": {}
        }
      ],
      "source": [
        "#https://www.kaggle.com/code/limmyoungjin/r-t1-4-expected-questions-2/notebook\n",
        "# 주어진 데이터 중 train.csv에서 'SalePrice'컬럼의 왜도와 첨도를 구한 값과, \n",
        "# 'SalePrice'컬럼을 스케일링(log1p)로 변환한 이후 왜도와 첨도를 구해 모두 더한 다음 소수점 2째자리까지 출력하시오\n",
        "# 데이터셋 : House Prices - Advanced Regression Technique (https://www.kaggle.com/c/house-prices-advanced-regression-techniques)\n",
        "df<-read.csv(\"train.csv\")\n",
        "library(dplyr)\n",
        "#install.packages(\"e1071\")\n",
        "library(e1071)\n",
        "df%>%mutate(log_saleprice=log(SalePrice))%>%summarise(bef_kur=kurtosis(SalePrice),bef_skew=skewness(SalePrice),after_kur=kurtosis(log_saleprice),after_skew=skewness(log_saleprice))%>%sum%>%round(2)\n",
        "\n"
      ]
    }
  ]
}