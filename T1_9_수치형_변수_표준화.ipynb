{
  "nbformat": 4,
  "nbformat_minor": 0,
  "metadata": {
    "colab": {
      "provenance": [],
      "authorship_tag": "ABX9TyM2uQYXCaakSqoy/3o/umVY",
      "include_colab_link": true
    },
    "kernelspec": {
      "name": "ir",
      "display_name": "R"
    },
    "language_info": {
      "name": "R"
    }
  },
  "cells": [
    {
      "cell_type": "markdown",
      "metadata": {
        "id": "view-in-github",
        "colab_type": "text"
      },
      "source": [
        "<a href=\"https://colab.research.google.com/github/yimstar9/Engineer-Big-Data-Analysis_R/blob/main/T1_9_%EC%88%98%EC%B9%98%ED%98%95_%EB%B3%80%EC%88%98_%ED%91%9C%EC%A4%80%ED%99%94.ipynb\" target=\"_parent\"><img src=\"https://colab.research.google.com/assets/colab-badge.svg\" alt=\"Open In Colab\"/></a>"
      ]
    },
    {
      "cell_type": "code",
      "execution_count": 25,
      "metadata": {
        "colab": {
          "base_uri": "https://localhost:8080/",
          "height": 52
        },
        "id": "0CpKbV5s2aLQ",
        "outputId": "5f69d9a1-8ed7-4acd-c34d-81c2a6737798"
      },
      "outputs": [
        {
          "output_type": "display_data",
          "data": {
            "text/html": [
              "0.259313257274601"
            ],
            "text/markdown": "0.259313257274601",
            "text/latex": "0.259313257274601",
            "text/plain": [
              "[1] 0.2593133"
            ]
          },
          "metadata": {}
        },
        {
          "output_type": "display_data",
          "data": {
            "text/html": [
              "0.259313257274601"
            ],
            "text/markdown": "0.259313257274601",
            "text/latex": "0.259313257274601",
            "text/plain": [
              "[1] 0.2593133"
            ]
          },
          "metadata": {}
        }
      ],
      "source": [
        "# 주어진 데이터에서 'f5'컬럼을 표준화(Standardization (Z-score Normalization))하고 그 중앙값을 구하시오\n",
        "# 데이터셋 : basic1.csv\n",
        "#install.packages(\"caret\")\n",
        "library(caret)\n",
        "df<-read.csv('basic1.csv')\n",
        "st=preProcess(df)\n",
        "median(predict(st,df)$f5,na.rm=T)\n",
        "\n",
        "df1<-na.omit(df$f5)\n",
        "m<-mean(df1)\n",
        "s<-sd(df1)\n",
        "df.z<-(df1-m)/s\n",
        "median(df.z)"
      ]
    }
  ]
}