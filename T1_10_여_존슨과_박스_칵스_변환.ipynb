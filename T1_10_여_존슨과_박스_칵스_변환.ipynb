{
  "nbformat": 4,
  "nbformat_minor": 0,
  "metadata": {
    "colab": {
      "provenance": [],
      "authorship_tag": "ABX9TyOhH8jAwJOh+RDJ2Yzn6+k+",
      "include_colab_link": true
    },
    "kernelspec": {
      "name": "ir",
      "display_name": "R"
    },
    "language_info": {
      "name": "R"
    }
  },
  "cells": [
    {
      "cell_type": "markdown",
      "metadata": {
        "id": "view-in-github",
        "colab_type": "text"
      },
      "source": [
        "<a href=\"https://colab.research.google.com/github/yimstar9/Engineer-Big-Data-Analysis_R/blob/main/T1_10_%EC%97%AC_%EC%A1%B4%EC%8A%A8%EA%B3%BC_%EB%B0%95%EC%8A%A4_%EC%B9%B5%EC%8A%A4_%EB%B3%80%ED%99%98.ipynb\" target=\"_parent\"><img src=\"https://colab.research.google.com/assets/colab-badge.svg\" alt=\"Open In Colab\"/></a>"
      ]
    },
    {
      "cell_type": "code",
      "execution_count": 33,
      "metadata": {
        "colab": {
          "base_uri": "https://localhost:8080/",
          "height": 34
        },
        "id": "44ye-FhiEUoM",
        "outputId": "8aed8731-6440-4161-e09c-3348a4576681"
      },
      "outputs": [
        {
          "output_type": "display_data",
          "data": {
            "text/html": [
              "451.45"
            ],
            "text/markdown": "451.45",
            "text/latex": "451.45",
            "text/plain": [
              "[1] 451.45"
            ]
          },
          "metadata": {}
        }
      ],
      "source": [
        "# 주어진 데이터에서 20세 이상의 데이터 추출한 후, 'f1'컬럼을 결측치를 최빈값으로 채운 후, \n",
        "# f1 컬럼의 여-존슨과 박스콕스 변환 값을 구하고, 두 값의 차이를 절대값으로 구한다음 모두 더해 소수점 둘째 자리까지 출력(반올림)하시오\n",
        "# 데이터셋 : basic1.csv\n",
        "library(dplyr)\n",
        "#install.packages(\"caret\")\n",
        "library(caret)\n",
        "df<-read.csv('basic1.csv')\n",
        "\n",
        "Yeo<-preProcess(df,'YeoJohnson')\n",
        "boxc<-preProcess(df,'BoxCox')\n",
        "\n",
        "df1<-df%>%filter(age>=20)%>%mutate(pre_f1=ifelse(is.na(f1),as.numeric(names(which.max(table(f1)))),f1))\n",
        "yeo_f1=(predict(Yeo,df1))$f1\n",
        "boxc_f1=(predict(boxc,df1))$f1\n",
        "round(sum(abs(yeo_f1-boxc_f1),na.rm=T),2)"
      ]
    }
  ]
}