{
  "nbformat": 4,
  "nbformat_minor": 0,
  "metadata": {
    "colab": {
      "provenance": [],
      "authorship_tag": "ABX9TyNGoy6woWLa4ZIJtzFqcD29",
      "include_colab_link": true
    },
    "kernelspec": {
      "name": "ir",
      "display_name": "R"
    },
    "language_info": {
      "name": "R"
    }
  },
  "cells": [
    {
      "cell_type": "markdown",
      "metadata": {
        "id": "view-in-github",
        "colab_type": "text"
      },
      "source": [
        "<a href=\"https://colab.research.google.com/github/yimstar9/Engineer-Big-Data-Analysis_R/blob/main/%5BR%5D_T1_23_%EC%A4%91%EB%B3%B5_%EB%8D%B0%EC%9D%B4%ED%84%B0_%EC%A0%9C%EA%B1%B0_Drop_Duplicates.ipynb\" target=\"_parent\"><img src=\"https://colab.research.google.com/assets/colab-badge.svg\" alt=\"Open In Colab\"/></a>"
      ]
    },
    {
      "cell_type": "code",
      "execution_count": 28,
      "metadata": {
        "colab": {
          "base_uri": "https://localhost:8080/",
          "height": 164
        },
        "id": "WZJLwQw4G9Oj",
        "outputId": "9876cbb6-5858-413c-f8be-f24e6d3e5667"
      },
      "outputs": [
        {
          "output_type": "display_data",
          "data": {
            "text/html": [
              "<table class=\"dataframe\">\n",
              "<caption>A data.frame: 1 × 1</caption>\n",
              "<thead>\n",
              "\t<tr><th scope=col>f1m</th></tr>\n",
              "\t<tr><th scope=col>&lt;dbl&gt;</th></tr>\n",
              "</thead>\n",
              "<tbody>\n",
              "\t<tr><td>0.5</td></tr>\n",
              "</tbody>\n",
              "</table>\n"
            ],
            "text/markdown": "\nA data.frame: 1 × 1\n\n| f1m &lt;dbl&gt; |\n|---|\n| 0.5 |\n\n",
            "text/latex": "A data.frame: 1 × 1\n\\begin{tabular}{l}\n f1m\\\\\n <dbl>\\\\\n\\hline\n\t 0.5\\\\\n\\end{tabular}\n",
            "text/plain": [
              "  f1m\n",
              "1 0.5"
            ]
          },
          "metadata": {}
        }
      ],
      "source": [
        "### f1의 결측치를 채운 후 age 컬럼의 중복 제거 전과 후의 중앙값의 차이를 구하시오 \n",
        "### 결측치는 f1의 데이터 중 10번째 큰 값으로 채움\n",
        "### 중복 데이터 발생시 뒤에 나오는 데이터를 삭제함\n",
        "### 최종 결과값은 절대값으로 출력\n",
        "# 데이터셋 : basic1.csv\n",
        "df<-read.csv('basic1.csv')\n",
        "library(dplyr)\n",
        "df%>%mutate(pre_f1=ifelse(is.na(f1),sort(f1,decreasing=T)[10],f1),remove_age=ifelse(duplicated(age),NA,pre_f1))%>%summarise(f1m=median(pre_f1)-median(remove_age,na.rm=T))"
      ]
    }
  ]
}