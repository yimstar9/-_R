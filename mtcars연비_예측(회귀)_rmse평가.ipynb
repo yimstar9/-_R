{
  "nbformat": 4,
  "nbformat_minor": 0,
  "metadata": {
    "colab": {
      "provenance": [],
      "authorship_tag": "ABX9TyMVC+KtLYf+ohgKDYqhQhME",
      "include_colab_link": true
    },
    "kernelspec": {
      "name": "ir",
      "display_name": "R"
    },
    "language_info": {
      "name": "R"
    }
  },
  "cells": [
    {
      "cell_type": "markdown",
      "metadata": {
        "id": "view-in-github",
        "colab_type": "text"
      },
      "source": [
        "<a href=\"https://colab.research.google.com/github/yimstar9/Engineer-Big-Data-Analysis_R/blob/main/mtcars%EC%97%B0%EB%B9%84_%EC%98%88%EC%B8%A1(%ED%9A%8C%EA%B7%80)_rmse%ED%8F%89%EA%B0%80.ipynb\" target=\"_parent\"><img src=\"https://colab.research.google.com/assets/colab-badge.svg\" alt=\"Open In Colab\"/></a>"
      ]
    },
    {
      "cell_type": "code",
      "execution_count": 1,
      "metadata": {
        "colab": {
          "base_uri": "https://localhost:8080/",
          "height": 376
        },
        "id": "piuADVJyDAo6",
        "outputId": "b2d1422d-dba8-4774-f7d6-c4bb0739a8db"
      },
      "outputs": [
        {
          "output_type": "stream",
          "name": "stderr",
          "text": [
            "Warning message in system(\"timedatectl\", intern = TRUE):\n",
            "“running command 'timedatectl' had status 1”\n",
            "── \u001b[1mAttaching packages\u001b[22m ─────────────────────────────────────── tidyverse 1.3.1 ──\n",
            "\n",
            "\u001b[32m✔\u001b[39m \u001b[34mggplot2\u001b[39m 3.4.0      \u001b[32m✔\u001b[39m \u001b[34mpurrr  \u001b[39m 0.3.5 \n",
            "\u001b[32m✔\u001b[39m \u001b[34mtibble \u001b[39m 3.1.8      \u001b[32m✔\u001b[39m \u001b[34mdplyr  \u001b[39m 1.0.10\n",
            "\u001b[32m✔\u001b[39m \u001b[34mtidyr  \u001b[39m 1.2.1      \u001b[32m✔\u001b[39m \u001b[34mstringr\u001b[39m 1.4.1 \n",
            "\u001b[32m✔\u001b[39m \u001b[34mreadr  \u001b[39m 2.1.3      \u001b[32m✔\u001b[39m \u001b[34mforcats\u001b[39m 0.5.2 \n",
            "\n",
            "── \u001b[1mConflicts\u001b[22m ────────────────────────────────────────── tidyverse_conflicts() ──\n",
            "\u001b[31m✖\u001b[39m \u001b[34mdplyr\u001b[39m::\u001b[32mfilter()\u001b[39m masks \u001b[34mstats\u001b[39m::filter()\n",
            "\u001b[31m✖\u001b[39m \u001b[34mdplyr\u001b[39m::\u001b[32mlag()\u001b[39m    masks \u001b[34mstats\u001b[39m::lag()\n",
            "\n"
          ]
        },
        {
          "output_type": "error",
          "ename": "ERROR",
          "evalue": "ignored",
          "traceback": [
            "Error in library(randomForest): there is no package called ‘randomForest’\nTraceback:\n",
            "1. library(randomForest)"
          ]
        }
      ],
      "source": [
        "\n",
        "\n",
        "library(tidyverse) # metapackage of all tidyverse packages\n",
        "\n",
        "data(mtcars)\n",
        "df<-mtcars\n",
        "library(dplyr)\n",
        "library(randomForest)\n",
        "library(caret)\n",
        "library(ModelMetrics)\n",
        "summary(mtcars)\n",
        "str(mtcars)\n",
        "df$carb<-as.factor(df$carb)\n",
        "dmy <- dummyVars(~., df) \n",
        "df <- data.frame(predict(dmy, newdata = df))\n",
        "\n",
        "df$am<-as.factor(df$am)\n",
        "df$vs<-as.factor(df$vs)\n",
        "df$gear<-as.factor(df$gear)\n",
        "df$cyl<-as.factor(df$cyl)\n",
        "\n",
        "\n",
        "idx<-sample(1:nrow(df),0.7*nrow(df))\n",
        "train<-df[idx,]\n",
        "test<-df[-idx,]\n",
        "\n",
        "m_rf<-randomForest(mpg~.,train,ntree=250)\n",
        "p_rf<-predict(m_rf,subset(test,select=-mpg))\n",
        "\n",
        "rmse(p_rf,test$mpg)\n",
        "\n"
      ]
    }
  ]
}