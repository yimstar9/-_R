{
  "nbformat": 4,
  "nbformat_minor": 0,
  "metadata": {
    "colab": {
      "provenance": [],
      "authorship_tag": "ABX9TyNA4OD6PxZhqZt72/JniUf+",
      "include_colab_link": true
    },
    "kernelspec": {
      "name": "ir",
      "display_name": "R"
    },
    "language_info": {
      "name": "R"
    }
  },
  "cells": [
    {
      "cell_type": "markdown",
      "metadata": {
        "id": "view-in-github",
        "colab_type": "text"
      },
      "source": [
        "<a href=\"https://colab.research.google.com/github/yimstar9/Engineer-Big-Data-Analysis_R/blob/main/%5BR%5D_T2_2_Pima_Indians_Diabetes(%ED%94%BC%EB%A7%88_%EC%9D%B8%EB%94%94%EC%96%B8_%EB%8B%B9%EB%87%A8%EB%B3%91)_2%ED%9A%8C%EB%8F%85.ipynb\" target=\"_parent\"><img src=\"https://colab.research.google.com/assets/colab-badge.svg\" alt=\"Open In Colab\"/></a>"
      ]
    },
    {
      "cell_type": "code",
      "execution_count": null,
      "metadata": {
        "id": "B4LpKv1dBAqs"
      },
      "outputs": [],
      "source": [
        "#https://www.kaggle.com/code/limmyoungjin/r-t2-2-pima-indians-diabetes/notebook\n",
        "# %% [markdown]\n",
        "#당뇨병 여부 판단\n",
        "#이상치 처리 (Glucose, BloodPressure, SkinThickness, Insulin, BMI가 0인 값)\n",
        "\n",
        "# %% [code] {\"execution\":{\"iopub.status.busy\":\"2021-11-09T11:50:53.836373Z\",\"iopub.execute_input\":\"2021-11-09T11:50:53.838413Z\",\"iopub.status.idle\":\"2021-11-09T11:50:53.983744Z\"}}\n",
        "# 시험환경 세팅 (코드 변경 X)\n",
        "library(randomForest)\n",
        "library(caret)\n",
        "library(ModelMetrics)\n",
        "library(nnet)\n",
        "df<-read.csv('../input/pima-indians-diabetes-database/diabetes.csv')\n",
        "\n",
        "colSums(is.na(df))\n",
        "\n",
        "#Pregnancies 제거\n",
        "df<-df[,-1]\n",
        "#종속변수 factor형으로\n",
        "df$Outcome<-as.factor(df$Outcome)\n",
        "#이상치 median으로 변경\n",
        "df[c(1:6)]<-sapply(df[c(1:6)],function (x) ifelse(x==0,mean(x,na.rm=TRUE),x))\n",
        "summary(df)\n",
        "\n",
        "idx<-sample(1:nrow(df),0.7*nrow(df))\n",
        "train<-df[idx,]\n",
        "test<-df[-idx,]\n",
        "\n",
        "m_rf<-randomForest(Outcome~.,train,ntree=100)\n",
        "p_rf<-predict(m_rf,subset(test,select=-c(Outcome)))\n",
        "\n",
        "caret::confusionMatrix(p_rf,test$Outcome)$byClass\n",
        "auc(p_rf,test$Outcome)\n",
        "\n",
        "result<-cbind(as.character(p_rf),as.character(test$Outcome))\n",
        "colnames(result)<-c(\"Pregnancies\",\"Outcome\")\n",
        "\n",
        "write.csv(result,\"0099.csv\",row.names=F)\n",
        "\n",
        "                   \n",
        "\n",
        "                   \n",
        "                   \n",
        "                   "
      ]
    }
  ]
}