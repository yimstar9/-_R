{
  "nbformat": 4,
  "nbformat_minor": 0,
  "metadata": {
    "colab": {
      "provenance": [],
      "authorship_tag": "ABX9TyMCr6KvsyoxMCELgsC6RmKj",
      "include_colab_link": true
    },
    "kernelspec": {
      "name": "ir",
      "display_name": "R"
    },
    "language_info": {
      "name": "R"
    }
  },
  "cells": [
    {
      "cell_type": "markdown",
      "metadata": {
        "id": "view-in-github",
        "colab_type": "text"
      },
      "source": [
        "<a href=\"https://colab.research.google.com/github/yimstar9/Engineer-Big-Data-Analysis_R/blob/main/4th_type2_score_0_3162.ipynb\" target=\"_parent\"><img src=\"https://colab.research.google.com/assets/colab-badge.svg\" alt=\"Open In Colab\"/></a>"
      ]
    },
    {
      "cell_type": "code",
      "execution_count": null,
      "metadata": {
        "id": "NJEktQsBzuIb"
      },
      "outputs": [],
      "source": [
        "# This R environment comes with many helpful analytics packages installed\n",
        "# It is defined by the kaggle/rstats Docker image: https://github.com/kaggle/docker-rstats\n",
        "# For example, here's a helpful package to load\n",
        "\n",
        "library(tidyverse) # metapackage of all tidyverse packages\n",
        "library(dplyr)\n",
        "library(ModelMetrics)\n",
        "library(caret)\n",
        "library(randomForest)\n",
        "#list.files(path = \"../input\")\n",
        "df_train<-read.csv(\"../input/big-data-analytics-certification-kr-2022/train.csv\")\n",
        "df_test<-read.csv(\"../input/big-data-analytics-certification-kr-2022/test.csv\")\n",
        "\n",
        "\n",
        "train<-df_train[,-1]\n",
        "test<-df_test[,-1]\n",
        "train <- train %>% mutate(Age=(Age%/%10)*10)%>%mutate_all(as.factor)\n",
        "test <- test %>%mutate(Age=(Age%/%10)*10)%>% mutate_all(as.factor)\n",
        "#train <- train %>%mutate(Age=(Age%/%10)*10)%>%mutate_at(vars(-Age),as.factor)\n",
        "#test <- test %>%mutate(Age=(Age%/%10)*10)%>%mutate_at(vars(-Age),as.factor)\n",
        "str(train)\n",
        "idx<-sample(1:nrow(train),0.7*nrow(train))\n",
        "x_train<-train[idx,]\n",
        "x_test<-train[-idx,]\n",
        "\n",
        "m_rf<-randomForest(Segmentation~.,x_train,ntree=200)\n",
        "p_rf<-predict(m_rf,x_test[,-10])\n",
        "\n",
        "table(x_test$Segmentation,p_rf)\n",
        "caret::confusionMatrix(x_test$Segmentation,p_rf)$overall\n",
        "caret::confusionMatrix(x_test$Segmentation,p_rf)$byClass\n",
        "\n",
        "m2_rf<-randomForest(Segmentation~.,train,ntree=500)\n",
        "p2_rf<-predict(m2_rf,test)\n",
        "result<-cbind(as.character(df_test[,1]),as.character(p2_rf))\n",
        "colnames(result)<-c(\"ID\",\"Segmentation\")\n",
        "write.csv(result,\"submission.csv\",row.names=F)\n",
        "zz<-read.csv(\"submission.csv\")\n",
        "head(zz)\n",
        "str(zz)"
      ]
    }
  ]
}