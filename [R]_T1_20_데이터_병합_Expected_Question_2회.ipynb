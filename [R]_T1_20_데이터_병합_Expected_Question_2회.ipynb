{
  "nbformat": 4,
  "nbformat_minor": 0,
  "metadata": {
    "colab": {
      "provenance": [],
      "authorship_tag": "ABX9TyPNIhdn7/o3eVTaFrYJohdp",
      "include_colab_link": true
    },
    "kernelspec": {
      "name": "ir",
      "display_name": "R"
    },
    "language_info": {
      "name": "R"
    }
  },
  "cells": [
    {
      "cell_type": "markdown",
      "metadata": {
        "id": "view-in-github",
        "colab_type": "text"
      },
      "source": [
        "<a href=\"https://colab.research.google.com/github/yimstar9/Engineer-Big-Data-Analysis_R/blob/main/%5BR%5D_T1_20_%EB%8D%B0%EC%9D%B4%ED%84%B0_%EB%B3%91%ED%95%A9_Expected_Question_2%ED%9A%8C.ipynb\" target=\"_parent\"><img src=\"https://colab.research.google.com/assets/colab-badge.svg\" alt=\"Open In Colab\"/></a>"
      ]
    },
    {
      "cell_type": "code",
      "execution_count": 1,
      "metadata": {
        "colab": {
          "base_uri": "https://localhost:8080/",
          "height": 486
        },
        "id": "ZITCP0Q94OzE",
        "outputId": "975b2483-3941-4f7e-ce62-55f5f27a8a24"
      },
      "outputs": [
        {
          "output_type": "stream",
          "name": "stderr",
          "text": [
            "\n",
            "Attaching package: ‘dplyr’\n",
            "\n",
            "\n",
            "The following objects are masked from ‘package:stats’:\n",
            "\n",
            "    filter, lag\n",
            "\n",
            "\n",
            "The following objects are masked from ‘package:base’:\n",
            "\n",
            "    intersect, setdiff, setequal, union\n",
            "\n",
            "\n",
            "Warning message in file(file, \"rt\"):\n",
            "“cannot open file '../input/bigdatacertificationkr/basic1.csv': No such file or directory”\n"
          ]
        },
        {
          "output_type": "error",
          "ename": "ERROR",
          "evalue": "ignored",
          "traceback": [
            "Error in file(file, \"rt\"): cannot open the connection\nTraceback:\n",
            "1. read.csv(\"../input/bigdatacertificationkr/basic1.csv\")",
            "2. read.table(file = file, header = header, sep = sep, quote = quote, \n .     dec = dec, fill = fill, comment.char = comment.char, ...)",
            "3. file(file, \"rt\")"
          ]
        }
      ],
      "source": [
        "library(dplyr)\n",
        "df1=read.csv('../input/bigdatacertificationkr/basic1.csv')\n",
        "df2=read.csv('../input/bigdatacertificationkr/basic3.csv')\n",
        "ans<-df1%>%inner_join(df2,by='f4')%>%filter(r2!='')%>%slice(1:20)%>%summarise(sum=sum(f2))\n",
        "print(ans)"
      ]
    }
  ]
}