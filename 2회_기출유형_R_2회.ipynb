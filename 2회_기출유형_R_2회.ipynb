{
  "nbformat": 4,
  "nbformat_minor": 0,
  "metadata": {
    "colab": {
      "provenance": [],
      "authorship_tag": "ABX9TyOCbV7+A5D4brFX5ChZ3f95",
      "include_colab_link": true
    },
    "kernelspec": {
      "name": "ir",
      "display_name": "R"
    },
    "language_info": {
      "name": "R"
    }
  },
  "cells": [
    {
      "cell_type": "markdown",
      "metadata": {
        "id": "view-in-github",
        "colab_type": "text"
      },
      "source": [
        "<a href=\"https://colab.research.google.com/github/yimstar9/Engineer-Big-Data-Analysis_R/blob/main/2%ED%9A%8C_%EA%B8%B0%EC%B6%9C%EC%9C%A0%ED%98%95_R_2%ED%9A%8C.ipynb\" target=\"_parent\"><img src=\"https://colab.research.google.com/assets/colab-badge.svg\" alt=\"Open In Colab\"/></a>"
      ]
    },
    {
      "cell_type": "code",
      "execution_count": 146,
      "metadata": {
        "colab": {
          "base_uri": "https://localhost:8080/",
          "height": 406
        },
        "id": "8Uk86o_p1rCX",
        "outputId": "8ab4cf43-3915-4098-c2ab-17b3acf2c980"
      },
      "outputs": [
        {
          "output_type": "display_data",
          "data": {
            "text/html": [
              "<table class=\"dataframe\">\n",
              "<caption>A data.frame: 1 × 1</caption>\n",
              "<thead>\n",
              "\t<tr><th scope=col>mean(pre_f5)</th></tr>\n",
              "\t<tr><th scope=col>&lt;dbl&gt;</th></tr>\n",
              "</thead>\n",
              "<tbody>\n",
              "\t<tr><td>62.49775</td></tr>\n",
              "</tbody>\n",
              "</table>\n"
            ],
            "text/markdown": "\nA data.frame: 1 × 1\n\n| mean(pre_f5) &lt;dbl&gt; |\n|---|\n| 62.49775 |\n\n",
            "text/latex": "A data.frame: 1 × 1\n\\begin{tabular}{l}\n mean(pre\\_f5)\\\\\n <dbl>\\\\\n\\hline\n\t 62.49775\\\\\n\\end{tabular}\n",
            "text/plain": [
              "  mean(pre_f5)\n",
              "1 62.49775    "
            ]
          },
          "metadata": {}
        },
        {
          "output_type": "display_data",
          "data": {
            "text/html": [
              "<table class=\"dataframe\">\n",
              "<caption>A data.frame: 1 × 1</caption>\n",
              "<thead>\n",
              "\t<tr><th scope=col>abs(sd(pre_f1) - sd(f1, na.rm = T))</th></tr>\n",
              "\t<tr><th scope=col>&lt;dbl&gt;</th></tr>\n",
              "</thead>\n",
              "<tbody>\n",
              "\t<tr><td>3.296502</td></tr>\n",
              "</tbody>\n",
              "</table>\n"
            ],
            "text/markdown": "\nA data.frame: 1 × 1\n\n| abs(sd(pre_f1) - sd(f1, na.rm = T)) &lt;dbl&gt; |\n|---|\n| 3.296502 |\n\n",
            "text/latex": "A data.frame: 1 × 1\n\\begin{tabular}{l}\n abs(sd(pre\\_f1) - sd(f1, na.rm = T))\\\\\n <dbl>\\\\\n\\hline\n\t 3.296502\\\\\n\\end{tabular}\n",
            "text/plain": [
              "  abs(sd(pre_f1) - sd(f1, na.rm = T))\n",
              "1 3.296502                           "
            ]
          },
          "metadata": {}
        },
        {
          "output_type": "display_data",
          "data": {
            "text/html": [
              "<table class=\"dataframe\">\n",
              "<caption>A data.frame: 1 × 1</caption>\n",
              "<thead>\n",
              "\t<tr><th scope=col>sum(age)</th></tr>\n",
              "\t<tr><th scope=col>&lt;dbl&gt;</th></tr>\n",
              "</thead>\n",
              "<tbody>\n",
              "\t<tr><td>473.5</td></tr>\n",
              "</tbody>\n",
              "</table>\n"
            ],
            "text/markdown": "\nA data.frame: 1 × 1\n\n| sum(age) &lt;dbl&gt; |\n|---|\n| 473.5 |\n\n",
            "text/latex": "A data.frame: 1 × 1\n\\begin{tabular}{l}\n sum(age)\\\\\n <dbl>\\\\\n\\hline\n\t 473.5\\\\\n\\end{tabular}\n",
            "text/plain": [
              "  sum(age)\n",
              "1 473.5   "
            ]
          },
          "metadata": {}
        }
      ],
      "source": [
        "#https://www.kaggle.com/code/limmyoungjin/tutorial-t1-2-r-2/notebook\n",
        "#T1 2회 기출유형 R_2회\n",
        "df<-read.csv('basic1.csv')\n",
        "\n",
        "########################## Q1 ##########################\n",
        "# 데이터셋(basic1.csv)의 'f5' 컬럼을 기준으로 상위 10개의 데이터를 구하고,\n",
        "# 'f5'컬럼 10개 중 최소값으로 데이터를 대체한 후,\n",
        "# 'age'컬럼에서 80 이상인 데이터의'f5 컬럼 평균값 구하기\n",
        "library(dplyr)\n",
        "df %>% arrange(-f5) %>% mutate(pre_f5=ifelse(f5>=f5[10],f5[10],f5)) %>% filter(age>=80)%>%summarise(mean(pre_f5))\n",
        "\n",
        " \n",
        "########################## Q2 ##########################\n",
        "# 데이터셋(basic1.csv)의 앞에서 순서대로 70% 데이터만 활용해서,\n",
        "# 'f1'컬럼 결측치를 중앙값으로 채우기 전후의 표준편차를 구하고\n",
        "# 두 표준편차 차이 계산하기\n",
        "df%>%head(nrow(df)*0.7)%>%mutate(pre_f1=ifelse(is.na(f1),median(f1,na.rm = T),f1))%>%summarise(abs(sd(pre_f1)-sd(f1,na.rm = T)))\n",
        "\n",
        "\n",
        "########################## Q3 ##########################\n",
        "# 데이터셋(basic1.csv)의 'age'컬럼의 이상치를 더하시오!\n",
        "# 단, 평균으로부터 '표준편차*1.5'를 벗어나는 영역을 이상치라고 판단함\n",
        "df%>%filter(age<(mean(age)-1.5*sd(age))|age>(mean(age)+1.5*sd(age)))%>%summarise(sum(age))"
      ]
    }
  ]
}