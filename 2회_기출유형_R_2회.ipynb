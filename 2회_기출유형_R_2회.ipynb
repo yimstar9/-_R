{
  "nbformat": 4,
  "nbformat_minor": 0,
  "metadata": {
    "colab": {
      "provenance": [],
      "authorship_tag": "ABX9TyP6WKCnGbIVgSIhcR4x9/rd",
      "include_colab_link": true
    },
    "kernelspec": {
      "name": "ir",
      "display_name": "R"
    },
    "language_info": {
      "name": "R"
    }
  },
  "cells": [
    {
      "cell_type": "markdown",
      "metadata": {
        "id": "view-in-github",
        "colab_type": "text"
      },
      "source": [
        "<a href=\"https://colab.research.google.com/github/yimstar9/Engineer-Big-Data-Analysis_R/blob/main/2%ED%9A%8C_%EA%B8%B0%EC%B6%9C%EC%9C%A0%ED%98%95_R_2%ED%9A%8C.ipynb\" target=\"_parent\"><img src=\"https://colab.research.google.com/assets/colab-badge.svg\" alt=\"Open In Colab\"/></a>"
      ]
    },
    {
      "cell_type": "code",
      "execution_count": 130,
      "metadata": {
        "colab": {
          "base_uri": "https://localhost:8080/",
          "height": 147
        },
        "id": "8Uk86o_p1rCX",
        "outputId": "609491ed-dc98-4392-a6c0-e3f57bc4779c"
      },
      "outputs": [
        {
          "output_type": "display_data",
          "data": {
            "text/html": [
              "<table class=\"dataframe\">\n",
              "<caption>A data.frame: 1 × 1</caption>\n",
              "<thead>\n",
              "\t<tr><th scope=col>mean(pre_f5)</th></tr>\n",
              "\t<tr><th scope=col>&lt;dbl&gt;</th></tr>\n",
              "</thead>\n",
              "<tbody>\n",
              "\t<tr><td>62.49775</td></tr>\n",
              "</tbody>\n",
              "</table>\n"
            ],
            "text/markdown": "\nA data.frame: 1 × 1\n\n| mean(pre_f5) &lt;dbl&gt; |\n|---|\n| 62.49775 |\n\n",
            "text/latex": "A data.frame: 1 × 1\n\\begin{tabular}{l}\n mean(pre\\_f5)\\\\\n <dbl>\\\\\n\\hline\n\t 62.49775\\\\\n\\end{tabular}\n",
            "text/plain": [
              "  mean(pre_f5)\n",
              "1 62.49775    "
            ]
          },
          "metadata": {}
        }
      ],
      "source": [
        "#https://www.kaggle.com/code/limmyoungjin/tutorial-t1-2-r-2/notebook\n",
        "#T1 2회 기출유형 R_2회\n",
        "df<-read.csv('basic1.csv')\n",
        "# 데이터셋(basic1.csv)의 'f5' 컬럼을 기준으로 상위 10개의 데이터를 구하고,\n",
        "# 'f5'컬럼 10개 중 최소값으로 데이터를 대체한 후,\n",
        "# 'age'컬럼에서 80 이상인 데이터의'f5 컬럼 평균값 구하기\n",
        "library(dplyr)\n",
        " df %>% arrange(-f5) %>% mutate(pre_f5=ifelse(f5>=f5[10],f5[10],f5)) %>% filter(age>=80)%>%summarise(mean(pre_f5))\n",
        "\n",
        " "
      ]
    }
  ]
}