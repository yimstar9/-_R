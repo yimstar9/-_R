{
  "nbformat": 4,
  "nbformat_minor": 0,
  "metadata": {
    "colab": {
      "provenance": [],
      "authorship_tag": "ABX9TyMr+8mh3HUtl19gQYmCphvq",
      "include_colab_link": true
    },
    "kernelspec": {
      "name": "ir",
      "display_name": "R"
    },
    "language_info": {
      "name": "R"
    }
  },
  "cells": [
    {
      "cell_type": "markdown",
      "metadata": {
        "id": "view-in-github",
        "colab_type": "text"
      },
      "source": [
        "<a href=\"https://colab.research.google.com/github/yimstar9/Engineer-Big-Data-Analysis_R/blob/main/T1_22~24.ipynb\" target=\"_parent\"><img src=\"https://colab.research.google.com/assets/colab-badge.svg\" alt=\"Open In Colab\"/></a>"
      ]
    },
    {
      "cell_type": "code",
      "execution_count": null,
      "metadata": {
        "id": "DvBHJVzZKJlK"
      },
      "outputs": [],
      "source": [
        "T1_22\n",
        "library(dplyr)\n",
        "df<-read.csv('../input/bigdatacertificationkr/basic2.csv')\n",
        "ans<-df%>%mutate(week=cut(as.Date(Date),breaks ='week'))%>%group_by(week)%>%summarise(v=sum(Sales))%>%summarise(ans=(max(v)-min(v)))\n",
        "cat(ans$ans)\n",
        "\n",
        "T1_23\n",
        "library(dplyr)\n",
        "df<-read.csv('../input/bigdatacertificationkr/basic1.csv')\n",
        "ans<-df%>%mutate(pre_f1=ifelse(is.na(f1),(sort(f1,decreasing=T))[10],f1),duplicated_age=ifelse(duplicated(age),NA,pre_f1))%>%summarise(v=median(pre_f1)-median(duplicated_age,na.rm=T))\n",
        "print(ans)\n",
        "\n",
        "T1_24\n",
        "df<-read.csv('basic2.csv')\n",
        "library(dplyr)\n",
        "library(data.table)\n",
        "df %>% mutate(la=shift(PV,1))%>% filter(Events==1 & Sales<=1000000) %>% summarise(value=sum(la))"
      ]
    }
  ]
}