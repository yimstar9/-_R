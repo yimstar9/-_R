{
  "nbformat": 4,
  "nbformat_minor": 0,
  "metadata": {
    "colab": {
      "provenance": [],
      "authorship_tag": "ABX9TyO3xAoN6epIQR6NXU9zAudQ",
      "include_colab_link": true
    },
    "kernelspec": {
      "name": "ir",
      "display_name": "R"
    },
    "language_info": {
      "name": "R"
    }
  },
  "cells": [
    {
      "cell_type": "markdown",
      "metadata": {
        "id": "view-in-github",
        "colab_type": "text"
      },
      "source": [
        "<a href=\"https://colab.research.google.com/github/yimstar9/Engineer-Big-Data-Analysis_R/blob/main/bike_sharing_count_predict(REGRESSION).ipynb\" target=\"_parent\"><img src=\"https://colab.research.google.com/assets/colab-badge.svg\" alt=\"Open In Colab\"/></a>"
      ]
    },
    {
      "cell_type": "code",
      "execution_count": null,
      "metadata": {
        "id": "DMG02g7sd4rY"
      },
      "outputs": [],
      "source": [
        " # %% [code] {\"jupyter\":{\"outputs_hidden\":false},\"execution\":{\"iopub.status.busy\":\"2022-11-21T06:17:23.093280Z\",\"iopub.execute_input\":\"2022-11-21T06:17:23.095423Z\",\"iopub.status.idle\":\"2022-11-21T06:17:26.204835Z\"}}\n",
        "# 시험환경 세팅 (코드 변경 x)\n",
        "#Bike-sharing-demand\n",
        "library(dplyr)\n",
        "library(caret)\n",
        "library(ModelMetrics)\n",
        "library(lubridate)\n",
        "library(randomForest)\n",
        "train<-read.csv('../input/bike-sharing-demand/train.csv')\n",
        "test<-read.csv('../input/bike-sharing-demand/test.csv')\n",
        "\n",
        "train$datetime<-as.POSIXct(train$datetime, format=\"%Y-%m-%d %H:%M:%S\")\n",
        "\n",
        "train<-train%>%mutate(hour=hour(datetime))\n",
        "train$hour <- as.factor(train$hour)\n",
        "train$season <- as.factor(train$season)\n",
        "train$holiday <- as.factor(train$holiday)\n",
        "train$workingday <- as.factor(train$workingday)\n",
        "train$weather <- as.factor(train$weather)\n",
        "\n",
        "test$datetime<-as.POSIXct(test$datetime, format=\"%Y-%m-%d %H:%M:%S\")\n",
        "test<-test%>%mutate(hour=hour(datetime))\n",
        "test$hour <- as.factor(test$hour)\n",
        "test$season <- as.factor(test$season)\n",
        "test$holiday <- as.factor(test$holiday)\n",
        "test$workingday <- as.factor(test$workingday)\n",
        "test$weather <- as.factor(test$weather)\n",
        "\n",
        "\n",
        "\n",
        "#colSums(is.na(train)) #결측치 없음\n",
        "#cor(train$registered,train$count)  #registered 와 count 상관관계 0.97\n",
        "\n",
        "train<-train[,-1]\n",
        "#test<-test[,-1]\n",
        "idx<-sample(1:nrow(train),0.7*nrow(train))\n",
        "x_train<- train[idx,]\n",
        "x_test<- train[-idx,]\n",
        "\n",
        "\n",
        "\n",
        "# count종속변수\n",
        "m_rf<-randomForest(count~.,x_train,ntree=100)\n",
        "pred_rf<-predict(m_rf,x_test[,-11])\n",
        "rmse(pred_rf,x_test[,11]) ## RMSE:12.7652\n",
        "R2(pred_rf,x_test[,11])   ## R2score:0.996\n",
        "\n",
        "\n",
        "## registered 종속변수\n",
        "mr_rf<-randomForest(registered~.,x_train,ntree=100)\n",
        "predr_rf<-predict(mr_rf,x_test[,-10])\n",
        "rmse(predr_rf,x_test[,10]) ## RMSE:13.6788\n",
        "R2(predr_rf,x_test[,10])   ## R2score:0.9992\n",
        "\n",
        "\n",
        "## casual 종속변수\n",
        "mc_rf<-randomForest(casual~.,x_train,ntree=100)\n",
        "predc_rf<-predict(mc_rf,x_test[,-9])\n",
        "rmse(predc_rf,x_test[,9]) ## RMSE:11.692\n",
        "R2(predc_rf,x_test[,9])   ## R2score:0.954\n",
        "\n",
        "\n",
        "#test셋 모델링 및 예측\n",
        "m2_rf<-randomForest(count~.,train[,-c(9,10)],ntree=100)\n",
        "pred2_rf<-predict(m2_rf,test[,-c(1)])\n",
        "\n",
        "#결과 제출\n",
        "result<-cbind(as.character(test[,1]),as.character(pred2_rf))\n",
        "colnames(result)<-c(\"datetime\",\"count\")\n",
        "head(result)\n",
        "write.csv(result,\"0099.csv\",row.names=F)\n",
        "zz<-read.csv(\"0099.csv\")\n",
        "head(zz)\n",
        "\n"
      ]
    }
  ]
}